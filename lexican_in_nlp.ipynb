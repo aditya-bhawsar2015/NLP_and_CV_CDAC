{
 "cells": [
  {
   "cell_type": "code",
   "execution_count": null,
   "id": "443148e1",
   "metadata": {},
   "outputs": [],
   "source": [
    "# nltk using 3 NLTK corpora\n",
    "import nltk\n",
    "from nltk.corpus import wordnet, framenet as fn\n",
    "from nltk.corpus import propbank\n",
    "from nltk.corpus.reader.verbnet import VerbnetCorpusReader"
   ]
  },
  {
   "cell_type": "code",
   "execution_count": 5,
   "id": "7deda98d",
   "metadata": {},
   "outputs": [
    {
     "name": "stderr",
     "output_type": "stream",
     "text": [
      "[nltk_data] Downloading package wordnet to\n",
      "[nltk_data]     C:\\Users\\dai.STUDENTSDC\\AppData\\Roaming\\nltk_data...\n",
      "[nltk_data]   Package wordnet is already up-to-date!\n",
      "[nltk_data] Downloading package propbank to\n",
      "[nltk_data]     C:\\Users\\dai.STUDENTSDC\\AppData\\Roaming\\nltk_data...\n",
      "[nltk_data]   Package propbank is already up-to-date!\n"
     ]
    },
    {
     "data": {
      "text/plain": [
       "True"
      ]
     },
     "execution_count": 5,
     "metadata": {},
     "output_type": "execute_result"
    }
   ],
   "source": [
    "# Ensure required corpora for download\n",
    "nltk.download('wordnet')\n",
    "nltk.download('propbank')"
   ]
  },
  {
   "cell_type": "code",
   "execution_count": 4,
   "id": "6c27f0a9",
   "metadata": {},
   "outputs": [
    {
     "name": "stderr",
     "output_type": "stream",
     "text": [
      "[nltk_data] Downloading package framenet_v17 to\n",
      "[nltk_data]     C:\\Users\\dai.STUDENTSDC\\AppData\\Roaming\\nltk_data...\n",
      "[nltk_data]   Unzipping corpora\\framenet_v17.zip.\n"
     ]
    },
    {
     "data": {
      "text/plain": [
       "True"
      ]
     },
     "execution_count": 4,
     "metadata": {},
     "output_type": "execute_result"
    }
   ],
   "source": [
    "nltk.download('framenet_v17')"
   ]
  },
  {
   "cell_type": "code",
   "execution_count": 6,
   "id": "88c8d35b",
   "metadata": {},
   "outputs": [
    {
     "name": "stdout",
     "output_type": "stream",
     "text": [
      "WordNet Examples:\n",
      "Synonyms: ['happy', 'felicitous', 'happy', 'glad', 'happy', 'happy', 'well-chosen']\n",
      "Antonyms: ['unhappy']\n"
     ]
    }
   ],
   "source": [
    "# WordNet : Synonyms and Antonyms for \"happy\"\n",
    "print(\"WordNet Examples:\")\n",
    "synonyms = wordnet.synsets(\"happy\")\n",
    "print(\"Synonyms:\",[lemma.name() for synset in synonyms for lemma in synset.lemmas()])\n",
    "\n",
    "antonyms = []\n",
    "for syn in wordnet.synsets(\"happy\"):\n",
    "    for lemma in syn.lemmas():\n",
    "        if lemma.antonyms():\n",
    "            antonyms.append(lemma.antonyms()[0].name())\n",
    "\n",
    "print(\"Antonyms:\", antonyms)"
   ]
  },
  {
   "cell_type": "code",
   "execution_count": 7,
   "id": "d05d909f",
   "metadata": {},
   "outputs": [
    {
     "name": "stdout",
     "output_type": "stream",
     "text": [
      "Framenet Examles : \n",
      "Frame Name : Emotion_directed\n",
      "Frame Definition : The adjectives and nouns in this frame describe an Experiencer who is feeling or experiencing a particular emotional response to a Stimulus or about a Topic.  There can also be a Circumstances under which the response occurs or a Reason that the Stimulus evokes the particular response in the Experiencer.  'Mr. Whiskers is upset that there are no more cat treats.' 'The furious parent stormed into the office.' 'Franz gets infuriated at the thought of his ex-wife remarried.' ' She flashed a jubilant smile.' \n",
      "Frame Name : Luck\n",
      "Frame Definition : A State_of_affairs is evaluated as good (or bad), against a background assumption that previously, the State_of_affairs was thought to be unlikely to occur. The State_of_affairs holds for a particular Protagonist.  'He is a lucky gambler.'\n"
     ]
    }
   ],
   "source": [
    "# Framenet : Retrieving Frames for \"happy\"\n",
    "print(\"Framenet Examles : \")\n",
    "frames = fn.frames_by_lemma(\"happy\")\n",
    "if frames:\n",
    "    for frame in frames[:3]:            # Limiting to first 3 frames\n",
    "        print(f\"Frame Name : {frame.name}\")\n",
    "        print(f\"Frame Definition : {frame.definition}\")\n",
    "else:\n",
    "    print(\"No frames found for 'happy'.\") "
   ]
  },
  {
   "cell_type": "code",
   "execution_count": 11,
   "id": "a6208b1e",
   "metadata": {},
   "outputs": [
    {
     "name": "stdout",
     "output_type": "stream",
     "text": [
      "\n",
      "PropBank Example:\n",
      "Total PropBank Rolesets: 4659\n",
      "\n",
      "Roleset ID: abandon.01\n",
      " Arg0 : abandoner\n",
      " Arg1 : thing abandoned, left behind\n",
      " Arg2 : attribute of arg1\n",
      "\n",
      "Roleset ID: abandon.02\n",
      " Arg0 : abandoner\n",
      " Arg1 : thing abandoned, left behind\n",
      " Arg2 : preferred item\n",
      "\n",
      "Roleset ID: abandon.03\n",
      " Arg0 : entity abandoning something\n",
      " Arg1 : thing abandoned\n",
      " Arg2 : benefactive, abandoned-to\n",
      "Roleset parsing Completed.\n",
      "\n",
      "Filtering instances for a specific verb.....\n",
      "\n",
      "Found 374 instances for verb 'run\n",
      "Sentence ID: wsj_0027.mrg, Roleset: run.01\n",
      "Sentence ID: wsj_0034.mrg, Roleset: run.05\n"
     ]
    }
   ],
   "source": [
    "# PropBank :Rolesets : Result in XML , need to parse it\n",
    "print(\"\\nPropBank Example:\")\n",
    "try:\n",
    "    rolesets = propbank.rolesets()\n",
    "    print(f\"Total PropBank Rolesets: {len(rolesets)}\")\n",
    "\n",
    "    # Display info for first 3 rolesets\n",
    "    for roleset in rolesets[:3]:\n",
    "        roleset_id = roleset.get('id', 'N/A')\n",
    "        print(f\"\\nRoleset ID: {roleset_id}\")\n",
    "\n",
    "        # Print each role(if any)\n",
    "        roles = roleset.findall('roles/role')\n",
    "        for role in roles:\n",
    "            n = role.attrib.get('n', '?')\n",
    "            descr = role.attrib.get('descr', '')\n",
    "            print(f\" Arg{n} : {descr}\")\n",
    "    \n",
    "    print(\"Roleset parsing Completed.\")        \n",
    "    # Example of filtering instances for a specific verb\n",
    "    if propbank.instances():\n",
    "        print(\"\\nFiltering instances for a specific verb.....\")\n",
    "        target_verb = \"run\"\n",
    "        instances = propbank.instances()\n",
    "        filtered = [inst for inst in instances if inst.roleset.startswith(f\"{target_verb}.\")]\n",
    "\n",
    "        print(f\"\\nFound {len(filtered)} instances for verb '{target_verb}\")\n",
    "\n",
    "        # Disply details for a few\n",
    "        for inst in filtered[:2]:\n",
    "            print(f\"Sentence ID: {inst.fileid}, Roleset: {inst.roleset}\")\n",
    "            \n",
    "            \n",
    "except Exception as e:\n",
    "    print(f\"Error: {e}\")"
   ]
  },
  {
   "cell_type": "code",
   "execution_count": null,
   "id": "9c36d4ea",
   "metadata": {},
   "outputs": [],
   "source": []
  }
 ],
 "metadata": {
  "kernelspec": {
   "display_name": ".venv",
   "language": "python",
   "name": "python3"
  },
  "language_info": {
   "codemirror_mode": {
    "name": "ipython",
    "version": 3
   },
   "file_extension": ".py",
   "mimetype": "text/x-python",
   "name": "python",
   "nbconvert_exporter": "python",
   "pygments_lexer": "ipython3",
   "version": "3.13.2"
  }
 },
 "nbformat": 4,
 "nbformat_minor": 5
}
