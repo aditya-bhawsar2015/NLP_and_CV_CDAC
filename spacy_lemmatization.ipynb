{
 "cells": [
  {
   "cell_type": "code",
   "execution_count": 3,
   "id": "381350ce",
   "metadata": {},
   "outputs": [
    {
     "name": "stdout",
     "output_type": "stream",
     "text": [
      "Original word: The, Lemmatized word: the\n",
      "Original word: cats, Lemmatized word: cat\n",
      "Original word: are, Lemmatized word: be\n",
      "Original word: running, Lemmatized word: run\n",
      "Original word: in, Lemmatized word: in\n",
      "Original word: the, Lemmatized word: the\n",
      "Original word: garden, Lemmatized word: garden\n",
      "Original word: ., Lemmatized word: .\n",
      "\n",
      "Original word: She, Lemmatized word: she\n",
      "Original word: bettered, Lemmatized word: better\n",
      "Original word: her, Lemmatized word: her\n",
      "Original word: skills, Lemmatized word: skill\n",
      "Original word: by, Lemmatized word: by\n",
      "Original word: practicing, Lemmatized word: practice\n",
      "Original word: regularly, Lemmatized word: regularly\n",
      "Original word: ., Lemmatized word: .\n",
      "\n",
      "Original word: Mice, Lemmatized word: mouse\n",
      "Original word: and, Lemmatized word: and\n",
      "Original word: rats, Lemmatized word: rat\n",
      "Original word: can, Lemmatized word: can\n",
      "Original word: be, Lemmatized word: be\n",
      "Original word: found, Lemmatized word: find\n",
      "Original word: in, Lemmatized word: in\n",
      "Original word: the, Lemmatized word: the\n",
      "Original word: bins, Lemmatized word: bin\n",
      "\n"
     ]
    }
   ],
   "source": [
    "# How spaCy lemmatization is better ......\n",
    "import spacy\n",
    "\n",
    "nlp = spacy.load('en_core_web_sm')\n",
    "\n",
    "# Define a list of sentences for lemmatization\n",
    "sentences = [\n",
    "    \"The cats are running in the garden.\",\n",
    "    \"She bettered her skills by practicing regularly.\",\n",
    "    \"Mice and rats can be found in the bins\"\n",
    "]\n",
    "\n",
    "# Perfrom lemmatization for each senteence\n",
    "for sentence in sentences:\n",
    "    # process the text to create a Doc object\n",
    "    doc = nlp(sentence)\n",
    "\n",
    "    # Print each original word and its lemmatized form\n",
    "    for token in doc:\n",
    "        print(f\"Original word: {token.text}, Lemmatized word: {token.lemma_}\")\n",
    "\n",
    "    # Print a newline  between sentences for better readability\n",
    "    print()\n"
   ]
  },
  {
   "cell_type": "code",
   "execution_count": 4,
   "id": "ecbcbad9",
   "metadata": {},
   "outputs": [
    {
     "name": "stdout",
     "output_type": "stream",
     "text": [
      "I \t PRON \t 4690420944186131903 \t I\n",
      "am \t AUX \t 10382539506755952630 \t be\n",
      "a \t DET \t 11901859001352538922 \t a\n",
      "runner \t NOUN \t 12640964157389618806 \t runner\n",
      "racing \t NOUN \t 854088606751205306 \t racing\n",
      "in \t ADP \t 3002984154512732771 \t in\n",
      "a \t DET \t 11901859001352538922 \t a\n",
      "race \t NOUN \t 8048469955494714898 \t race\n",
      "because \t SCONJ \t 16950148841647037698 \t because\n",
      "I \t PRON \t 4690420944186131903 \t I\n",
      "love \t VERB \t 3702023516439754181 \t love\n",
      "to \t PART \t 3791531372978436496 \t to\n",
      "run \t VERB \t 12767647472892411841 \t run\n",
      "since \t SCONJ \t 10066841407251338481 \t since\n",
      "I \t PRON \t 4690420944186131903 \t I\n",
      "ran \t VERB \t 12767647472892411841 \t run\n",
      "today \t NOUN \t 11042482332948150395 \t today\n",
      ". \t PUNCT \t 12646065887601541794 \t .\n"
     ]
    }
   ],
   "source": [
    "\n",
    "doc1 = nlp(u\"I am a runner racing in a race because I love to run since I ran today.\")       \n",
    "\n",
    "for token in doc1:\n",
    "    print(token.text, \"\\t\", token.pos_, \"\\t\", token.lemma, \"\\t\", token.lemma_)\n",
    "\n",
    "# lemma is internal hash value of the lemma_ , and lema_ is the actual lemma"
   ]
  },
  {
   "cell_type": "code",
   "execution_count": null,
   "id": "52431256",
   "metadata": {},
   "outputs": [],
   "source": []
  }
 ],
 "metadata": {
  "kernelspec": {
   "display_name": ".venv",
   "language": "python",
   "name": "python3"
  },
  "language_info": {
   "codemirror_mode": {
    "name": "ipython",
    "version": 3
   },
   "file_extension": ".py",
   "mimetype": "text/x-python",
   "name": "python",
   "nbconvert_exporter": "python",
   "pygments_lexer": "ipython3",
   "version": "3.13.2"
  }
 },
 "nbformat": 4,
 "nbformat_minor": 5
}
