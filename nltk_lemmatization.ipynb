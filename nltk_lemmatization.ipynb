{
 "cells": [
  {
   "cell_type": "code",
   "execution_count": 1,
   "id": "023f3c79",
   "metadata": {},
   "outputs": [],
   "source": [
    "# Lemmatization , but in nltk\n",
    "from nltk.stem import WordNetLemmatizer\n",
    "from nltk.tokenize import word_tokenize"
   ]
  },
  {
   "cell_type": "code",
   "execution_count": 2,
   "id": "9976e7cf",
   "metadata": {},
   "outputs": [
    {
     "name": "stderr",
     "output_type": "stream",
     "text": [
      "[nltk_data] Downloading package wordnet to\n",
      "[nltk_data]     C:\\Users\\dai.STUDENTSDC\\AppData\\Roaming\\nltk_data...\n"
     ]
    }
   ],
   "source": [
    "import nltk\n",
    "nltk.download('wordnet')\n",
    "lemmatizer = WordNetLemmatizer()"
   ]
  },
  {
   "cell_type": "code",
   "execution_count": 3,
   "id": "f84018a8",
   "metadata": {},
   "outputs": [
    {
     "name": "stdout",
     "output_type": "stream",
     "text": [
      "going\n",
      "going\n",
      "go\n"
     ]
    }
   ],
   "source": [
    "# Easy Word\n",
    "print(lemmatizer.lemmatize('going'))   # Output is going\n",
    "print(lemmatizer.lemmatize('going', pos='n'))   # No change .... we are saying it a noun\n",
    "print(lemmatizer.lemmatize('going', pos='v'))   # Now a verbb ..... Now the output as expected"
   ]
  },
  {
   "cell_type": "code",
   "execution_count": 4,
   "id": "bfdc26b3",
   "metadata": {},
   "outputs": [],
   "source": [
    "words = \"\"\"\n",
    "He is playing the music beautifully. She has painted this piture so well. They will be going to Mumbai tomorrow. By when will they have returned?\n",
    "Historically batting is better than bowling first.\n",
    "\"\"\"\n",
    "\n",
    "# Tokenize the text into words\n",
    "tokenized_words = word_tokenize(words)"
   ]
  },
  {
   "cell_type": "code",
   "execution_count": null,
   "id": "ac740c61",
   "metadata": {},
   "outputs": [
    {
     "name": "stdout",
     "output_type": "stream",
     "text": [
      "** Lemmatizing using verb option **\n",
      "Word: He => Stemmed from : He\n",
      "Word: is => Stemmed from : be\n",
      "Word: playing => Stemmed from : play\n",
      "Word: the => Stemmed from : the\n",
      "Word: music => Stemmed from : music\n",
      "Word: beautifully => Stemmed from : beautifully\n",
      "Word: . => Stemmed from : .\n",
      "Word: She => Stemmed from : She\n",
      "Word: has => Stemmed from : have\n",
      "Word: painted => Stemmed from : paint\n",
      "Word: this => Stemmed from : this\n",
      "Word: piture => Stemmed from : piture\n",
      "Word: so => Stemmed from : so\n",
      "Word: well => Stemmed from : well\n",
      "Word: . => Stemmed from : .\n",
      "Word: They => Stemmed from : They\n",
      "Word: will => Stemmed from : will\n",
      "Word: be => Stemmed from : be\n",
      "Word: going => Stemmed from : go\n",
      "Word: to => Stemmed from : to\n",
      "Word: Mumbai => Stemmed from : Mumbai\n",
      "Word: tomorrow => Stemmed from : tomorrow\n",
      "Word: . => Stemmed from : .\n",
      "Word: By => Stemmed from : By\n",
      "Word: when => Stemmed from : when\n",
      "Word: will => Stemmed from : will\n",
      "Word: they => Stemmed from : they\n",
      "Word: have => Stemmed from : have\n",
      "Word: returned => Stemmed from : return\n",
      "Word: ? => Stemmed from : ?\n",
      "Word: Historically => Stemmed from : Historically\n",
      "Word: batting => Stemmed from : bat\n",
      "Word: is => Stemmed from : be\n",
      "Word: better => Stemmed from : better\n",
      "Word: than => Stemmed from : than\n",
      "Word: bowling => Stemmed from : bowl\n",
      "Word: first => Stemmed from : first\n",
      "Word: . => Stemmed from : .\n"
     ]
    }
   ],
   "source": [
    "# applying lemmatizing\n",
    "print(\"** Lemmatizing using verb option **\")\n",
    "for word in tokenized_words:\n",
    "    print(f\"Word: {word} => Stemmed from : {lemmatizer.lemmatize(word, pos='v')}\")               # here pos : part of speech"
   ]
  }
 ],
 "metadata": {
  "kernelspec": {
   "display_name": ".venv",
   "language": "python",
   "name": "python3"
  },
  "language_info": {
   "codemirror_mode": {
    "name": "ipython",
    "version": 3
   },
   "file_extension": ".py",
   "mimetype": "text/x-python",
   "name": "python",
   "nbconvert_exporter": "python",
   "pygments_lexer": "ipython3",
   "version": "3.13.2"
  }
 },
 "nbformat": 4,
 "nbformat_minor": 5
}
