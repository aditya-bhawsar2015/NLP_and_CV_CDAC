{
 "cells": [
  {
   "cell_type": "code",
   "execution_count": 1,
   "id": "8dd41ae3",
   "metadata": {},
   "outputs": [],
   "source": [
    "# Semcor : large corpora/datasets of texts with annotation ( references for each word )\n",
    "from nltk.corpus import semcor\n",
    "from nltk.tree import Tree\n",
    "import re"
   ]
  },
  {
   "cell_type": "code",
   "execution_count": 2,
   "id": "54833264",
   "metadata": {},
   "outputs": [
    {
     "name": "stderr",
     "output_type": "stream",
     "text": [
      "[nltk_data] Downloading package semcor to\n",
      "[nltk_data]     C:\\Users\\dai.STUDENTSDC\\AppData\\Roaming\\nltk_data...\n",
      "[nltk_data]   Package semcor is already up-to-date!\n"
     ]
    },
    {
     "data": {
      "text/plain": [
       "True"
      ]
     },
     "execution_count": 2,
     "metadata": {},
     "output_type": "execute_result"
    }
   ],
   "source": [
    "import nltk\n",
    "nltk.download('semcor')"
   ]
  },
  {
   "cell_type": "code",
   "execution_count": 3,
   "id": "6dd6825f",
   "metadata": {},
   "outputs": [],
   "source": [
    "# load a semcor sentence\n",
    "sent = semcor.tagged_sents(tag='sem')[999]"
   ]
  },
  {
   "cell_type": "code",
   "execution_count": 4,
   "id": "4c3f535f",
   "metadata": {},
   "outputs": [
    {
     "name": "stdout",
     "output_type": "stream",
     "text": [
      "SemCor Tagged Sentence: \n",
      "(Lemma('one-upmanship.n.01.one-upmanship') Oneupmanship)\n",
      "['is']\n",
      "(Lemma('practice.v.01.practice') practiced)\n",
      "['by']\n",
      "['both']\n",
      "(Lemma('side.n.02.side') sides)\n",
      "['in']\n",
      "['a']\n",
      "(total.s.00 total)\n",
      "(Lemma('war.n.01.war') war)\n",
      "['.']\n",
      "\n",
      "--------------------------------------------------\n"
     ]
    }
   ],
   "source": [
    "# Step-1 : Show raw semCor tokens\n",
    "print(\"SemCor Tagged Sentence: \")\n",
    "for token in sent:\n",
    "    print(token)\n",
    "print(\"\\n\" + \"-\"*50)    "
   ]
  },
  {
   "cell_type": "code",
   "execution_count": 5,
   "id": "4a4b72e4",
   "metadata": {},
   "outputs": [],
   "source": [
    "# Step-2 : Reconstruct sentence\n",
    "words = []\n",
    "for token in sent:\n",
    "    if isinstance(token, Tree):\n",
    "        for leaf in token.leaves():\n",
    "            if isinstance(leaf, list):\n",
    "                words.extend(str[subleaf] for subleaf in leaf)\n",
    "            else:\n",
    "                words.append(str(leaf))    \n",
    "    else:\n",
    "        words.append(str(token))            \n",
    "\n",
    "\n",
    "# Join and fix punctuation spacing\n",
    "sentence = ' '.join(words)\n",
    "sentence = re.sub(r'\\s+([?.!,;:])', r'\\1', sentence)"
   ]
  },
  {
   "cell_type": "code",
   "execution_count": 6,
   "id": "5bc3719e",
   "metadata": {},
   "outputs": [
    {
     "name": "stdout",
     "output_type": "stream",
     "text": [
      "Reconstructed Sentence: \n",
      "Oneupmanship ['is'] practiced ['by'] ['both'] sides ['in'] ['a'] total war ['.']\n"
     ]
    }
   ],
   "source": [
    "# Step-3 : Show reconstructed sentence\n",
    "print(\"Reconstructed Sentence: \")\n",
    "print(sentence)"
   ]
  },
  {
   "cell_type": "code",
   "execution_count": null,
   "id": "5e7c8b5f",
   "metadata": {},
   "outputs": [],
   "source": []
  }
 ],
 "metadata": {
  "kernelspec": {
   "display_name": ".venv",
   "language": "python",
   "name": "python3"
  },
  "language_info": {
   "codemirror_mode": {
    "name": "ipython",
    "version": 3
   },
   "file_extension": ".py",
   "mimetype": "text/x-python",
   "name": "python",
   "nbconvert_exporter": "python",
   "pygments_lexer": "ipython3",
   "version": "3.13.2"
  }
 },
 "nbformat": 4,
 "nbformat_minor": 5
}
