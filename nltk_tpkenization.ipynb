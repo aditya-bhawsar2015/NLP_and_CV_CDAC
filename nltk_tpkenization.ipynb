{
 "cells": [
  {
   "cell_type": "code",
   "execution_count": 1,
   "id": "ec967782",
   "metadata": {},
   "outputs": [
    {
     "name": "stdout",
     "output_type": "stream",
     "text": [
      "['Hi', 'Everyone', '!', 'hola', 'gr8']\n"
     ]
    }
   ],
   "source": [
    "# Word tokenization using NLTK\n",
    "s = \"Hi Everyone ! hola gr8\"\n",
    "\n",
    "# Python's basic whiteshape tokenizer\n",
    "print(s.split())  # ['Hi', 'Everyone', '!', 'hola', 'gr8']"
   ]
  },
  {
   "cell_type": "code",
   "execution_count": 2,
   "id": "d86c885c",
   "metadata": {},
   "outputs": [
    {
     "name": "stdout",
     "output_type": "stream",
     "text": [
      "['Hi', 'Everyone', '!', 'hola', 'gr8']\n"
     ]
    }
   ],
   "source": [
    "# NLTK's standard word tokenizer (handles punctuations better)\n",
    "from nltk.tokenize import word_tokenize\n",
    "print(word_tokenize(s))    #  ['Hi', 'Everyone', '!', 'hola', 'gr8']"
   ]
  },
  {
   "cell_type": "code",
   "execution_count": 3,
   "id": "bee9e6ec",
   "metadata": {},
   "outputs": [
    {
     "name": "stdout",
     "output_type": "stream",
     "text": [
      "['Hi', 'Everyone', '!', 'hola', 'gr8']\n"
     ]
    }
   ],
   "source": [
    "from nltk.tokenize import wordpunct_tokenize\n",
    "# wordpunct_tokenize seperates words and punctuations more cleanly, similar to word_tokenize\n",
    "print(wordpunct_tokenize(s))        #  ['Hi', 'Everyone', '!', 'hola', 'gr8']"
   ]
  },
  {
   "cell_type": "code",
   "execution_count": 4,
   "id": "96e3cbc1",
   "metadata": {},
   "outputs": [
    {
     "name": "stdout",
     "output_type": "stream",
     "text": [
      "['Hi', 'Everyone', 'hola', 'gr8']\n"
     ]
    }
   ],
   "source": [
    "# NLTK RefexpTokenizer - only words (alphanumeric characters)\n",
    "from nltk.tokenize import regexp_tokenize, wordpunct_tokenize, blankline_tokenize\n",
    "print(regexp_tokenize(s, pattern=r'\\w+'))         # ['Hi', 'Everyone', 'hola', 'gr8']"
   ]
  },
  {
   "cell_type": "code",
   "execution_count": 5,
   "id": "9c99927a",
   "metadata": {},
   "outputs": [
    {
     "name": "stdout",
     "output_type": "stream",
     "text": [
      "['8']\n"
     ]
    }
   ],
   "source": [
    "# RegexpTokenizer - only digits\n",
    "print(regexp_tokenize(s, pattern=r'\\d+'))   # ['8']"
   ]
  },
  {
   "cell_type": "code",
   "execution_count": 6,
   "id": "ffdf77b8",
   "metadata": {},
   "outputs": [
    {
     "name": "stdout",
     "output_type": "stream",
     "text": [
      "['123']\n"
     ]
    }
   ],
   "source": [
    "s = '123'\n",
    "print(regexp_tokenize\n",
    "      (s, pattern=r'\\d+'))  # ['123']"
   ]
  },
  {
   "cell_type": "code",
   "execution_count": null,
   "id": "9f358188",
   "metadata": {},
   "outputs": [],
   "source": []
  }
 ],
 "metadata": {
  "kernelspec": {
   "display_name": ".venv",
   "language": "python",
   "name": "python3"
  },
  "language_info": {
   "codemirror_mode": {
    "name": "ipython",
    "version": 3
   },
   "file_extension": ".py",
   "mimetype": "text/x-python",
   "name": "python",
   "nbconvert_exporter": "python",
   "pygments_lexer": "ipython3",
   "version": "3.13.2"
  }
 },
 "nbformat": 4,
 "nbformat_minor": 5
}
