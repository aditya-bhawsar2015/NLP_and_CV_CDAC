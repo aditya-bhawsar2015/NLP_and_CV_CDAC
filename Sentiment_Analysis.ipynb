{
  "cells": [
    {
      "cell_type": "code",
      "execution_count": null,
      "metadata": {
        "colab": {
          "base_uri": "https://localhost:8080/"
        },
        "id": "QU1Y3yjziMkj",
        "outputId": "bfea241b-b518-4f3d-eb70-958c034b42f2"
      },
      "outputs": [
        {
          "name": "stderr",
          "output_type": "stream",
          "text": [
            "[nltk_data] Downloading package vader_lexicon to /root/nltk_data...\n",
            "[nltk_data]   Package vader_lexicon is already up-to-date!\n"
          ]
        },
        {
          "data": {
            "text/plain": [
              "True"
            ]
          },
          "execution_count": 4,
          "metadata": {},
          "output_type": "execute_result"
        }
      ],
      "source": [
        "#VADER to analyze sentiments (ready, ruke-based open source model in NLTK)\n",
        "import nltk\n",
        "nltk.download('vader_lexicon')"
      ]
    },
    {
      "cell_type": "code",
      "execution_count": null,
      "metadata": {
        "id": "Ha-sqg9CjIo2"
      },
      "outputs": [],
      "source": [
        "from nltk.sentiment.vader import SentimentIntensityAnalyzer"
      ]
    },
    {
      "cell_type": "code",
      "execution_count": null,
      "metadata": {
        "id": "6Cn3DN3fjNLB"
      },
      "outputs": [],
      "source": [
        "sid = SentimentIntensityAnalyzer()"
      ]
    },
    {
      "cell_type": "code",
      "execution_count": null,
      "metadata": {
        "id": "R02oocfwjQ1e"
      },
      "outputs": [],
      "source": [
        "sentences = [\n",
        "    \"I love this product! It's amazing.\",\n",
        "    \"The weather is terrible today.\",\n",
        "    \"I'm not sure if I like this movie.\",\n",
        "    \"Overall, it was an average performance.\",\n",
        "    \"Not too bad.\",\n",
        "    \"I did somewhat ok in the test.\",\n",
        "    \"I did ok in the test\",\n",
        "    \"Doing this will be TERRIBLE!!!\",\n",
        "    \"Doing this will be terrible.\",\n",
        "    \"Spacy is a great library for NLP.\"\n",
        "]"
      ]
    },
    {
      "cell_type": "code",
      "execution_count": null,
      "metadata": {
        "colab": {
          "base_uri": "https://localhost:8080/"
        },
        "id": "plD8EzxUkF03",
        "outputId": "3d3331aa-9913-4337-aa46-782e2b1ec5fc"
      },
      "outputs": [
        {
          "name": "stdout",
          "output_type": "stream",
          "text": [
            "I love this product! It's amazing. --> {'neg': 0.0, 'neu': 0.266, 'pos': 0.734, 'compound': 0.8516}\n",
            "Positive\n",
            "The weather is terrible today. --> {'neg': 0.437, 'neu': 0.563, 'pos': 0.0, 'compound': -0.4767}\n",
            "Negative\n",
            "I'm not sure if I like this movie. --> {'neg': 0.449, 'neu': 0.551, 'pos': 0.0, 'compound': -0.4717}\n",
            "Negative\n",
            "Overall, it was an average performance. --> {'neg': 0.0, 'neu': 1.0, 'pos': 0.0, 'compound': 0.0}\n",
            "Neutral\n",
            "Not too bad. --> {'neg': 0.0, 'neu': 0.412, 'pos': 0.588, 'compound': 0.431}\n",
            "Positive\n",
            "I did somewhat ok in the test. --> {'neg': 0.0, 'neu': 0.724, 'pos': 0.276, 'compound': 0.228}\n",
            "Positive\n",
            "I did ok in the test --> {'neg': 0.0, 'neu': 0.645, 'pos': 0.355, 'compound': 0.296}\n",
            "Positive\n",
            "Doing this will be TERRIBLE!!! --> {'neg': 0.541, 'neu': 0.459, 'pos': 0.0, 'compound': -0.6917}\n",
            "Negative\n",
            "Doing this will be terrible. --> {'neg': 0.437, 'neu': 0.563, 'pos': 0.0, 'compound': -0.4767}\n",
            "Negative\n",
            "Spacy is a great library for NLP. --> {'neg': 0.0, 'neu': 0.549, 'pos': 0.451, 'compound': 0.6249}\n",
            "Positive\n"
          ]
        }
      ],
      "source": [
        "#Analyze sentiment for each sentence\n",
        "for sent in sentences:\n",
        "  senti_sc = sid.polarity_scores(sent)\n",
        "  print(f'{sent} --> {senti_sc}')\n",
        "\n",
        "  if senti_sc['compound'] >= 0.05:\n",
        "    print('Positive')\n",
        "  elif senti_sc['compound'] <= -0.05:\n",
        "    print('Negative')\n",
        "  else:\n",
        "    print('Neutral')"
      ]
    },
    {
      "cell_type": "code",
      "execution_count": null,
      "metadata": {
        "id": "CD-fI3QWk5wx"
      },
      "outputs": [],
      "source": []
    }
  ],
  "metadata": {
    "colab": {
      "provenance": []
    },
    "kernelspec": {
      "display_name": "Python 3",
      "name": "python3"
    },
    "language_info": {
      "name": "python"
    }
  },
  "nbformat": 4,
  "nbformat_minor": 0
}
