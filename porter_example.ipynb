{
 "cells": [
  {
   "cell_type": "code",
   "execution_count": 3,
   "id": "3dda1115",
   "metadata": {},
   "outputs": [
    {
     "name": "stdout",
     "output_type": "stream",
     "text": [
      "Word : relate => Stemmed from : relat\n",
      "Word : relativity => Stemmed from : rel\n"
     ]
    }
   ],
   "source": [
    "from nltk.stem import PorterStemmer\n",
    "import nltk\n",
    "\n",
    "word_1 = \"relate\"\n",
    "word_2 = \"relativity\"\n",
    "stemming = PorterStemmer()\n",
    "print(f\"Word : {word_1} => Stemmed from : {stemming.stem(word_1)}\")\n",
    "print(f\"Word : {word_2} => Stemmed from : {stemming.stem(word_2)}\")"
   ]
  },
  {
   "cell_type": "code",
   "execution_count": 4,
   "id": "32ea8330",
   "metadata": {},
   "outputs": [
    {
     "name": "stdout",
     "output_type": "stream",
     "text": [
      "Word : probe => Stemmed from : probe\n",
      "Word : probate => Stemmed from : probat\n"
     ]
    }
   ],
   "source": [
    "# Another Example :\n",
    "word_1 = \"probe\"\n",
    "word_2 = \"probate\"\n",
    "print(f\"Word : {word_1} => Stemmed from : {stemming.stem(word_1)}\")\n",
    "print(f\"Word : {word_2} => Stemmed from : {stemming.stem(word_2)}\")"
   ]
  },
  {
   "cell_type": "code",
   "execution_count": null,
   "id": "7b7ef722",
   "metadata": {},
   "outputs": [],
   "source": [
    "#############################################################################################################################################################################"
   ]
  },
  {
   "cell_type": "code",
   "execution_count": 5,
   "id": "cdd23dad",
   "metadata": {},
   "outputs": [],
   "source": [
    "from nltk.stem import SnowballStemmer\n",
    "import nltk"
   ]
  },
  {
   "cell_type": "code",
   "execution_count": 7,
   "id": "7182dd35",
   "metadata": {},
   "outputs": [
    {
     "name": "stdout",
     "output_type": "stream",
     "text": [
      "Word : relate => Stemmed from : relat\n",
      "Word : relativity => Stemmed from : relat\n"
     ]
    }
   ],
   "source": [
    "word_1 = \"relate\"\n",
    "word_2 = \"relativity\"\n",
    "stemming = SnowballStemmer(language='english')\n",
    "print(f\"Word : {word_1} => Stemmed from : {stemming.stem(word_1)}\")\n",
    "print(f\"Word : {word_2} => Stemmed from : {stemming.stem(word_2)}\")"
   ]
  },
  {
   "cell_type": "code",
   "execution_count": 8,
   "id": "bfd7f8ef",
   "metadata": {},
   "outputs": [
    {
     "name": "stdout",
     "output_type": "stream",
     "text": [
      "Word : probe => Stemmed from : probe\n",
      "Word : probate => Stemmed from : probat\n"
     ]
    }
   ],
   "source": [
    "# Another Example :\n",
    "word_1 = \"probe\"\n",
    "word_2 = \"probate\"\n",
    "print(f\"Word : {word_1} => Stemmed from : {stemming.stem(word_1)}\")\n",
    "print(f\"Word : {word_2} => Stemmed from : {stemming.stem(word_2)}\")"
   ]
  }
 ],
 "metadata": {
  "kernelspec": {
   "display_name": ".venv",
   "language": "python",
   "name": "python3"
  },
  "language_info": {
   "codemirror_mode": {
    "name": "ipython",
    "version": 3
   },
   "file_extension": ".py",
   "mimetype": "text/x-python",
   "name": "python",
   "nbconvert_exporter": "python",
   "pygments_lexer": "ipython3",
   "version": "3.13.2"
  }
 },
 "nbformat": 4,
 "nbformat_minor": 5
}
