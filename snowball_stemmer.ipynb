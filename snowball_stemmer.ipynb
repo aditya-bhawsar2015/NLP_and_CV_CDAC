{
 "cells": [
  {
   "cell_type": "code",
   "execution_count": 1,
   "id": "a9905862",
   "metadata": {},
   "outputs": [],
   "source": [
    "# porter stemmer in NLTK\n",
    "import nltk\n",
    "from nltk.stem.snowball import SnowballStemmer\n",
    "\n",
    "snowball_stemmer = SnowballStemmer(language='english')\n",
    "\n",
    "# Example words to be stemmed\n",
    "words = ['running' ,'ran', 'runner', 'flies', 'fairly', 'happiness', 'agreed', 'trouble', 'meeting', 'flies', 'easily']"
   ]
  },
  {
   "cell_type": "code",
   "execution_count": 2,
   "id": "82a67b53",
   "metadata": {},
   "outputs": [
    {
     "name": "stdout",
     "output_type": "stream",
     "text": [
      "Original : running ------------> Stemmed : run\n",
      "Original : ran ------------> Stemmed : ran\n",
      "Original : runner ------------> Stemmed : runner\n",
      "Original : flies ------------> Stemmed : fli\n",
      "Original : fairly ------------> Stemmed : fair\n",
      "Original : happiness ------------> Stemmed : happi\n",
      "Original : agreed ------------> Stemmed : agre\n",
      "Original : trouble ------------> Stemmed : troubl\n",
      "Original : meeting ------------> Stemmed : meet\n",
      "Original : flies ------------> Stemmed : fli\n",
      "Original : easily ------------> Stemmed : easili\n"
     ]
    }
   ],
   "source": [
    "\n",
    "# Display the original and stemmed words\n",
    "for word in words:\n",
    "    print(f\"Original : {word} ------------> Stemmed : {snowball_stemmer.stem(word)}\")"
   ]
  }
 ],
 "metadata": {
  "kernelspec": {
   "display_name": ".venv",
   "language": "python",
   "name": "python3"
  },
  "language_info": {
   "codemirror_mode": {
    "name": "ipython",
    "version": 3
   },
   "file_extension": ".py",
   "mimetype": "text/x-python",
   "name": "python",
   "nbconvert_exporter": "python",
   "pygments_lexer": "ipython3",
   "version": "3.13.2"
  }
 },
 "nbformat": 4,
 "nbformat_minor": 5
}
