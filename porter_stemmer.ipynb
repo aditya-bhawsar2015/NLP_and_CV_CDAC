{
 "cells": [
  {
   "cell_type": "code",
   "execution_count": 1,
   "id": "29397486",
   "metadata": {},
   "outputs": [
    {
     "name": "stderr",
     "output_type": "stream",
     "text": [
      "[nltk_data] Downloading package punkt to\n",
      "[nltk_data]     C:\\Users\\dai.STUDENTSDC\\AppData\\Roaming\\nltk_data...\n",
      "[nltk_data]   Package punkt is already up-to-date!\n"
     ]
    },
    {
     "data": {
      "text/plain": [
       "True"
      ]
     },
     "execution_count": 1,
     "metadata": {},
     "output_type": "execute_result"
    }
   ],
   "source": [
    "# porter stemmer in NLTK\n",
    "import nltk\n",
    "from nltk.stem import PorterStemmer\n",
    "\n",
    "nltk.download('punkt')"
   ]
  },
  {
   "cell_type": "code",
   "execution_count": 2,
   "id": "788b3220",
   "metadata": {},
   "outputs": [
    {
     "name": "stdout",
     "output_type": "stream",
     "text": [
      "Original : running ------------> Stemmed : run\n",
      "Original : ran ------------> Stemmed : ran\n",
      "Original : runner ------------> Stemmed : runner\n",
      "Original : flies ------------> Stemmed : fli\n",
      "Original : fairly ------------> Stemmed : fairli\n",
      "Original : happiness ------------> Stemmed : happi\n",
      "Original : agreed ------------> Stemmed : agre\n",
      "Original : trouble ------------> Stemmed : troubl\n",
      "Original : meeting ------------> Stemmed : meet\n",
      "Original : flies ------------> Stemmed : fli\n",
      "Original : easily ------------> Stemmed : easili\n"
     ]
    }
   ],
   "source": [
    "# Creater a porter stemmer object\n",
    "porter_stemmer = PorterStemmer()\n",
    "\n",
    "# Example words to be stemmed\n",
    "words = ['running' ,'ran', 'runner', 'flies', 'fairly', 'happiness', 'agreed', 'trouble', 'meeting', 'flies', 'easily']\n",
    "\n",
    "# Display the original and stemmed words\n",
    "for word in words:\n",
    "    print(f\"Original : {word} ------------> Stemmed : {porter_stemmer.stem(word)}\")"
   ]
  }
 ],
 "metadata": {
  "kernelspec": {
   "display_name": ".venv",
   "language": "python",
   "name": "python3"
  },
  "language_info": {
   "codemirror_mode": {
    "name": "ipython",
    "version": 3
   },
   "file_extension": ".py",
   "mimetype": "text/x-python",
   "name": "python",
   "nbconvert_exporter": "python",
   "pygments_lexer": "ipython3",
   "version": "3.13.2"
  }
 },
 "nbformat": 4,
 "nbformat_minor": 5
}
