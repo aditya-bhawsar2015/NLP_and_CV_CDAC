{
 "cells": [
  {
   "cell_type": "code",
   "execution_count": 1,
   "id": "0b434c58",
   "metadata": {},
   "outputs": [],
   "source": [
    "# image rotation (1) simple and (2) using affine transformation\n",
    "import cv2\n",
    "import numpy as np\n",
    "\n",
    "img = cv2.imread(\"dog-cat.jpg\")"
   ]
  },
  {
   "cell_type": "code",
   "execution_count": 2,
   "id": "1f77997f",
   "metadata": {},
   "outputs": [
    {
     "data": {
      "text/plain": [
       "13"
      ]
     },
     "execution_count": 2,
     "metadata": {},
     "output_type": "execute_result"
    }
   ],
   "source": [
    "# Get image dimensions (height, width, channels)\n",
    "height, width = img.shape[:2]\n",
    "\n",
    "cv2.imshow(\"Original Image\", img)\n",
    "cv2.waitKey(0)"
   ]
  },
  {
   "cell_type": "code",
   "execution_count": 3,
   "id": "fa7b7f73",
   "metadata": {},
   "outputs": [
    {
     "name": "stdout",
     "output_type": "stream",
     "text": [
      "Rotated 90 CW Image saved. Dimenstions : 626 x 1000\n"
     ]
    }
   ],
   "source": [
    "# --- 1. Simple 90/180/270 Degree Rotations (using cv2.rotate) ---\n",
    "# This method is highly optimized and effecient for these specific angles.\n",
    "\n",
    "# Rotate 90 Degrees clockwise\n",
    "rotated_90_clockwise = cv2.rotate(img, cv2.ROTATE_90_CLOCKWISE)\n",
    "cv2.imshow(\"Totated 90 Degrees Clockwise\", rotated_90_clockwise)\n",
    "cv2.waitKey(0)\n",
    "cv2.imwrite(\"dog-cat-rotated-90cw.jpg\", rotated_90_clockwise)\n",
    "print(f\"Rotated 90 CW Image saved. Dimenstions : {rotated_90_clockwise.shape[1]} x {rotated_90_clockwise.shape[0]}\")"
   ]
  },
  {
   "cell_type": "code",
   "execution_count": 4,
   "id": "283c722a",
   "metadata": {},
   "outputs": [
    {
     "name": "stdout",
     "output_type": "stream",
     "text": [
      "Rotated 90 CCW Image saved. Dimensions : 626 x 1000\n"
     ]
    }
   ],
   "source": [
    "# Rotate 90 Degree counter clockwise\n",
    "rotated_90_counter_clockwise = cv2.rotate(img, cv2.ROTATE_90_COUNTERCLOCKWISE)\n",
    "cv2.imshow(\"Totated 90 Degrees Counter-Clockwise\", rotated_90_counter_clockwise)\n",
    "cv2.waitKey(0)\n",
    "cv2.imwrite(\"dog-cat-rotated-90ccw.jpg\", rotated_90_counter_clockwise)\n",
    "print(f\"Rotated 90 CCW Image saved. Dimensions : {rotated_90_counter_clockwise.shape[1]} x {rotated_90_counter_clockwise.shape[0]}\")"
   ]
  },
  {
   "cell_type": "code",
   "execution_count": 5,
   "id": "81976ad6",
   "metadata": {},
   "outputs": [
    {
     "name": "stdout",
     "output_type": "stream",
     "text": [
      "Rotated 180 image saved. Dimensions : 1000 x 626\n"
     ]
    }
   ],
   "source": [
    "# Rotate 180 degrees\n",
    "rotated_180 = cv2.rotate(img, cv2.ROTATE_180)\n",
    "cv2.imshow(\"Rotated 180 Degrees\", rotated_180)\n",
    "cv2.waitKey(0)\n",
    "cv2.imwrite(\"dog-cat-rotated-180.jpg\", rotated_180)\n",
    "print(f\"Rotated 180 image saved. Dimensions : {rotated_180.shape[1]} x {rotated_180.shape[0]}\")"
   ]
  },
  {
   "cell_type": "code",
   "execution_count": 6,
   "id": "95cefae2",
   "metadata": {},
   "outputs": [],
   "source": [
    "# --- 2. Arbitrary Angle Rotation (Affine Transform) ---\n",
    "# This uses cv2.getRotationMatrix2D to create a transformation matrix, and cv2.wrapAffine to apply it. This is flexible for any angle\n",
    "\n",
    "# Define the rotation parameters : \n",
    "angle = 45      # Angle in degrees (positive for counter-clockwise, negative for clockwise)\n",
    "scale = 1.0     # Scaling factor (1.0 means no scaling)\n",
    "\n",
    "# Calculate the center of the image for rotation\n",
    "center = (width // 2, height // 2)"
   ]
  },
  {
   "cell_type": "code",
   "execution_count": 7,
   "id": "5cee8347",
   "metadata": {},
   "outputs": [],
   "source": [
    "# Get the 2x3 rotation matrix\n",
    "# M = cv2.getRotationMatrix2D (center, angle, scale)\n",
    "# Parameters :\n",
    "# 1. Rotation Center : (x, y) coordinates around which the image will rotate\n",
    "# 2. Angle : Rotation angle in degrees. Poitive values mean counter-clockwise rotation (mathematical positive).\n",
    "# 3. Scale : Scaling factor. 1.0 means no scaling.\n",
    "M_45_degrees = cv2.getRotationMatrix2D(center, angle, scale)"
   ]
  },
  {
   "cell_type": "code",
   "execution_count": 8,
   "id": "c2ff8cf0",
   "metadata": {},
   "outputs": [
    {
     "name": "stdout",
     "output_type": "stream",
     "text": [
      "Rotated 45 def (cut) imaage saved. Dimenstions : 1000 x 626\n"
     ]
    }
   ],
   "source": [
    "# Apply the Affine Transformation\n",
    "# rotated = cv2.wrapAffine(src, M, dsize, borderMode, borderValue)\n",
    "# Parameters : \n",
    "# 1. src : Input image\n",
    "# 2. M : 2x3 transformation Matrix.\n",
    "# 3. dsize : Size of the output image (width, height).\n",
    "# It's crucial to set this correctly. If we use (width, height) of the original image, parts of the rotated image might be cut-off.\n",
    "# To prevent croping, we calculate a new dsize that fits the rotated image.\n",
    "\n",
    "rotated_45_degrees = cv2.warpAffine(img, M_45_degrees, (width, height))   # Use original size, so potential cropping\n",
    "cv2.imshow(f\"Rotated {angle} Degrees (Cut Off)\", rotated_45_degrees)\n",
    "cv2.waitKey(0)\n",
    "cv2.imwrite(f\"dog-cat-rotated-{angle}def-cut.jpg\", rotated_45_degrees)\n",
    "print(f\"Rotated {angle} def (cut) imaage saved. Dimenstions : {rotated_45_degrees.shape[1]} x {rotated_45_degrees.shape[0]}\") "
   ]
  },
  {
   "cell_type": "code",
   "execution_count": 9,
   "id": "76f9e689",
   "metadata": {},
   "outputs": [],
   "source": [
    "# --- 3. Arbitrary Angle Rotation without Cropping (Adjusting Output Size) ---\n",
    "# To prevent pars of the image from being cut off dusing rotattion, we need to calculate the new bounding box dimenstions for the rotated image.\n",
    "\n",
    "# Calculate the dimensions for the rotated image\n",
    "# This invlves applying the rotattion to the corners of the original image and finding the min/max x and y coordinates.\n",
    "cos = np.abs(M_45_degrees[0,0])   # M[0,0] = cos(angle) * scale\n",
    "sin = np.abs(M_45_degrees[0,1])   # M[0,1] = sin(angle) * scale\n",
    "new_width = int((height * sin) + (width * cos))\n",
    "new_height = int((height * cos) + (width * sin))"
   ]
  },
  {
   "cell_type": "code",
   "execution_count": 10,
   "id": "2fe3bdb7",
   "metadata": {},
   "outputs": [
    {
     "name": "stdout",
     "output_type": "stream",
     "text": [
      "Rotated 45 def (full) image saved. Dimensions : 1149 x 1149\n",
      "All rotation demonstration complete.\n"
     ]
    }
   ],
   "source": [
    "# Adjust the transformation matrix to account for the new cnter and translation\n",
    "# The translation shift (tx, ty) is M[0,2], M[1,2]\n",
    "M_45_degrees[0,2] += (new_width/2) - center[0]\n",
    "M_45_degrees[1,2] += (new_height/2) - center[1]\n",
    "rotated_45_degrees_full = cv2.warpAffine(img , M_45_degrees, (new_width, new_height))\n",
    "cv2.imshow(f\"Rotated {angle} Degrees (Full Image)\", rotated_45_degrees_full)\n",
    "cv2.waitKey(0)\n",
    "cv2.imwrite(f\"dog-cat-rotated0-{angle}def-full.jpg\", rotated_45_degrees_full)\n",
    "print(f\"Rotated {angle} def (full) image saved. Dimensions : {rotated_45_degrees_full.shape[1]} x {rotated_45_degrees_full.shape[0]}\")\n",
    "cv2.destroyAllWindows()\n",
    "print(\"All rotation demonstration complete.\")"
   ]
  },
  {
   "cell_type": "code",
   "execution_count": null,
   "id": "6546e167",
   "metadata": {},
   "outputs": [],
   "source": []
  }
 ],
 "metadata": {
  "kernelspec": {
   "display_name": ".venv",
   "language": "python",
   "name": "python3"
  },
  "language_info": {
   "codemirror_mode": {
    "name": "ipython",
    "version": 3
   },
   "file_extension": ".py",
   "mimetype": "text/x-python",
   "name": "python",
   "nbconvert_exporter": "python",
   "pygments_lexer": "ipython3",
   "version": "3.13.2"
  }
 },
 "nbformat": 4,
 "nbformat_minor": 5
}
