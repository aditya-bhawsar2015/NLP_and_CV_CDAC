{
 "cells": [
  {
   "cell_type": "code",
   "execution_count": 3,
   "id": "d214a9da",
   "metadata": {},
   "outputs": [
    {
     "name": "stdout",
     "output_type": "stream",
     "text": [
      "Word : The\t Is Stop Word: True\n",
      "Word : best\t Is Stop Word: False\n",
      "Word : minds\t Is Stop Word: False\n",
      "Word : are\t Is Stop Word: True\n",
      "Word : the\t Is Stop Word: True\n",
      "Word : noes\t Is Stop Word: False\n",
      "Word : that\t Is Stop Word: True\n",
      "Word : have\t Is Stop Word: True\n",
      "Word : a\t Is Stop Word: True\n",
      "Word : unique\t Is Stop Word: False\n",
      "Word : aptitute\t Is Stop Word: False\n",
      "Word : for\t Is Stop Word: True\n",
      "Word : greatess\t Is Stop Word: False\n",
      "Word : .\t Is Stop Word: False\n",
      "Word : An\t Is Stop Word: True\n",
      "Word : example\t Is Stop Word: False\n",
      "Word : of\t Is Stop Word: True\n",
      "Word : such\t Is Stop Word: True\n",
      "Word : a\t Is Stop Word: True\n",
      "Word : mind\t Is Stop Word: False\n",
      "Word : is\t Is Stop Word: True\n",
      "Word : Einstein\t Is Stop Word: False\n"
     ]
    }
   ],
   "source": [
    "# Stop words in spaCy\n",
    "import spacy\n",
    "\n",
    "nlp = spacy.load('en_core_web_sm')\n",
    "\n",
    "# Define a sentence for stop word identification\n",
    "sentence = \"The best minds are the noes that have a unique aptitute for greatess. An example of such a mind is Einstein \"\n",
    "\n",
    "# Process the text to create a Doc object\n",
    "doc = nlp(sentence)\n",
    "\n",
    "# Print each word and indicate whether it is a stop word or not\n",
    "for token in doc :\n",
    "    print(f\"Word : {token.text}\\t Is Stop Word: {token.is_stop}\")"
   ]
  },
  {
   "cell_type": "code",
   "execution_count": 4,
   "id": "6a4543d9",
   "metadata": {},
   "outputs": [
    {
     "name": "stdout",
     "output_type": "stream",
     "text": [
      "{'against', 'few', \"'ve\", 'above', 'beyond', 'whoever', 'or', 'less', 'n‘t', '‘d', 'are', 'something', 'off', 'perhaps', 'sixty', 'such', 'whether', 'sometime', 'would', 'whereas', 'n’t', 'side', 'six', 'which', 'elsewhere', 'amount', 'done', 'whose', 'they', 'either', 'since', 'moreover', 'himself', \"'d\", 'nine', 'themselves', 'ten', 'may', 'whereafter', 'thereby', 'was', 'someone', 'though', 'before', 'then', 'and', 'ours', 'otherwise', 'this', 'nowhere', 'first', 'beforehand', 'itself', 'from', 'being', 'same', 'front', 'over', 'per', 'together', '‘s', '‘re', 'how', 'amongst', 'both', 'anyway', 'through', 'while', 'should', 'nor', 'due', 'without', 'must', 'about', 'be', 'meanwhile', 'hence', 'another', 'enough', 'most', 'towards', 'please', 'anyone', 'have', \"'ll\", 'on', 'yours', 'us', 'whereupon', 'somewhere', 'what', 'afterwards', 'forty', 'an', 'yourselves', '‘ve', 'call', 'nevertheless', 'almost', 'keep', 'never', '’ve', 'can', 'beside', 'in', 'becomes', 'often', 'its', 'she', 'eight', 'herein', 'namely', 'his', 'seeming', 'next', 'unless', 'behind', '’re', 'used', 'none', 'already', 'empty', 'nobody', 'by', 'across', 'yet', 'sometimes', 'two', 'further', 'again', 'around', 'three', 'some', 'him', 'if', 'many', 'get', 'whence', 're', 'several', 'became', 'does', 'anywhere', 'hundred', 'ever', 'see', 'yourself', 'wherein', 'rather', 'their', 'thereupon', 'here', 'were', 'alone', 'why', 'within', 'these', 'wherever', 'cannot', 'with', 'hereby', 'just', 'herself', 'than', 'down', 'out', 'whereby', 'although', 'of', 'has', 'hereupon', 'your', 'doing', 'we', 'becoming', 'that', 'between', 'myself', 'for', 'put', 'former', 'thereafter', 'once', 'seemed', '’d', 'still', 'there', 'but', 'quite', 'via', \"'m\", 'them', 'show', 'hers', 'really', 'much', 'onto', 'one', 'do', 'others', 'who', 'latter', 'mostly', 'somehow', 'whenever', 'twenty', 'as', 'back', 'noone', 'make', 'mine', 'into', 'regarding', 'eleven', 'top', 'been', 'thence', 'anyhow', 'go', 'when', 'therein', 'i', 'everywhere', 'part', 'whatever', 'whom', 'me', 'will', 'below', 'neither', '‘ll', '’m', '‘m', 'toward', 'among', 'the', 'well', \"n't\", 'hereafter', 'could', 'not', 'too', 'fifteen', 'seems', '’s', 'take', 'fifty', 'under', 'upon', 'other', 'twelve', 'also', 'else', 'move', 'latterly', 'thus', 'last', 'seem', 'everything', 'where', 'even', 'name', 'up', 'a', 'bottom', 'besides', 'it', 'made', 'now', 'whither', 'all', 'least', 'nothing', 'had', 'become', 'five', 'ca', 'our', 'her', 'until', 'those', 'say', \"'re\", 'throughout', 'any', 'he', 'third', 'full', 'formerly', 'whole', 'therefore', 'after', 'might', 'each', 'anything', 'did', 'serious', 'is', 'along', 'except', '’ll', 'so', 'every', 'using', 'am', 'indeed', 'you', 'ourselves', 'during', 'to', 'my', 'give', 'own', 'various', 'everyone', \"'s\", 'very', 'because', 'only', 'no', 'four', 'more', 'always', 'at', 'however', 'thru'}\n",
      "326\n"
     ]
    }
   ],
   "source": [
    "# Print all the default stop words\n",
    "print(nlp.Defaults.stop_words)\n",
    "print(len(nlp.Defaults.stop_words))"
   ]
  },
  {
   "cell_type": "code",
   "execution_count": 5,
   "id": "79b07840",
   "metadata": {},
   "outputs": [
    {
     "name": "stdout",
     "output_type": "stream",
     "text": [
      "True\n",
      "False\n"
     ]
    }
   ],
   "source": [
    "# Find if a word is a stop word\n",
    "print(nlp.vocab['is'].is_stop)\n",
    "print(nlp.vocab['student'].is_stop)"
   ]
  },
  {
   "cell_type": "code",
   "execution_count": 6,
   "id": "7f993ba3",
   "metadata": {},
   "outputs": [
    {
     "name": "stdout",
     "output_type": "stream",
     "text": [
      "327\n"
     ]
    }
   ],
   "source": [
    "# Add your own stop  word\n",
    "nlp.Defaults.stop_words.add('btw')\n",
    "nlp.vocab['btw'].is_stop = True\n",
    "print(len(nlp.Defaults.stop_words))"
   ]
  },
  {
   "cell_type": "code",
   "execution_count": 7,
   "id": "65a0d450",
   "metadata": {},
   "outputs": [],
   "source": [
    "# Remove a stop word\n",
    "nlp.Defaults.stop_words.remove('beyond')\n",
    "nlp.vocab['beyond'].is_stop = False"
   ]
  },
  {
   "cell_type": "code",
   "execution_count": null,
   "id": "6135597f",
   "metadata": {},
   "outputs": [],
   "source": []
  }
 ],
 "metadata": {
  "kernelspec": {
   "display_name": ".venv",
   "language": "python",
   "name": "python3"
  },
  "language_info": {
   "codemirror_mode": {
    "name": "ipython",
    "version": 3
   },
   "file_extension": ".py",
   "mimetype": "text/x-python",
   "name": "python",
   "nbconvert_exporter": "python",
   "pygments_lexer": "ipython3",
   "version": "3.13.2"
  }
 },
 "nbformat": 4,
 "nbformat_minor": 5
}
