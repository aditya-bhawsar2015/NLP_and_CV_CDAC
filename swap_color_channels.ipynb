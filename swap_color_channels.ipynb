{
 "cells": [
  {
   "cell_type": "code",
   "execution_count": 1,
   "id": "9c355b47",
   "metadata": {},
   "outputs": [],
   "source": [
    "# Swap red an blue color\n",
    "import cv2\n",
    "import numpy as np"
   ]
  },
  {
   "cell_type": "code",
   "execution_count": 2,
   "id": "63b943c1",
   "metadata": {},
   "outputs": [],
   "source": [
    "# Read and resize the image\n",
    "image = cv2.imread('dog-cat.jpg')\n",
    "h, w = image.shape[:2]\n",
    "new_w = 800\n",
    "new_h = int(h * new_w/w)\n",
    "image = cv2.resize(image, (new_w, new_h))"
   ]
  },
  {
   "cell_type": "code",
   "execution_count": 3,
   "id": "7b99f55c",
   "metadata": {},
   "outputs": [],
   "source": [
    "# Split channels\n",
    "b, g, r = cv2.split(image)\n",
    "\n",
    "# Swap red and blue\n",
    "swapped = cv2.merge([r,g,b])  # now red becomes blue and vice versa"
   ]
  },
  {
   "cell_type": "code",
   "execution_count": 5,
   "id": "3b4a9747",
   "metadata": {},
   "outputs": [],
   "source": [
    "# Show original and swapped\n",
    "cv2.imshow('Original', image)\n",
    "cv2.imshow('Red and Blue Swapped', swapped)\n",
    "cv2.waitKey(0)\n",
    "cv2.destroyAllWindows()"
   ]
  },
  {
   "cell_type": "code",
   "execution_count": null,
   "id": "a9ec4a46",
   "metadata": {},
   "outputs": [],
   "source": []
  }
 ],
 "metadata": {
  "kernelspec": {
   "display_name": ".venv",
   "language": "python",
   "name": "python3"
  },
  "language_info": {
   "codemirror_mode": {
    "name": "ipython",
    "version": 3
   },
   "file_extension": ".py",
   "mimetype": "text/x-python",
   "name": "python",
   "nbconvert_exporter": "python",
   "pygments_lexer": "ipython3",
   "version": "3.13.2"
  }
 },
 "nbformat": 4,
 "nbformat_minor": 5
}
