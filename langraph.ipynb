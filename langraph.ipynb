{
 "cells": [
  {
   "cell_type": "code",
   "execution_count": 2,
   "id": "59747f47",
   "metadata": {},
   "outputs": [
    {
     "name": "stdout",
     "output_type": "stream",
     "text": [
      "Collecting Langgraph\n",
      "  Downloading langgraph-0.4.8-py3-none-any.whl.metadata (6.8 kB)\n",
      "Requirement already satisfied: langchain-core>=0.1 in d:\\workspace\\nlp_cv\\.venv\\lib\\site-packages (from Langgraph) (0.3.63)\n",
      "Collecting langgraph-checkpoint>=2.0.26 (from Langgraph)\n",
      "  Downloading langgraph_checkpoint-2.1.0-py3-none-any.whl.metadata (4.2 kB)\n",
      "Collecting langgraph-prebuilt>=0.2.0 (from Langgraph)\n",
      "  Downloading langgraph_prebuilt-0.2.2-py3-none-any.whl.metadata (4.5 kB)\n",
      "Collecting langgraph-sdk>=0.1.42 (from Langgraph)\n",
      "  Downloading langgraph_sdk-0.1.70-py3-none-any.whl.metadata (1.5 kB)\n",
      "Requirement already satisfied: pydantic>=2.7.4 in d:\\workspace\\nlp_cv\\.venv\\lib\\site-packages (from Langgraph) (2.11.5)\n",
      "Collecting xxhash>=3.5.0 (from Langgraph)\n",
      "  Downloading xxhash-3.5.0-cp313-cp313-win_amd64.whl.metadata (13 kB)\n",
      "Requirement already satisfied: langsmith<0.4,>=0.1.126 in d:\\workspace\\nlp_cv\\.venv\\lib\\site-packages (from langchain-core>=0.1->Langgraph) (0.3.44)\n",
      "Requirement already satisfied: tenacity!=8.4.0,<10.0.0,>=8.1.0 in d:\\workspace\\nlp_cv\\.venv\\lib\\site-packages (from langchain-core>=0.1->Langgraph) (9.1.2)\n",
      "Requirement already satisfied: jsonpatch<2.0,>=1.33 in d:\\workspace\\nlp_cv\\.venv\\lib\\site-packages (from langchain-core>=0.1->Langgraph) (1.33)\n",
      "Requirement already satisfied: PyYAML>=5.3 in d:\\workspace\\nlp_cv\\.venv\\lib\\site-packages (from langchain-core>=0.1->Langgraph) (6.0.2)\n",
      "Requirement already satisfied: packaging<25,>=23.2 in d:\\workspace\\nlp_cv\\.venv\\lib\\site-packages (from langchain-core>=0.1->Langgraph) (24.2)\n",
      "Requirement already satisfied: typing-extensions>=4.7 in d:\\workspace\\nlp_cv\\.venv\\lib\\site-packages (from langchain-core>=0.1->Langgraph) (4.13.2)\n",
      "Requirement already satisfied: jsonpointer>=1.9 in d:\\workspace\\nlp_cv\\.venv\\lib\\site-packages (from jsonpatch<2.0,>=1.33->langchain-core>=0.1->Langgraph) (3.0.0)\n",
      "Requirement already satisfied: httpx<1,>=0.23.0 in d:\\workspace\\nlp_cv\\.venv\\lib\\site-packages (from langsmith<0.4,>=0.1.126->langchain-core>=0.1->Langgraph) (0.28.1)\n",
      "Requirement already satisfied: orjson<4.0.0,>=3.9.14 in d:\\workspace\\nlp_cv\\.venv\\lib\\site-packages (from langsmith<0.4,>=0.1.126->langchain-core>=0.1->Langgraph) (3.10.18)\n",
      "Requirement already satisfied: requests<3,>=2 in d:\\workspace\\nlp_cv\\.venv\\lib\\site-packages (from langsmith<0.4,>=0.1.126->langchain-core>=0.1->Langgraph) (2.32.3)\n",
      "Requirement already satisfied: requests-toolbelt<2.0.0,>=1.0.0 in d:\\workspace\\nlp_cv\\.venv\\lib\\site-packages (from langsmith<0.4,>=0.1.126->langchain-core>=0.1->Langgraph) (1.0.0)\n",
      "Requirement already satisfied: zstandard<0.24.0,>=0.23.0 in d:\\workspace\\nlp_cv\\.venv\\lib\\site-packages (from langsmith<0.4,>=0.1.126->langchain-core>=0.1->Langgraph) (0.23.0)\n",
      "Requirement already satisfied: anyio in d:\\workspace\\nlp_cv\\.venv\\lib\\site-packages (from httpx<1,>=0.23.0->langsmith<0.4,>=0.1.126->langchain-core>=0.1->Langgraph) (4.9.0)\n",
      "Requirement already satisfied: certifi in d:\\workspace\\nlp_cv\\.venv\\lib\\site-packages (from httpx<1,>=0.23.0->langsmith<0.4,>=0.1.126->langchain-core>=0.1->Langgraph) (2025.4.26)\n",
      "Requirement already satisfied: httpcore==1.* in d:\\workspace\\nlp_cv\\.venv\\lib\\site-packages (from httpx<1,>=0.23.0->langsmith<0.4,>=0.1.126->langchain-core>=0.1->Langgraph) (1.0.9)\n",
      "Requirement already satisfied: idna in d:\\workspace\\nlp_cv\\.venv\\lib\\site-packages (from httpx<1,>=0.23.0->langsmith<0.4,>=0.1.126->langchain-core>=0.1->Langgraph) (3.10)\n",
      "Requirement already satisfied: h11>=0.16 in d:\\workspace\\nlp_cv\\.venv\\lib\\site-packages (from httpcore==1.*->httpx<1,>=0.23.0->langsmith<0.4,>=0.1.126->langchain-core>=0.1->Langgraph) (0.16.0)\n",
      "Requirement already satisfied: annotated-types>=0.6.0 in d:\\workspace\\nlp_cv\\.venv\\lib\\site-packages (from pydantic>=2.7.4->Langgraph) (0.7.0)\n",
      "Requirement already satisfied: pydantic-core==2.33.2 in d:\\workspace\\nlp_cv\\.venv\\lib\\site-packages (from pydantic>=2.7.4->Langgraph) (2.33.2)\n",
      "Requirement already satisfied: typing-inspection>=0.4.0 in d:\\workspace\\nlp_cv\\.venv\\lib\\site-packages (from pydantic>=2.7.4->Langgraph) (0.4.1)\n",
      "Requirement already satisfied: charset-normalizer<4,>=2 in d:\\workspace\\nlp_cv\\.venv\\lib\\site-packages (from requests<3,>=2->langsmith<0.4,>=0.1.126->langchain-core>=0.1->Langgraph) (3.4.2)\n",
      "Requirement already satisfied: urllib3<3,>=1.21.1 in d:\\workspace\\nlp_cv\\.venv\\lib\\site-packages (from requests<3,>=2->langsmith<0.4,>=0.1.126->langchain-core>=0.1->Langgraph) (2.4.0)\n",
      "Collecting ormsgpack>=1.10.0 (from langgraph-checkpoint>=2.0.26->Langgraph)\n",
      "  Downloading ormsgpack-1.10.0-cp313-cp313-win_amd64.whl.metadata (44 kB)\n",
      "Requirement already satisfied: sniffio>=1.1 in d:\\workspace\\nlp_cv\\.venv\\lib\\site-packages (from anyio->httpx<1,>=0.23.0->langsmith<0.4,>=0.1.126->langchain-core>=0.1->Langgraph) (1.3.1)\n",
      "Downloading langgraph-0.4.8-py3-none-any.whl (152 kB)\n",
      "Downloading langgraph_checkpoint-2.1.0-py3-none-any.whl (43 kB)\n",
      "Downloading langgraph_prebuilt-0.2.2-py3-none-any.whl (23 kB)\n",
      "Downloading langgraph_sdk-0.1.70-py3-none-any.whl (49 kB)\n",
      "Downloading ormsgpack-1.10.0-cp313-cp313-win_amd64.whl (121 kB)\n",
      "Downloading xxhash-3.5.0-cp313-cp313-win_amd64.whl (30 kB)\n",
      "Installing collected packages: xxhash, ormsgpack, langgraph-sdk, langgraph-checkpoint, langgraph-prebuilt, Langgraph\n",
      "\n",
      "   ------ --------------------------------- 1/6 [ormsgpack]\n",
      "   ------------- -------------------------- 2/6 [langgraph-sdk]\n",
      "   -------------------- ------------------- 3/6 [langgraph-checkpoint]\n",
      "   -------------------------- ------------- 4/6 [langgraph-prebuilt]\n",
      "   --------------------------------- ------ 5/6 [Langgraph]\n",
      "   --------------------------------- ------ 5/6 [Langgraph]\n",
      "   --------------------------------- ------ 5/6 [Langgraph]\n",
      "   ---------------------------------------- 6/6 [Langgraph]\n",
      "\n",
      "Successfully installed Langgraph-0.4.8 langgraph-checkpoint-2.1.0 langgraph-prebuilt-0.2.2 langgraph-sdk-0.1.70 ormsgpack-1.10.0 xxhash-3.5.0\n",
      "Note: you may need to restart the kernel to use updated packages.\n"
     ]
    }
   ],
   "source": [
    "pip install Langgraph"
   ]
  },
  {
   "cell_type": "code",
   "execution_count": 11,
   "id": "3835e8d2",
   "metadata": {},
   "outputs": [],
   "source": [
    "from typing import TypedDict\n",
    "from langgraph.graph import StateGraph, START, END"
   ]
  },
  {
   "cell_type": "code",
   "execution_count": 12,
   "id": "9cf1cf31",
   "metadata": {},
   "outputs": [],
   "source": [
    "class HelloWorldState(TypedDict):\n",
    "    message:str"
   ]
  },
  {
   "cell_type": "code",
   "execution_count": 13,
   "id": "c9b2359d",
   "metadata": {},
   "outputs": [],
   "source": [
    "def hello(state:HelloWorldState)-> HelloWorldState:\n",
    "    print(f\"Hello node:{state['message']}\")\n",
    "    return {'message': \"Hello\" + state['message']}"
   ]
  },
  {
   "cell_type": "code",
   "execution_count": 14,
   "id": "e5413944",
   "metadata": {},
   "outputs": [],
   "source": [
    "def bye(state:HelloWorldState)-> HelloWorldState:\n",
    "    print(f\"Bye node:{state['message']}\")\n",
    "    return {'message': \"Bye\" + state['message']}"
   ]
  },
  {
   "cell_type": "code",
   "execution_count": 25,
   "id": "e92187a3",
   "metadata": {},
   "outputs": [
    {
     "data": {
      "text/plain": [
       "<langgraph.graph.state.StateGraph at 0x1d7504ce210>"
      ]
     },
     "execution_count": 25,
     "metadata": {},
     "output_type": "execute_result"
    }
   ],
   "source": [
    "graph = StateGraph(HelloWorldState)\n",
    "graph.add_node(' hello', hello)\n",
    "graph.add_node(\"bye\", bye)"
   ]
  },
  {
   "cell_type": "code",
   "execution_count": 26,
   "id": "828755bd",
   "metadata": {},
   "outputs": [
    {
     "data": {
      "text/plain": [
       "<langgraph.graph.state.StateGraph at 0x1d7504ce210>"
      ]
     },
     "execution_count": 26,
     "metadata": {},
     "output_type": "execute_result"
    }
   ],
   "source": [
    "graph.add_edge(START, \" hello\")\n",
    "graph.add_edge(' hello', \"bye\")\n",
    "graph.add_edge('bye', END)\n"
   ]
  },
  {
   "cell_type": "code",
   "execution_count": 27,
   "id": "8a81a8c7",
   "metadata": {},
   "outputs": [],
   "source": [
    "runnable = graph.compile()"
   ]
  },
  {
   "cell_type": "code",
   "execution_count": 28,
   "id": "8619f7a2",
   "metadata": {},
   "outputs": [
    {
     "name": "stdout",
     "output_type": "stream",
     "text": [
      "Hello node: C-DAC\n",
      "Bye node:Hello C-DAC\n",
      "{'message': 'ByeHello C-DAC'}\n"
     ]
    }
   ],
   "source": [
    "output = runnable.invoke({\n",
    "    \"message\":\" C-DAC\"\n",
    "})\n",
    "\n",
    "print(output)"
   ]
  },
  {
   "cell_type": "code",
   "execution_count": null,
   "id": "904e8be2",
   "metadata": {},
   "outputs": [],
   "source": []
  },
  {
   "cell_type": "code",
   "execution_count": null,
   "id": "9b047648",
   "metadata": {},
   "outputs": [],
   "source": []
  }
 ],
 "metadata": {
  "kernelspec": {
   "display_name": ".venv",
   "language": "python",
   "name": "python3"
  },
  "language_info": {
   "codemirror_mode": {
    "name": "ipython",
    "version": 3
   },
   "file_extension": ".py",
   "mimetype": "text/x-python",
   "name": "python",
   "nbconvert_exporter": "python",
   "pygments_lexer": "ipython3",
   "version": "3.13.2"
  }
 },
 "nbformat": 4,
 "nbformat_minor": 5
}
