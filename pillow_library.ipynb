{
 "cells": [
  {
   "cell_type": "code",
   "execution_count": 1,
   "id": "157e9053",
   "metadata": {},
   "outputs": [
    {
     "name": "stdout",
     "output_type": "stream",
     "text": [
      "Requirement already satisfied: pillow in d:\\workspace\\nlp_cv\\.venv\\lib\\site-packages (11.2.1)\n"
     ]
    }
   ],
   "source": [
    "# pillow library : Basic Code example - Load, display, convert, and same an image\n",
    "!pip install pillow"
   ]
  },
  {
   "cell_type": "code",
   "execution_count": 2,
   "id": "5892db5f",
   "metadata": {},
   "outputs": [],
   "source": [
    "from PIL import Image"
   ]
  },
  {
   "cell_type": "code",
   "execution_count": 5,
   "id": "b9b21fc7",
   "metadata": {},
   "outputs": [
    {
     "name": "stdout",
     "output_type": "stream",
     "text": [
      "(541, 360) RGB JPEG\n"
     ]
    }
   ],
   "source": [
    "# Open an image file\n",
    "image = Image.open('colorful-tiger.jpg')\n",
    "\n",
    "# Display image properties\n",
    "print(image.size, image.mode, image.format)"
   ]
  },
  {
   "cell_type": "code",
   "execution_count": 6,
   "id": "f5c8ead0",
   "metadata": {},
   "outputs": [],
   "source": [
    "# Show the image\n",
    "image.show()"
   ]
  },
  {
   "cell_type": "code",
   "execution_count": 7,
   "id": "84e071d0",
   "metadata": {},
   "outputs": [],
   "source": [
    "# Convert image to grayscale\n",
    "gray_image = image.convert(\"L\")"
   ]
  },
  {
   "cell_type": "code",
   "execution_count": 8,
   "id": "40f184c5",
   "metadata": {},
   "outputs": [],
   "source": [
    "# Save the new grayscale image\n",
    "gray_image.save('colorful-tiger-gray.jpg')"
   ]
  }
 ],
 "metadata": {
  "kernelspec": {
   "display_name": ".venv",
   "language": "python",
   "name": "python3"
  },
  "language_info": {
   "codemirror_mode": {
    "name": "ipython",
    "version": 3
   },
   "file_extension": ".py",
   "mimetype": "text/x-python",
   "name": "python",
   "nbconvert_exporter": "python",
   "pygments_lexer": "ipython3",
   "version": "3.13.2"
  }
 },
 "nbformat": 4,
 "nbformat_minor": 5
}
