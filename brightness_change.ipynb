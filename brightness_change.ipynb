{
 "cells": [
  {
   "cell_type": "code",
   "execution_count": 1,
   "id": "61756820",
   "metadata": {},
   "outputs": [],
   "source": [
    "# Increase and decrease brightness of an image using OpenCV\n",
    "import cv2\n",
    "import numpy as np"
   ]
  },
  {
   "cell_type": "code",
   "execution_count": 2,
   "id": "d3562636",
   "metadata": {},
   "outputs": [],
   "source": [
    "# Read and resize the image\n",
    "image = cv2.imread('dog-cat.jpg')\n",
    "h, w = image.shape[:2]\n",
    "new_w = 800\n",
    "new_h = int(h * new_w/w)\n",
    "image = cv2.resize(image, (new_w, new_h))"
   ]
  },
  {
   "cell_type": "code",
   "execution_count": 3,
   "id": "d7af3fb8",
   "metadata": {},
   "outputs": [],
   "source": [
    "# Make a copy and increase brightness by adding a constant value\n",
    "brighter = cv2.add(image, (50,50,50))        # increase all B,G,R by 50"
   ]
  },
  {
   "cell_type": "code",
   "execution_count": 4,
   "id": "cd2cbafb",
   "metadata": {},
   "outputs": [],
   "source": [
    "# Make a copy and decrease brightness by subtracting\n",
    "darker = cv2.subtract(image, (50,50,50))     # decrease all B,G,R by 50"
   ]
  },
  {
   "cell_type": "code",
   "execution_count": 5,
   "id": "5c3ca225",
   "metadata": {},
   "outputs": [],
   "source": [
    "# Display\n",
    "cv2.imshow('Original', image)\n",
    "cv2.imshow('Brighter', brighter)\n",
    "cv2.imshow('Darker', darker)\n",
    "cv2.waitKey(0)\n",
    "cv2.destroyAllWindows()"
   ]
  },
  {
   "cell_type": "code",
   "execution_count": null,
   "id": "008dd856",
   "metadata": {},
   "outputs": [],
   "source": []
  }
 ],
 "metadata": {
  "kernelspec": {
   "display_name": ".venv",
   "language": "python",
   "name": "python3"
  },
  "language_info": {
   "codemirror_mode": {
    "name": "ipython",
    "version": 3
   },
   "file_extension": ".py",
   "mimetype": "text/x-python",
   "name": "python",
   "nbconvert_exporter": "python",
   "pygments_lexer": "ipython3",
   "version": "3.13.2"
  }
 },
 "nbformat": 4,
 "nbformat_minor": 5
}
