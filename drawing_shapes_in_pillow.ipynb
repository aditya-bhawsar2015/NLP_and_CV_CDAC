{
 "cells": [
  {
   "cell_type": "code",
   "execution_count": 1,
   "id": "967a09f0",
   "metadata": {},
   "outputs": [],
   "source": [
    "# Drawings in pillow\n",
    "from PIL import Image, ImageDraw"
   ]
  },
  {
   "cell_type": "code",
   "execution_count": null,
   "id": "a7acd26f",
   "metadata": {},
   "outputs": [],
   "source": [
    "# Create a blank white image\n",
    "img = Image.new('RGB', (00, 300), 'white')\n",
    "draw = ImageDraw.Draw(img)"
   ]
  },
  {
   "cell_type": "code",
   "execution_count": 3,
   "id": "60c8be98",
   "metadata": {},
   "outputs": [],
   "source": [
    "# Draw a black line from (10,10) to (190,190)\n",
    "draw.line((10,10,190,190), fill='black', width=3)"
   ]
  },
  {
   "cell_type": "code",
   "execution_count": 4,
   "id": "d84f7a55",
   "metadata": {},
   "outputs": [],
   "source": [
    "# Draw a red rectangle with top-left at (50,50) and bottom right at (150,150)\n",
    "draw.rectangle([50, 50, 150, 150], outline='red', width=4)"
   ]
  },
  {
   "cell_type": "code",
   "execution_count": 5,
   "id": "31cfad5d",
   "metadata": {},
   "outputs": [],
   "source": [
    "# draw blue ellipse inside the bounding box(30,30,170,170)\n",
    "draw.ellipse([30,30,170,170], outline='blue', width=3, fill='lightblue')"
   ]
  },
  {
   "cell_type": "code",
   "execution_count": 6,
   "id": "0028bc09",
   "metadata": {},
   "outputs": [],
   "source": [
    "# draw a green triangle using three points\n",
    "points = [(100,20), (180,180), (20,180)]\n",
    "draw.polygon(points, outline='green', fill='lightgreen')"
   ]
  },
  {
   "cell_type": "code",
   "execution_count": 7,
   "id": "db72196d",
   "metadata": {},
   "outputs": [],
   "source": [
    "# Add text\n",
    "draw.text((10, 200), \"Hello Pillow!\", fill='purple')"
   ]
  },
  {
   "cell_type": "code",
   "execution_count": 8,
   "id": "402daff1",
   "metadata": {},
   "outputs": [],
   "source": [
    "# Draw large rectangle\n",
    "draw.rectangle([50,50,250,250], outline='black', width=5)"
   ]
  },
  {
   "cell_type": "code",
   "execution_count": 9,
   "id": "5a699bf0",
   "metadata": {},
   "outputs": [],
   "source": [
    "# Draw a circle inside the rectangle\n",
    "draw.ellipse([100,100,200,200], fill='orange', outline='red', width=3)"
   ]
  },
  {
   "cell_type": "code",
   "execution_count": 10,
   "id": "de4cde86",
   "metadata": {},
   "outputs": [],
   "source": [
    "# Draw diagonal line\n",
    "draw.line([50,50,250,250], fill='blue', width=2)"
   ]
  },
  {
   "cell_type": "code",
   "execution_count": 11,
   "id": "99a1db7c",
   "metadata": {},
   "outputs": [],
   "source": [
    "# Add more text below\n",
    "draw.text((60,260), \"Sample Drawling\", fill=\"black\")"
   ]
  },
  {
   "cell_type": "code",
   "execution_count": 12,
   "id": "1f235576",
   "metadata": {},
   "outputs": [],
   "source": [
    "# Display final image\n",
    "img.show()"
   ]
  },
  {
   "cell_type": "code",
   "execution_count": null,
   "id": "bfe77f33",
   "metadata": {},
   "outputs": [],
   "source": []
  }
 ],
 "metadata": {
  "kernelspec": {
   "display_name": ".venv",
   "language": "python",
   "name": "python3"
  },
  "language_info": {
   "codemirror_mode": {
    "name": "ipython",
    "version": 3
   },
   "file_extension": ".py",
   "mimetype": "text/x-python",
   "name": "python",
   "nbconvert_exporter": "python",
   "pygments_lexer": "ipython3",
   "version": "3.13.2"
  }
 },
 "nbformat": 4,
 "nbformat_minor": 5
}
