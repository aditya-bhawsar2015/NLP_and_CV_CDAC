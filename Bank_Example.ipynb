{
 "cells": [
  {
   "cell_type": "code",
   "execution_count": 1,
   "id": "0736c920",
   "metadata": {},
   "outputs": [],
   "source": [
    "from typing import TypedDict\n",
    "from langgraph.graph import StateGraph, START, END\n"
   ]
  },
  {
   "cell_type": "code",
   "execution_count": 2,
   "id": "2395734b",
   "metadata": {},
   "outputs": [],
   "source": [
    "class TransactionRequest(TypedDict):\n",
    "    action:str\n",
    "    opening_balance:int\n",
    "    amount:int\n",
    "    new_balance:int"
   ]
  },
  {
   "cell_type": "code",
   "execution_count": 3,
   "id": "8baf4246",
   "metadata": {},
   "outputs": [],
   "source": [
    "def categorize_transaction(request:TransactionRequest)->str:\n",
    "    print(f\"Transaction Request:{request}\")\n",
    "    if request['action'] == 'deposit':\n",
    "        return 'deposit'\n",
    "    elif request['action'] == 'withdraw':\n",
    "        return 'withdraw'\n",
    "    else:\n",
    "        return 'unknown'"
   ]
  },
  {
   "cell_type": "code",
   "execution_count": 4,
   "id": "801277d4",
   "metadata": {},
   "outputs": [],
   "source": [
    "def handle_deposit(request: TransactionRequest)->TransactionRequest:\n",
    "    new_bal = request['opening_balance']+request['amount']\n",
    "    print(f\"Depositing {request['amount']}-> New balance:{new_bal}\")\n",
    "    request['new_balance'] = new_bal\n",
    "    return request"
   ]
  },
  {
   "cell_type": "code",
   "execution_count": 5,
   "id": "4900098b",
   "metadata": {},
   "outputs": [],
   "source": [
    "def handle_withdraw(request: TransactionRequest)->TransactionRequest:\n",
    "    if request['amount'] > request['opening_balance']:\n",
    "        print(f'Insufficient Funds : Cannot Withdraw {request['amount']}')\n",
    "        request['new_balance'] = request['opening_balance']\n",
    "    else:\n",
    "        new_bal = request['opening_balance']-request['amount']\n",
    "        print(f\"Depositing {request['amount']}-> New balance:{new_bal}\")\n",
    "        request['new_balance'] = new_bal\n",
    "    return request"
   ]
  },
  {
   "cell_type": "code",
   "execution_count": 6,
   "id": "dabe001b",
   "metadata": {},
   "outputs": [
    {
     "data": {
      "text/plain": [
       "<langgraph.graph.state.StateGraph at 0x1ea150aef90>"
      ]
     },
     "execution_count": 6,
     "metadata": {},
     "output_type": "execute_result"
    }
   ],
   "source": [
    "graph = StateGraph(TransactionRequest)\n",
    "graph.add_node('deposit', handle_deposit)\n",
    "graph.add_node('withdraw', handle_withdraw)\n"
   ]
  },
  {
   "cell_type": "code",
   "execution_count": 7,
   "id": "f8dc157f",
   "metadata": {},
   "outputs": [
    {
     "data": {
      "text/plain": [
       "<langgraph.graph.state.StateGraph at 0x1ea150aef90>"
      ]
     },
     "execution_count": 7,
     "metadata": {},
     "output_type": "execute_result"
    }
   ],
   "source": [
    "graph.add_conditional_edges(START, categorize_transaction)\n",
    "graph.add_edge('deposit', END)\n",
    "graph.add_edge('withdraw', END)"
   ]
  },
  {
   "cell_type": "code",
   "execution_count": 8,
   "id": "8801bf88",
   "metadata": {},
   "outputs": [],
   "source": [
    "runnable = graph.compile()"
   ]
  },
  {
   "cell_type": "code",
   "execution_count": 9,
   "id": "dbd7b20f",
   "metadata": {},
   "outputs": [
    {
     "name": "stdout",
     "output_type": "stream",
     "text": [
      "\n",
      "----Deposit-----\n",
      "Transaction Request:{'action': 'deposit', 'opening_balance': 5000, 'amount': 1200, 'new_balance': 0}\n",
      "Depositing 1200-> New balance:6200\n",
      "{'action': 'deposit', 'opening_balance': 5000, 'amount': 1200, 'new_balance': 6200}\n"
     ]
    }
   ],
   "source": [
    "print(\"\\n----Deposit-----\")\n",
    "print(runnable.invoke({\n",
    "    \"action\":\"deposit\",\n",
    "    \"opening_balance\":5000,\n",
    "    \"amount\":1200,\n",
    "    'new_balance':0\n",
    "}))"
   ]
  },
  {
   "cell_type": "code",
   "execution_count": 10,
   "id": "aaef6a60",
   "metadata": {},
   "outputs": [
    {
     "name": "stdout",
     "output_type": "stream",
     "text": [
      "\n",
      "----Withdraw-----\n",
      "Transaction Request:{'action': 'withdraw', 'opening_balance': 4000, 'amount': 1200, 'new_balance': 0}\n",
      "Depositing 1200-> New balance:2800\n",
      "{'action': 'withdraw', 'opening_balance': 4000, 'amount': 1200, 'new_balance': 2800}\n"
     ]
    }
   ],
   "source": [
    "print(\"\\n----Withdraw-----\")\n",
    "print(runnable.invoke({\n",
    "    \"action\":\"withdraw\",\n",
    "    \"opening_balance\":4000,\n",
    "    \"amount\":1200,\n",
    "    'new_balance':0\n",
    "}))"
   ]
  },
  {
   "cell_type": "code",
   "execution_count": 11,
   "id": "3973c9ba",
   "metadata": {},
   "outputs": [],
   "source": [
    "from langchain_core.runnables.graph import MermaidDrawMethod\n",
    "from PIL import Image\n",
    "from io import BytesIO"
   ]
  },
  {
   "cell_type": "code",
   "execution_count": 12,
   "id": "c638b074",
   "metadata": {},
   "outputs": [],
   "source": [
    "graph_image = runnable.get_graph().draw_mermaid_png(\n",
    "    draw_method=MermaidDrawMethod.API,\n",
    "    output_file_path='graph.png'\n",
    ")"
   ]
  },
  {
   "cell_type": "code",
   "execution_count": 13,
   "id": "b8b5cc34",
   "metadata": {},
   "outputs": [],
   "source": [
    "img = Image.open(BytesIO(graph_image))\n",
    "img.show()"
   ]
  },
  {
   "cell_type": "code",
   "execution_count": null,
   "id": "638c1983",
   "metadata": {},
   "outputs": [],
   "source": [
    "graph_image = Image.open(BytesIO(graph_image))\n"
   ]
  }
 ],
 "metadata": {
  "kernelspec": {
   "display_name": ".venv",
   "language": "python",
   "name": "python3"
  },
  "language_info": {
   "codemirror_mode": {
    "name": "ipython",
    "version": 3
   },
   "file_extension": ".py",
   "mimetype": "text/x-python",
   "name": "python",
   "nbconvert_exporter": "python",
   "pygments_lexer": "ipython3",
   "version": "3.13.2"
  }
 },
 "nbformat": 4,
 "nbformat_minor": 5
}
