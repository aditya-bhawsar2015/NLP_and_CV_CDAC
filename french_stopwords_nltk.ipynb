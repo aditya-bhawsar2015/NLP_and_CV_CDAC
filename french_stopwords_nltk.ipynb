{
 "cells": [
  {
   "cell_type": "code",
   "execution_count": 1,
   "id": "255c18cc",
   "metadata": {},
   "outputs": [],
   "source": [
    "import nltk\n",
    "import wikipedia\n",
    "from nltk.tokenize import word_tokenize\n",
    "from nltk.corpus import stopwords\n",
    "import string"
   ]
  },
  {
   "cell_type": "code",
   "execution_count": 2,
   "id": "7b63b939",
   "metadata": {},
   "outputs": [],
   "source": [
    "# Step -1 : Set laguage to french and fetch content\n",
    "wikipedia.set_lang(\"fr\")\n",
    "text = wikipedia.page(\"Intelligence_artificielle\").content.lower()"
   ]
  },
  {
   "cell_type": "code",
   "execution_count": 3,
   "id": "bfa4ef5e",
   "metadata": {},
   "outputs": [],
   "source": [
    "# Step-2 : tokenize  with french tokenizer\n",
    "tokens = word_tokenize(text, language='french')"
   ]
  },
  {
   "cell_type": "code",
   "execution_count": 4,
   "id": "c73b20dd",
   "metadata": {},
   "outputs": [],
   "source": [
    "# Step-3 : Remove punctuation and numeric tokens\n",
    "tokens = [word for word in tokens if word.isalpha()]"
   ]
  },
  {
   "cell_type": "code",
   "execution_count": 5,
   "id": "e907af75",
   "metadata": {},
   "outputs": [],
   "source": [
    "# step-4 : load french stopwords and remove them\n",
    "french_stopwords = set(stopwords.words('french'))\n",
    "filtered_tokens = [word for word in tokens if word not in french_stopwords]"
   ]
  },
  {
   "cell_type": "code",
   "execution_count": 6,
   "id": "4514dcce",
   "metadata": {},
   "outputs": [
    {
     "name": "stdout",
     "output_type": "stream",
     "text": [
      "==== CLEANED FRENCH TEXT WITHOUT STOPWORDS ==== \n",
      "artificielle ia capacité machines effectuer tâches typiquement associées humaine comme raisonnement résolution problème perception prise décision artificielle également champ recherche visant développer telles machines ainsi systèmes informatiques résultent souvent classée domaine mathématiques sciences cognitives fait appel disciplines telles neurobiologie computationnelle a notamment inspiré réseaux neuronaux artificiels statistiques linéaire vise résoudre problèmes forte complexité logique algorithmique extension langage courant inclut dispositifs imitant remplaçant certaines mises œuvre fonctions cognitives applications comprennent notamment moteurs recherche systèmes recommandation diagnostic médical compréhension langage naturel voitures autonomes chatbots outils génération outils prise décision automatisée programmes compétitifs jeux stratégie certains personnages jeu vidéo depuis concept finalités enjeux développement suscitent nombreuses interprétations fantasmes inquiétudes r\n"
     ]
    }
   ],
   "source": [
    "# Step-5 : Display cleaned data\n",
    "cleaned_text = ' '.join(filtered_tokens)\n",
    "print(\"==== CLEANED FRENCH TEXT WITHOUT STOPWORDS ==== \")\n",
    "print(cleaned_text[:1000])"
   ]
  },
  {
   "cell_type": "code",
   "execution_count": null,
   "id": "3bc9638e",
   "metadata": {},
   "outputs": [],
   "source": []
  }
 ],
 "metadata": {
  "kernelspec": {
   "display_name": ".venv",
   "language": "python",
   "name": "python3"
  },
  "language_info": {
   "codemirror_mode": {
    "name": "ipython",
    "version": 3
   },
   "file_extension": ".py",
   "mimetype": "text/x-python",
   "name": "python",
   "nbconvert_exporter": "python",
   "pygments_lexer": "ipython3",
   "version": "3.13.2"
  }
 },
 "nbformat": 4,
 "nbformat_minor": 5
}
