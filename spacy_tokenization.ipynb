{
 "cells": [
  {
   "cell_type": "code",
   "execution_count": 1,
   "id": "446986a4",
   "metadata": {},
   "outputs": [],
   "source": [
    "# spaCy tokenization\n",
    "import spacy"
   ]
  },
  {
   "cell_type": "code",
   "execution_count": 2,
   "id": "5b3ac53e",
   "metadata": {},
   "outputs": [],
   "source": [
    "nlp = spacy.load('en_core_web_sm')"
   ]
  },
  {
   "cell_type": "code",
   "execution_count": 3,
   "id": "4a4ea2fb",
   "metadata": {},
   "outputs": [
    {
     "name": "stdout",
     "output_type": "stream",
     "text": [
      "['I', 'am', 'flying', 'to', 'San', 'Francisco']\n"
     ]
    }
   ],
   "source": [
    "doc = nlp(u'I am flying to San Francisco')\n",
    "print([w.text for w in doc])"
   ]
  },
  {
   "cell_type": "code",
   "execution_count": 4,
   "id": "e4b11fdb",
   "metadata": {},
   "outputs": [
    {
     "name": "stdout",
     "output_type": "stream",
     "text": [
      "spaCy Tokenization:\n",
      "['I', 'am', 'flying', 'to', 'San', 'Francisco']\n",
      "I            | POS: PRON       | Lemma: I\n",
      "am           | POS: AUX        | Lemma: be\n",
      "flying       | POS: VERB       | Lemma: fly\n",
      "to           | POS: ADP        | Lemma: to\n",
      "San          | POS: PROPN      | Lemma: San\n",
      "Francisco    | POS: PROPN      | Lemma: Francisco\n"
     ]
    }
   ],
   "source": [
    "# SpaCy automatically tokenizes the sentence and handles punctuation, spaces and special entities\n",
    "print('spaCy Tokenization:' )\n",
    "print([token.text for token in doc])\n",
    "\n",
    "for token in doc:\n",
    "    print(f'{token.text:<12} | POS: {token.pos_:<10} | Lemma: {token.lemma_}')"
   ]
  },
  {
   "cell_type": "code",
   "execution_count": null,
   "id": "c57ac66a",
   "metadata": {},
   "outputs": [],
   "source": []
  }
 ],
 "metadata": {
  "kernelspec": {
   "display_name": ".venv",
   "language": "python",
   "name": "python3"
  },
  "language_info": {
   "codemirror_mode": {
    "name": "ipython",
    "version": 3
   },
   "file_extension": ".py",
   "mimetype": "text/x-python",
   "name": "python",
   "nbconvert_exporter": "python",
   "pygments_lexer": "ipython3",
   "version": "3.13.2"
  }
 },
 "nbformat": 4,
 "nbformat_minor": 5
}
