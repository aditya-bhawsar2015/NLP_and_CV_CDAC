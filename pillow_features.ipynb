{
 "cells": [
  {
   "cell_type": "code",
   "execution_count": 1,
   "id": "7bcd2e4f",
   "metadata": {},
   "outputs": [],
   "source": [
    "# pillow features\n",
    "from PIL import Image"
   ]
  },
  {
   "cell_type": "code",
   "execution_count": 2,
   "id": "cc628865",
   "metadata": {},
   "outputs": [],
   "source": [
    "img = Image.open(\"dog-cat.jpg\")\n",
    "img.show()"
   ]
  },
  {
   "cell_type": "code",
   "execution_count": 3,
   "id": "dd4c4c26",
   "metadata": {},
   "outputs": [],
   "source": [
    "# Resize\n",
    "resized = img.resize((300, 200))     # Width x Height\n",
    "resized.show()"
   ]
  },
  {
   "cell_type": "code",
   "execution_count": 4,
   "id": "d9ade627",
   "metadata": {},
   "outputs": [],
   "source": [
    "# Rotate \n",
    "rotated = img.rotate(45)    # Rotate by 45 degree\n",
    "rotated.show()"
   ]
  },
  {
   "cell_type": "code",
   "execution_count": 13,
   "id": "92e1d246",
   "metadata": {},
   "outputs": [],
   "source": [
    "# Crop (e.g. just the dog)\n",
    "cropped = img.crop((20,20, 500, 500))   # define the box to crop\n",
    "cropped.show()"
   ]
  },
  {
   "cell_type": "code",
   "execution_count": 8,
   "id": "fdd23ab2",
   "metadata": {},
   "outputs": [],
   "source": [
    "# Convert to grayscale\n",
    "grayscale = img.convert(\"L\")   \n",
    "grayscale.show()"
   ]
  },
  {
   "cell_type": "code",
   "execution_count": 9,
   "id": "a946c302",
   "metadata": {},
   "outputs": [],
   "source": [
    "# Save as PNG\n",
    "grayscale.save(\"dog-cat-grayscale.png\")"
   ]
  },
  {
   "cell_type": "code",
   "execution_count": 10,
   "id": "b77f3b70",
   "metadata": {},
   "outputs": [],
   "source": [
    "# Draw text on the image\n",
    "from PIL import ImageDraw, ImageFont\n",
    "draw = ImageDraw.Draw(img)\n",
    "font = ImageFont.load_default()     # load default font\n",
    "draw.text((10,10), \"Dog and Cat\", fill=\"white\", font=font)      # draw text\n",
    "img.show()         # show the image with text\n",
    "# Save the modified image\n",
    "img.save(\"dog-cat-with-text.jpg\")      # Save the image with text"
   ]
  },
  {
   "cell_type": "markdown",
   "id": "2a4515c6",
   "metadata": {},
   "source": [
    "### CODE FOR DISPLAYING IMAGE IN COLAB"
   ]
  },
  {
   "cell_type": "code",
   "execution_count": null,
   "id": "ac774681",
   "metadata": {},
   "outputs": [],
   "source": [
    "# for colab....\n",
    "# from PIL import Image\n",
    "# from IPython.display import display\n",
    "\n",
    "# # load and convert image\n",
    "# img= Image.open(\"dog-cat.jpg\")\n",
    "# grayscale = img.convert(\"L\")\n",
    "\n",
    "# # display in colab\n",
    "# display(grayscale)"
   ]
  }
 ],
 "metadata": {
  "kernelspec": {
   "display_name": ".venv",
   "language": "python",
   "name": "python3"
  },
  "language_info": {
   "codemirror_mode": {
    "name": "ipython",
    "version": 3
   },
   "file_extension": ".py",
   "mimetype": "text/x-python",
   "name": "python",
   "nbconvert_exporter": "python",
   "pygments_lexer": "ipython3",
   "version": "3.13.2"
  }
 },
 "nbformat": 4,
 "nbformat_minor": 5
}
