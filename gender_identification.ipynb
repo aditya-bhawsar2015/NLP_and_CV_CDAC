{
 "cells": [
  {
   "cell_type": "code",
   "execution_count": 1,
   "id": "3d9cb7e6",
   "metadata": {},
   "outputs": [
    {
     "name": "stderr",
     "output_type": "stream",
     "text": [
      "d:\\workspace\\NLP_CV\\.venv\\Lib\\site-packages\\tqdm\\auto.py:21: TqdmWarning: IProgress not found. Please update jupyter and ipywidgets. See https://ipywidgets.readthedocs.io/en/stable/user_install.html\n",
      "  from .autonotebook import tqdm as notebook_tqdm\n"
     ]
    }
   ],
   "source": [
    "# Gender Identification\n",
    "from transformers import pipeline"
   ]
  },
  {
   "cell_type": "code",
   "execution_count": 3,
   "id": "35ec8c3e",
   "metadata": {},
   "outputs": [
    {
     "name": "stderr",
     "output_type": "stream",
     "text": [
      "Device set to use cpu\n"
     ]
    }
   ],
   "source": [
    "# Zero shot classification model\n",
    "classifier = pipeline(\"zero-shot-classification\", model=\"facebook/bart-large-mnli\")\n",
    "\n",
    "# Define possible genders\n",
    "labels = [\"male\", \"female\"]\n",
    "\n",
    "# Sample texts \n",
    "texts = [\n",
    "    \"I love footbll and gaming!\",\n",
    "    \"I enjoy shopping and fashion\",\n",
    "    \"I work in the field of AI.\",\n",
    "    \"I am a college student.\",\n",
    "    \"I am an AI trainer.\",\n",
    "    \"I am a smartphone addict.\"\n",
    "]"
   ]
  },
  {
   "cell_type": "code",
   "execution_count": 4,
   "id": "17fb4979",
   "metadata": {},
   "outputs": [
    {
     "name": "stdout",
     "output_type": "stream",
     "text": [
      "Text: I love footbll and gaming!\n",
      "Predicted Gender : male (Confidence: 0.61)\n",
      "\n",
      "Text: I enjoy shopping and fashion\n",
      "Predicted Gender : female (Confidence: 0.90)\n",
      "\n",
      "Text: I work in the field of AI.\n",
      "Predicted Gender : female (Confidence: 0.78)\n",
      "\n",
      "Text: I am a college student.\n",
      "Predicted Gender : female (Confidence: 0.55)\n",
      "\n",
      "Text: I am an AI trainer.\n",
      "Predicted Gender : female (Confidence: 0.71)\n",
      "\n",
      "Text: I am a smartphone addict.\n",
      "Predicted Gender : male (Confidence: 0.82)\n",
      "\n"
     ]
    }
   ],
   "source": [
    "# Predict gnder for each text\n",
    "for text in texts:\n",
    "    result = classifier(text, candidate_labels=labels)\n",
    "    print(f\"Text: {text}\\nPredicted Gender : {result['labels'][0]} (Confidence: {result['scores'][0]:.2f})\\n\")"
   ]
  },
  {
   "cell_type": "code",
   "execution_count": null,
   "id": "41b3392a",
   "metadata": {},
   "outputs": [],
   "source": []
  }
 ],
 "metadata": {
  "kernelspec": {
   "display_name": ".venv",
   "language": "python",
   "name": "python3"
  },
  "language_info": {
   "codemirror_mode": {
    "name": "ipython",
    "version": 3
   },
   "file_extension": ".py",
   "mimetype": "text/x-python",
   "name": "python",
   "nbconvert_exporter": "python",
   "pygments_lexer": "ipython3",
   "version": "3.13.2"
  }
 },
 "nbformat": 4,
 "nbformat_minor": 5
}
