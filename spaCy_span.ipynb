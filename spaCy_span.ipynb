{
 "cells": [
  {
   "cell_type": "code",
   "execution_count": 1,
   "id": "01779b5e",
   "metadata": {},
   "outputs": [],
   "source": [
    "import spacy\n",
    "from spacy.tokens import Span\n",
    "\n",
    "nlp = spacy.load('en_core_web_sm')"
   ]
  },
  {
   "cell_type": "code",
   "execution_count": 2,
   "id": "e586b90e",
   "metadata": {},
   "outputs": [],
   "source": [
    "# Process a text to create a doc object\n",
    "doc = nlp(\"SpaCy is a great tool for Natural Language Processing.\")\n",
    "\n",
    "# Create a span for the words specified bwloe\n",
    "span = Span(doc, start=2, end=6)   # 2 inclusive, 6 exclusive"
   ]
  },
  {
   "cell_type": "code",
   "execution_count": 3,
   "id": "8785de2b",
   "metadata": {},
   "outputs": [
    {
     "name": "stdout",
     "output_type": "stream",
     "text": [
      "a great tool for\n",
      "2\n",
      "6\n",
      "<class 'spacy.tokens.span.Span'>\n",
      "<class 'spacy.tokens.doc.Doc'>\n"
     ]
    }
   ],
   "source": [
    "# Access information aboyut the span\n",
    "print(span.text)    # Output : a great tool for\n",
    "print(span.start)   # Output : 2 (start index of the span)\n",
    "print(span.end)     # Output : 6 (end index of the span)\n",
    "print(type(span))\n",
    "print(type(doc))"
   ]
  },
  {
   "cell_type": "code",
   "execution_count": 4,
   "id": "1068f7ba",
   "metadata": {},
   "outputs": [
    {
     "name": "stdout",
     "output_type": "stream",
     "text": [
      "a DET det\n",
      "great ADJ amod\n",
      "tool NOUN attr\n",
      "for ADP prep\n"
     ]
    }
   ],
   "source": [
    "# Access linguistic features\n",
    "for token in span:\n",
    "    print(token.text, token.pos_, token.dep_)\n",
    "\n",
    "# a .... determiner that modifies the noun tool\n",
    "# great .... adjective \n",
    "# tool .... noun\n",
    "# for .... adposition (preposition/postposition) - introduces the purpose(learning here)    "
   ]
  }
 ],
 "metadata": {
  "kernelspec": {
   "display_name": ".venv",
   "language": "python",
   "name": "python3"
  },
  "language_info": {
   "codemirror_mode": {
    "name": "ipython",
    "version": 3
   },
   "file_extension": ".py",
   "mimetype": "text/x-python",
   "name": "python",
   "nbconvert_exporter": "python",
   "pygments_lexer": "ipython3",
   "version": "3.13.2"
  }
 },
 "nbformat": 4,
 "nbformat_minor": 5
}
