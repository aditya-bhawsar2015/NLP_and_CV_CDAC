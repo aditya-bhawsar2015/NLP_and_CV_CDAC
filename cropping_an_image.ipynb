{
 "cells": [
  {
   "cell_type": "code",
   "execution_count": 1,
   "id": "79d6476c",
   "metadata": {},
   "outputs": [],
   "source": [
    "# Ensuering cropping is not out of bound\n",
    "import cv2\n",
    "import numpy as np"
   ]
  },
  {
   "cell_type": "code",
   "execution_count": 2,
   "id": "b9069ebc",
   "metadata": {},
   "outputs": [],
   "source": [
    "# Read the image first\n",
    "img = cv2.imread('dog-cat.jpg')\n",
    "\n",
    "height, width = img.shape[:2]\n",
    "\n",
    "# # Display the image in a window (this will work only if you are not in a headless environment)\n",
    "# cv2.imshow('Dog and Cat', img)\n",
    "# cv2.waitKey(0)\n",
    "# cv2.destroyAllWindows()"
   ]
  },
  {
   "cell_type": "code",
   "execution_count": 3,
   "id": "e175a215",
   "metadata": {},
   "outputs": [],
   "source": [
    "# Get image dimesntions (height, weight, channels)\n",
    "x1_fixed , y1_fixed = 50, 50\n",
    "x2_fixed , y2_fixed = 300,300"
   ]
  },
  {
   "cell_type": "code",
   "execution_count": 4,
   "id": "6eb8edca",
   "metadata": {},
   "outputs": [],
   "source": [
    "# Ensure crop coordinates are within image bounds to prevent errors\n",
    "y1_fixed = max(0, y1_fixed)\n",
    "x1_fixed = max(0, x1_fixed)\n",
    "y2_fixed = min(height, y2_fixed)\n",
    "x2_fixed = min(width, x2_fixed)"
   ]
  },
  {
   "cell_type": "code",
   "execution_count": 5,
   "id": "4f624e37",
   "metadata": {},
   "outputs": [
    {
     "name": "stdout",
     "output_type": "stream",
     "text": [
      "Fixed cropped image saved as dog-cat-cropped-fixed.jpg\n"
     ]
    }
   ],
   "source": [
    "if y1_fixed >= y2_fixed or x1_fixed >= x2_fixed:\n",
    "    print(\"Warning: Fixed crop dimenstions are invalid or result in an empty image. Skipping fixed crop.\")\n",
    "    cropped_fixed = None\n",
    "else:\n",
    "    cropped_fixed = img[y1_fixed : y2_fixed, x1_fixed:x2_fixed]\n",
    "    cv2.imshow(\"Cropped(Fixed Coordinates)\", cropped_fixed)\n",
    "    cv2.waitKey(0)\n",
    "    cv2.imwrite(\"dog-cat-cropped-fixed.jpg\", cropped_fixed)\n",
    "    print(f\"Fixed cropped image saved as dog-cat-cropped-fixed.jpg\")"
   ]
  },
  {
   "cell_type": "code",
   "execution_count": null,
   "id": "4a21ce1d",
   "metadata": {},
   "outputs": [],
   "source": []
  }
 ],
 "metadata": {
  "kernelspec": {
   "display_name": ".venv",
   "language": "python",
   "name": "python3"
  },
  "language_info": {
   "codemirror_mode": {
    "name": "ipython",
    "version": 3
   },
   "file_extension": ".py",
   "mimetype": "text/x-python",
   "name": "python",
   "nbconvert_exporter": "python",
   "pygments_lexer": "ipython3",
   "version": "3.13.2"
  }
 },
 "nbformat": 4,
 "nbformat_minor": 5
}
