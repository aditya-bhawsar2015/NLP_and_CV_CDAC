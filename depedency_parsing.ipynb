{
 "cells": [
  {
   "cell_type": "code",
   "execution_count": 1,
   "id": "b309f5a7",
   "metadata": {},
   "outputs": [],
   "source": [
    "# Dependency parsing : A type of syntactic parsing, which is a part of deep parsing (in spacy)\n",
    "import spacy\n",
    "\n",
    "nlp = spacy.load(\"en_core_web_sm\")"
   ]
  },
  {
   "cell_type": "code",
   "execution_count": 2,
   "id": "299a63be",
   "metadata": {},
   "outputs": [
    {
     "name": "stdout",
     "output_type": "stream",
     "text": [
      "NLP        ---> nsubj      ---> are       \n",
      "and        ---> cc         ---> NLP       \n",
      "CV         ---> conj       ---> NLP       \n",
      "are        ---> ROOT       ---> are       \n",
      "two        ---> nummod     ---> examples  \n",
      "modern     ---> amod       ---> examples  \n",
      "examples   ---> attr       ---> are       \n",
      "of         ---> prep       ---> examples  \n",
      "AI         ---> pobj       ---> of        \n",
      ".          ---> punct      ---> are       \n",
      "NLP        POS : PROPN      DEP : nsubj      HEAD : are\n",
      "and        POS : CCONJ      DEP : cc         HEAD : NLP\n",
      "CV         POS : PROPN      DEP : conj       HEAD : NLP\n",
      "are        POS : AUX        DEP : ROOT       HEAD : are\n",
      "two        POS : NUM        DEP : nummod     HEAD : examples\n",
      "modern     POS : ADJ        DEP : amod       HEAD : examples\n",
      "examples   POS : NOUN       DEP : attr       HEAD : are\n",
      "of         POS : ADP        DEP : prep       HEAD : examples\n",
      "AI         POS : PROPN      DEP : pobj       HEAD : of\n",
      ".          POS : PUNCT      DEP : punct      HEAD : are\n",
      "Named Entities\n",
      "NLP                  ---> ORG\n",
      "CV                   ---> GPE\n",
      "two                  ---> CARDINAL\n",
      "AI                   ---> GPE\n"
     ]
    }
   ],
   "source": [
    "sentence = \"NLP and CV are two modern examples of AI.\"\n",
    "doc = nlp(sentence)\n",
    "\n",
    "# Print each word, its dependency label, and the word it depends on (its \"head\")\n",
    "for token in doc:\n",
    "    print(f\"{token.text:10} ---> {token.dep_:10} ---> {token.head.text:10}\")\n",
    "\n",
    "# Print POS tags\n",
    "for token in doc:\n",
    "    print(f\"{token.text:10} POS : {token.pos_:10} DEP : {token.dep_:10} HEAD : {token.head.text}\")\n",
    "\n",
    "# Print NE\n",
    "print(\"Named Entities\")\n",
    "for ent in doc.ents:\n",
    "    print(f\"{ent.text:20} ---> {ent.label_}\")"
   ]
  },
  {
   "cell_type": "code",
   "execution_count": 3,
   "id": "74119093",
   "metadata": {},
   "outputs": [],
   "source": [
    "# Visualize parse tree -> Jupyter/Colab\n",
    "# from spacy import displacy\n",
    "# displacy.render(doc, stypl='dep)"
   ]
  },
  {
   "cell_type": "code",
   "execution_count": null,
   "id": "f6a4ad82",
   "metadata": {},
   "outputs": [
    {
     "name": "stderr",
     "output_type": "stream",
     "text": [
      "d:\\workspace\\NLP_CV\\.venv\\Lib\\site-packages\\spacy\\displacy\\__init__.py:106: UserWarning: [W011] It looks like you're calling displacy.serve from within a Jupyter notebook or a similar environment. This likely means you're already running a local web server, so there's no need to make displaCy start another one. Instead, you should be able to replace displacy.serve with displacy.render to show the visualization.\n",
      "  warnings.warn(Warnings.W011)\n"
     ]
    },
    {
     "ename": "ImportError",
     "evalue": "cannot import name 'display' from 'IPython.core.display' (d:\\workspace\\NLP_CV\\.venv\\Lib\\site-packages\\IPython\\core\\display.py)",
     "output_type": "error",
     "traceback": [
      "\u001b[31m---------------------------------------------------------------------------\u001b[39m",
      "\u001b[31mImportError\u001b[39m                               Traceback (most recent call last)",
      "\u001b[36mCell\u001b[39m\u001b[36m \u001b[39m\u001b[32mIn[14]\u001b[39m\u001b[32m, line 3\u001b[39m\n\u001b[32m      1\u001b[39m \u001b[38;5;66;03m# VS Code ->\u001b[39;00m\n\u001b[32m      2\u001b[39m \u001b[38;5;28;01mfrom\u001b[39;00m\u001b[38;5;250m \u001b[39m\u001b[34;01mspacy\u001b[39;00m\u001b[38;5;250m \u001b[39m\u001b[38;5;28;01mimport\u001b[39;00m displacy\n\u001b[32m----> \u001b[39m\u001b[32m3\u001b[39m \u001b[43mdisplacy\u001b[49m\u001b[43m.\u001b[49m\u001b[43mserve\u001b[49m\u001b[43m(\u001b[49m\u001b[43mdoc\u001b[49m\u001b[43m,\u001b[49m\u001b[43m \u001b[49m\u001b[43mstyle\u001b[49m\u001b[43m=\u001b[49m\u001b[33;43m'\u001b[39;49m\u001b[33;43mdep\u001b[39;49m\u001b[33;43m'\u001b[39;49m\u001b[43m,\u001b[49m\u001b[43m \u001b[49m\u001b[43mport\u001b[49m\u001b[43m=\u001b[49m\u001b[32;43m7777\u001b[39;49m\u001b[43m)\u001b[49m\n\u001b[32m      5\u001b[39m \u001b[38;5;66;03m# html = displacy.render(doc, style='dep', page=True)\u001b[39;00m\n\u001b[32m      6\u001b[39m \u001b[38;5;66;03m# with open(\"dependency.html\", \"w\", encoding=\"utf-8\") as f:\u001b[39;00m\n\u001b[32m      7\u001b[39m \u001b[38;5;66;03m#     f.write(html)\u001b[39;00m\n",
      "\u001b[36mFile \u001b[39m\u001b[32md:\\workspace\\NLP_CV\\.venv\\Lib\\site-packages\\spacy\\displacy\\__init__.py:107\u001b[39m, in \u001b[36mserve\u001b[39m\u001b[34m(docs, style, page, minify, options, manual, port, host, auto_select_port)\u001b[39m\n\u001b[32m    105\u001b[39m \u001b[38;5;28;01mif\u001b[39;00m is_in_jupyter():\n\u001b[32m    106\u001b[39m     warnings.warn(Warnings.W011)\n\u001b[32m--> \u001b[39m\u001b[32m107\u001b[39m \u001b[43mrender\u001b[49m\u001b[43m(\u001b[49m\u001b[43mdocs\u001b[49m\u001b[43m,\u001b[49m\u001b[43m \u001b[49m\u001b[43mstyle\u001b[49m\u001b[43m=\u001b[49m\u001b[43mstyle\u001b[49m\u001b[43m,\u001b[49m\u001b[43m \u001b[49m\u001b[43mpage\u001b[49m\u001b[43m=\u001b[49m\u001b[43mpage\u001b[49m\u001b[43m,\u001b[49m\u001b[43m \u001b[49m\u001b[43mminify\u001b[49m\u001b[43m=\u001b[49m\u001b[43mminify\u001b[49m\u001b[43m,\u001b[49m\u001b[43m \u001b[49m\u001b[43moptions\u001b[49m\u001b[43m=\u001b[49m\u001b[43moptions\u001b[49m\u001b[43m,\u001b[49m\u001b[43m \u001b[49m\u001b[43mmanual\u001b[49m\u001b[43m=\u001b[49m\u001b[43mmanual\u001b[49m\u001b[43m)\u001b[49m\n\u001b[32m    108\u001b[39m httpd = simple_server.make_server(host, port, app)\n\u001b[32m    109\u001b[39m \u001b[38;5;28mprint\u001b[39m(\u001b[33mf\u001b[39m\u001b[33m\"\u001b[39m\u001b[38;5;130;01m\\n\u001b[39;00m\u001b[33mUsing the \u001b[39m\u001b[33m'\u001b[39m\u001b[38;5;132;01m{\u001b[39;00mstyle\u001b[38;5;132;01m}\u001b[39;00m\u001b[33m'\u001b[39m\u001b[33m visualizer\u001b[39m\u001b[33m\"\u001b[39m)\n",
      "\u001b[36mFile \u001b[39m\u001b[32md:\\workspace\\NLP_CV\\.venv\\Lib\\site-packages\\spacy\\displacy\\__init__.py:69\u001b[39m, in \u001b[36mrender\u001b[39m\u001b[34m(docs, style, page, minify, jupyter, options, manual)\u001b[39m\n\u001b[32m     65\u001b[39m     html = RENDER_WRAPPER(html)\n\u001b[32m     66\u001b[39m \u001b[38;5;28;01mif\u001b[39;00m jupyter \u001b[38;5;129;01mor\u001b[39;00m (jupyter \u001b[38;5;129;01mis\u001b[39;00m \u001b[38;5;28;01mNone\u001b[39;00m \u001b[38;5;129;01mand\u001b[39;00m is_in_jupyter()):\n\u001b[32m     67\u001b[39m     \u001b[38;5;66;03m# return HTML rendered by IPython display()\u001b[39;00m\n\u001b[32m     68\u001b[39m     \u001b[38;5;66;03m# See #4840 for details on span wrapper to disable mathjax\u001b[39;00m\n\u001b[32m---> \u001b[39m\u001b[32m69\u001b[39m     \u001b[38;5;28;01mfrom\u001b[39;00m\u001b[38;5;250m \u001b[39m\u001b[34;01mIPython\u001b[39;00m\u001b[34;01m.\u001b[39;00m\u001b[34;01mcore\u001b[39;00m\u001b[34;01m.\u001b[39;00m\u001b[34;01mdisplay\u001b[39;00m\u001b[38;5;250m \u001b[39m\u001b[38;5;28;01mimport\u001b[39;00m HTML, display\n\u001b[32m     71\u001b[39m     \u001b[38;5;28;01mreturn\u001b[39;00m display(HTML(\u001b[33m'\u001b[39m\u001b[33m<span class=\u001b[39m\u001b[33m\"\u001b[39m\u001b[33mtex2jax_ignore\u001b[39m\u001b[33m\"\u001b[39m\u001b[33m>\u001b[39m\u001b[38;5;132;01m{}\u001b[39;00m\u001b[33m</span>\u001b[39m\u001b[33m'\u001b[39m.format(html)))\n\u001b[32m     72\u001b[39m \u001b[38;5;28;01mreturn\u001b[39;00m html\n",
      "\u001b[31mImportError\u001b[39m: cannot import name 'display' from 'IPython.core.display' (d:\\workspace\\NLP_CV\\.venv\\Lib\\site-packages\\IPython\\core\\display.py)"
     ]
    }
   ],
   "source": [
    "# VS Code ->\n",
    "from spacy import displacy\n",
    "displacy.serve(doc, style='dep')\n",
    "\n",
    "# html = displacy.render(doc, style='dep', page=True)\n",
    "# with open(\"dependency.html\", \"w\", encoding=\"utf-8\") as f:\n",
    "#     f.write(html)"
   ]
  },
  {
   "cell_type": "code",
   "execution_count": null,
   "id": "c295e7c7",
   "metadata": {},
   "outputs": [],
   "source": []
  }
 ],
 "metadata": {
  "kernelspec": {
   "display_name": ".venv",
   "language": "python",
   "name": "python3"
  },
  "language_info": {
   "codemirror_mode": {
    "name": "ipython",
    "version": 3
   },
   "file_extension": ".py",
   "mimetype": "text/x-python",
   "name": "python",
   "nbconvert_exporter": "python",
   "pygments_lexer": "ipython3",
   "version": "3.13.2"
  }
 },
 "nbformat": 4,
 "nbformat_minor": 5
}
