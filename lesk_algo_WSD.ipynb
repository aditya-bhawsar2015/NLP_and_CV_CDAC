{
 "cells": [
  {
   "cell_type": "code",
   "execution_count": 1,
   "id": "efb35649",
   "metadata": {},
   "outputs": [],
   "source": [
    "# Lest algorithm to try and do Word Sense Disambiguation\n",
    "from nltk.wsd import lesk\n",
    "from nltk.tokenize import word_tokenize"
   ]
  },
  {
   "cell_type": "code",
   "execution_count": 2,
   "id": "8117bd0b",
   "metadata": {},
   "outputs": [
    {
     "name": "stdout",
     "output_type": "stream",
     "text": [
      "Sense: Synset('savings_bank.n.02')\n",
      "Definition: a container (usually with a slot in the top) for keeping money at home\n"
     ]
    }
   ],
   "source": [
    "sentence = \"T went to the bank to deposit money.\"\n",
    "ambiguous_word = \"bank\"\n",
    "\n",
    "sense = lesk(word_tokenize(sentence), ambiguous_word)\n",
    "print(f\"Sense: {sense}\")\n",
    "print(f\"Definition: {sense.definition()}\")"
   ]
  },
  {
   "cell_type": "code",
   "execution_count": 5,
   "id": "a5e43492",
   "metadata": {},
   "outputs": [
    {
     "name": "stdout",
     "output_type": "stream",
     "text": [
      "Sense :Synset('bank.v.07')\n",
      "Definition: cover with ashes so to control the rate of burning\n"
     ]
    }
   ],
   "source": [
    "# Second example\n",
    "sentence = \"He sat on the bank of the river\"\n",
    "ambiguous_word = \"bank\"\n",
    "\n",
    "sense = lesk(word_tokenize(sentence), ambiguous_word)\n",
    "print(f\"Sense :{sense}\")\n",
    "print(f\"Definition: {sense.definition()}\")"
   ]
  }
 ],
 "metadata": {
  "kernelspec": {
   "display_name": ".venv",
   "language": "python",
   "name": "python3"
  },
  "language_info": {
   "codemirror_mode": {
    "name": "ipython",
    "version": 3
   },
   "file_extension": ".py",
   "mimetype": "text/x-python",
   "name": "python",
   "nbconvert_exporter": "python",
   "pygments_lexer": "ipython3",
   "version": "3.13.2"
  }
 },
 "nbformat": 4,
 "nbformat_minor": 5
}
