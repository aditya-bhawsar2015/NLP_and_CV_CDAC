{
 "cells": [
  {
   "cell_type": "code",
   "execution_count": 2,
   "id": "1308458c",
   "metadata": {},
   "outputs": [
    {
     "name": "stdout",
     "output_type": "stream",
     "text": [
      "\n",
      "The European Union (EU) is a supranational political and economic union of 27 member states that are located primarily in Europe.[9][10] \n",
      "The union has a total area of 4,233,255 km2 (1,634,469 sq mi) and an estimated population of over 449 million as of 2024. \n",
      "The EU is often described as a sui generis political entity combining characteristics of both a federation and a confederation.[11][12]\n",
      "\n",
      "Containing 5.5% of the world population in 2023,[13] EU member states generated a nominal gross domestic product (GDP) of around €17.935 trillion in 2024,\n",
      "accounting for approximately one sixth of global economic output.[14] \n",
      "Its cornerstone, the Customs Union, paved the way to establishing an internal single market based on standardised legal framework and legislation that applies in all member states in\n",
      "those matters, and only those matters, where the states have agreed to act as one. EU policies aim to ensure the free movement of people, goods, services and capital within\n",
      "the internal market;[15] enact legislation in justice and home affairs; and maintain common policies on trade,[16] agriculture,[17] fisheries and regional development.[18] \n",
      "Passport controls have been abolished for travel within the Schengen Area.[19] The eurozone is a group composed of the 20 EU member states that have fully implemented the EU's \n",
      "economic and monetary union and use the euro currency. Through the Common Foreign and Security Policy, the union has developed a role in external relations and defence.\n",
      "It maintains permanent diplomatic missions throughout the world and represents itself at the United Nations, the World Trade Organization, the G7 and the G20.\n",
      "Due to its global influence, the European Union has been described by some scholars as an emerging superpower.[20][21][22][needs update]\n",
      "\n"
     ]
    }
   ],
   "source": [
    "# Tokenization Manual using NLTK : \n",
    "\n",
    "\n",
    "eu_definition = '''\n",
    "The European Union (EU) is a supranational political and economic union of 27 member states that are located primarily in Europe.[9][10] \n",
    "The union has a total area of 4,233,255 km2 (1,634,469 sq mi) and an estimated population of over 449 million as of 2024. \n",
    "The EU is often described as a sui generis political entity combining characteristics of both a federation and a confederation.[11][12]\n",
    "\n",
    "Containing 5.5% of the world population in 2023,[13] EU member states generated a nominal gross domestic product (GDP) of around €17.935 trillion in 2024,\n",
    "accounting for approximately one sixth of global economic output.[14] \n",
    "Its cornerstone, the Customs Union, paved the way to establishing an internal single market based on standardised legal framework and legislation that applies in all member states in\n",
    "those matters, and only those matters, where the states have agreed to act as one. EU policies aim to ensure the free movement of people, goods, services and capital within\n",
    "the internal market;[15] enact legislation in justice and home affairs; and maintain common policies on trade,[16] agriculture,[17] fisheries and regional development.[18] \n",
    "Passport controls have been abolished for travel within the Schengen Area.[19] The eurozone is a group composed of the 20 EU member states that have fully implemented the EU's \n",
    "economic and monetary union and use the euro currency. Through the Common Foreign and Security Policy, the union has developed a role in external relations and defence.\n",
    "It maintains permanent diplomatic missions throughout the world and represents itself at the United Nations, the World Trade Organization, the G7 and the G20.\n",
    "Due to its global influence, the European Union has been described by some scholars as an emerging superpower.[20][21][22][needs update]\n",
    "'''\n",
    "print(eu_definition)"
   ]
  },
  {
   "cell_type": "code",
   "execution_count": null,
   "id": "ed885789",
   "metadata": {},
   "outputs": [
    {
     "name": "stdout",
     "output_type": "stream",
     "text": [
      "\n",
      "The European Union (EU) is a supranational political and economic union of 27 member states that are located primarily in Europe\n",
      "[9][10] \n",
      "The union has a total area of 4,233,255 km2 (1,634,469 sq mi) and an estimated population of over 449 million as of 2024\n",
      " \n",
      "The EU is often described as a sui generis political entity combining characteristics of both a federation and a confederation\n",
      "[11][12]\n",
      "\n",
      "Containing 5\n",
      "5% of the world population in 2023,[13] EU member states generated a nominal gross domestic product (GDP) of around €17\n"
     ]
    }
   ],
   "source": [
    "# Can we tokenize, i.e. split on full stop?\n",
    "sentences_example_split = eu_definition.split('.')\n",
    "print(sentences_example_split[0])    # Ok\n",
    "print(sentences_example_split[1])    # Ok\n",
    "print(sentences_example_split[2])    # Ok\n",
    "print(sentences_example_split[3])    # Problem\n",
    "print(sentences_example_split[4])    # Problem"
   ]
  },
  {
   "cell_type": "code",
   "execution_count": null,
   "id": "7b1649c7",
   "metadata": {},
   "outputs": [
    {
     "name": "stdout",
     "output_type": "stream",
     "text": [
      "\n",
      "The European Union (EU) is a supranational political and economic union of 27 member states that are located primarily in Europe.\n",
      "[9][10] \n",
      "The union has a total area of 4,233,255 km2 (1,634,469 sq mi) and an estimated population of over 449 million as of 2024.\n",
      "The EU is often described as a sui generis political entity combining characteristics of both a federation and a confederation.\n",
      "[11][12]\n",
      "\n",
      "Containing 5.5% of the world population in 2023,[13] EU member states generated a nominal gross domestic product (GDP) of around €17.935 trillion in 2024,\n",
      "accounting for approximately one sixth of global economic output.\n",
      "[14] \n",
      "Its cornerstone, the Customs Union, paved the way to establishing an internal single market based on standardised legal framework and legislation that applies in all member states in\n",
      "those matters, and only those matters, where the states have agreed to act as one.\n"
     ]
    }
   ],
   "source": [
    "# Solution?.... Use NLTK\n",
    "# Sentence Tokenizer : \n",
    "import nltk\n",
    "sentences_example_nltk = nltk.tokenize.sent_tokenize(eu_definition)\n",
    "print(sentences_example_nltk[0])        # Ok\n",
    "print(sentences_example_nltk[1])        # Ok\n",
    "print(sentences_example_nltk[2])        # Ok\n",
    "print(sentences_example_nltk[3])        # Ok\n",
    "print(sentences_example_nltk[4])        # Ok"
   ]
  },
  {
   "cell_type": "code",
   "execution_count": 7,
   "id": "a73e3362",
   "metadata": {},
   "outputs": [
    {
     "name": "stdout",
     "output_type": "stream",
     "text": [
      "Manual split on \".\" :\n",
      "1 : The European Union (EU) is a supranational political and economic union of 27 member states that are located primarily in Europe\n",
      "2 : [9][10] \n",
      "The union has a total area of 4,233,255 km2 (1,634,469 sq mi) and an estimated population of over 449 million as of 2024\n",
      "3 : The EU is often described as a sui generis political entity combining characteristics of both a federation and a confederation\n",
      "4 : [11][12]\n",
      "\n",
      "Containing 5\n",
      "5 : 5% of the world population in 2023,[13] EU member states generated a nominal gross domestic product (GDP) of around €17\n",
      "6 : 935 trillion in 2024,\n",
      "accounting for approximately one sixth of global economic output\n",
      "\n",
      "NLTK sent_tokenize output : \n",
      "1 : \n",
      "The European Union (EU) is a supranational political and economic union of 27 member states that are located primarily in Europe.\n",
      "2 : [9][10] \n",
      "The union has a total area of 4,233,255 km2 (1,634,469 sq mi) and an estimated population of over 449 million as of 2024.\n",
      "3 : The EU is often described as a sui generis political entity combining characteristics of both a federation and a confederation.\n",
      "4 : [11][12]\n",
      "\n",
      "Containing 5.5% of the world population in 2023,[13] EU member states generated a nominal gross domestic product (GDP) of around €17.935 trillion in 2024,\n",
      "accounting for approximately one sixth of global economic output.\n",
      "5 : [14] \n",
      "Its cornerstone, the Customs Union, paved the way to establishing an internal single market based on standardised legal framework and legislation that applies in all member states in\n",
      "those matters, and only those matters, where the states have agreed to act as one.\n",
      "6 : EU policies aim to ensure the free movement of people, goods, services and capital within\n",
      "the internal market;[15] enact legislation in justice and home affairs; and maintain common policies on trade,[16] agriculture,[17] fisheries and regional development.\n"
     ]
    }
   ],
   "source": [
    "# Complete comparision\n",
    "print('Manual split on \".\" :')\n",
    "for i , s in enumerate(sentences_example_split[:6], 1):\n",
    "    print(f\"{i} : {s.strip()}\")\n",
    "\n",
    "print(\"\\nNLTK sent_tokenize output : \")\n",
    "for i, s in enumerate(sentences_example_nltk[:6], 1):\n",
    "    print(f\"{i} : {s}\")"
   ]
  },
  {
   "cell_type": "code",
   "execution_count": null,
   "id": "48010f6a",
   "metadata": {},
   "outputs": [],
   "source": [
    " "
   ]
  }
 ],
 "metadata": {
  "kernelspec": {
   "display_name": ".venv",
   "language": "python",
   "name": "python3"
  },
  "language_info": {
   "codemirror_mode": {
    "name": "ipython",
    "version": 3
   },
   "file_extension": ".py",
   "mimetype": "text/x-python",
   "name": "python",
   "nbconvert_exporter": "python",
   "pygments_lexer": "ipython3",
   "version": "3.13.2"
  }
 },
 "nbformat": 4,
 "nbformat_minor": 5
}
