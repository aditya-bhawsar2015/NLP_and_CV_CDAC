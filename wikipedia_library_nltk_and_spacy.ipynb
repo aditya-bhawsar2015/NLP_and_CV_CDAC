{
 "cells": [
  {
   "cell_type": "code",
   "execution_count": null,
   "id": "94c24755",
   "metadata": {},
   "outputs": [
    {
     "name": "stdout",
     "output_type": "stream",
     "text": [
      "Collecting wikipedia\n",
      "  Downloading wikipedia-1.4.0.tar.gz (27 kB)\n",
      "  Preparing metadata (setup.py): started\n",
      "  Preparing metadata (setup.py): finished with status 'done'\n",
      "Requirement already satisfied: beautifulsoup4 in d:\\workspace\\nlp_cv\\.venv\\lib\\site-packages (from wikipedia) (4.13.4)\n",
      "Requirement already satisfied: requests<3.0.0,>=2.0.0 in d:\\workspace\\nlp_cv\\.venv\\lib\\site-packages (from wikipedia) (2.32.3)\n",
      "Requirement already satisfied: charset-normalizer<4,>=2 in d:\\workspace\\nlp_cv\\.venv\\lib\\site-packages (from requests<3.0.0,>=2.0.0->wikipedia) (3.4.2)\n",
      "Requirement already satisfied: idna<4,>=2.5 in d:\\workspace\\nlp_cv\\.venv\\lib\\site-packages (from requests<3.0.0,>=2.0.0->wikipedia) (3.10)\n",
      "Requirement already satisfied: urllib3<3,>=1.21.1 in d:\\workspace\\nlp_cv\\.venv\\lib\\site-packages (from requests<3.0.0,>=2.0.0->wikipedia) (2.4.0)\n",
      "Requirement already satisfied: certifi>=2017.4.17 in d:\\workspace\\nlp_cv\\.venv\\lib\\site-packages (from requests<3.0.0,>=2.0.0->wikipedia) (2025.4.26)\n",
      "Requirement already satisfied: soupsieve>1.2 in d:\\workspace\\nlp_cv\\.venv\\lib\\site-packages (from beautifulsoup4->wikipedia) (2.7)\n",
      "Requirement already satisfied: typing-extensions>=4.0.0 in d:\\workspace\\nlp_cv\\.venv\\lib\\site-packages (from beautifulsoup4->wikipedia) (4.13.2)\n",
      "Building wheels for collected packages: wikipedia\n",
      "  Building wheel for wikipedia (setup.py): started\n",
      "  Building wheel for wikipedia (setup.py): finished with status 'done'\n",
      "  Created wheel for wikipedia: filename=wikipedia-1.4.0-py3-none-any.whl size=11784 sha256=71fcf246be8e1e5effd8de040727d4c60227bbc1465ecb43318877af199b5d3b\n",
      "  Stored in directory: c:\\users\\dai.studentsdc\\appdata\\local\\pip\\cache\\wheels\\79\\1d\\c8\\b64e19423cc5a2a339450ea5d145e7c8eb3d4aa2b150cde33b\n",
      "Successfully built wikipedia\n",
      "Installing collected packages: wikipedia\n",
      "Successfully installed wikipedia-1.4.0\n"
     ]
    },
    {
     "name": "stderr",
     "output_type": "stream",
     "text": [
      "  DEPRECATION: Building 'wikipedia' using the legacy setup.py bdist_wheel mechanism, which will be removed in a future version. pip 25.3 will enforce this behaviour change. A possible replacement is to use the standardized build interface by setting the `--use-pep517` option, (possibly combined with `--no-build-isolation`), or adding a `pyproject.toml` file to the source tree of 'wikipedia'. Discussion can be found at https://github.com/pypa/pip/issues/6334\n"
     ]
    }
   ],
   "source": [
    "# !pip install wikipedia"
   ]
  },
  {
   "cell_type": "code",
   "execution_count": 2,
   "id": "34000e42",
   "metadata": {},
   "outputs": [
    {
     "name": "stderr",
     "output_type": "stream",
     "text": [
      "[nltk_data] Downloading package punkt to\n",
      "[nltk_data]     C:\\Users\\dai.STUDENTSDC\\AppData\\Roaming\\nltk_data...\n",
      "[nltk_data]   Package punkt is already up-to-date!\n"
     ]
    },
    {
     "data": {
      "text/plain": [
       "True"
      ]
     },
     "execution_count": 2,
     "metadata": {},
     "output_type": "execute_result"
    }
   ],
   "source": [
    "import wikipedia\n",
    "import nltk\n",
    "from nltk.tokenize import word_tokenize, sent_tokenize\n",
    "\n",
    "# Download NLTK resources\n",
    "nltk.download('punkt')"
   ]
  },
  {
   "cell_type": "code",
   "execution_count": 3,
   "id": "57a780c1",
   "metadata": {},
   "outputs": [],
   "source": [
    "# Step - 1 : Extract CDAC page content\n",
    "text = wikipedia.page(\"C-DAC\").content"
   ]
  },
  {
   "cell_type": "code",
   "execution_count": 4,
   "id": "0850f152",
   "metadata": {},
   "outputs": [],
   "source": [
    "# Step-2: Tokenize using NLTK\n",
    "word_tokens_nltk = word_tokenize(text)\n",
    "sentence_tokens_nltk = sent_tokenize(text)"
   ]
  },
  {
   "cell_type": "code",
   "execution_count": 5,
   "id": "3aea13f6",
   "metadata": {},
   "outputs": [
    {
     "name": "stdout",
     "output_type": "stream",
     "text": [
      "====NLTK Tokenization====\n",
      "Word count(NLTK) : 945\n",
      "Sentence count(NLTK) : 36\n"
     ]
    }
   ],
   "source": [
    "# Step - 3: Display counts\n",
    "print(\"====NLTK Tokenization====\")\n",
    "print(f\"Word count(NLTK) : {len(word_tokens_nltk)}\")\n",
    "print(f\"Sentence count(NLTK) : {len(sentence_tokens_nltk)}\")"
   ]
  },
  {
   "cell_type": "code",
   "execution_count": 1,
   "id": "fb84ec1c",
   "metadata": {},
   "outputs": [],
   "source": [
    "import spacy"
   ]
  },
  {
   "cell_type": "code",
   "execution_count": 6,
   "id": "75177433",
   "metadata": {},
   "outputs": [],
   "source": [
    "# Load English spaCy model\n",
    "nlp = spacy.load(\"en_core_web_sm\")"
   ]
  },
  {
   "cell_type": "code",
   "execution_count": 7,
   "id": "a9a50534",
   "metadata": {},
   "outputs": [],
   "source": [
    "# Step - 1 : Extract CDAC page content\n",
    "text = wikipedia.page(\"C-DAC\").content"
   ]
  },
  {
   "cell_type": "code",
   "execution_count": 8,
   "id": "d504849b",
   "metadata": {},
   "outputs": [],
   "source": [
    "# Step-2 : Tokenize with spaCy\n",
    "doc = nlp(text)"
   ]
  },
  {
   "cell_type": "code",
   "execution_count": 10,
   "id": "330ff8d0",
   "metadata": {},
   "outputs": [],
   "source": [
    "# Step-3 : Extract word and sentences:\n",
    "word_token_spacy = [token.text for token in doc if not token.is_space]\n",
    "sentence_tokens_spacy = list(doc.sents)"
   ]
  },
  {
   "cell_type": "code",
   "execution_count": 11,
   "id": "97d68727",
   "metadata": {},
   "outputs": [
    {
     "name": "stdout",
     "output_type": "stream",
     "text": [
      "==== spaCy Tokenization ====\n",
      "Word count(spacy) : 1052\n",
      "Sentence count(spacy) : 36\n"
     ]
    }
   ],
   "source": [
    "# Step-4 : Display counts - \n",
    "print(\"==== spaCy Tokenization ====\")\n",
    "print(f\"Word count(spacy) : {len(word_token_spacy)}\")\n",
    "print(f\"Sentence count(spacy) : {len(sentence_tokens_spacy)}\")"
   ]
  }
 ],
 "metadata": {
  "kernelspec": {
   "display_name": ".venv",
   "language": "python",
   "name": "python3"
  },
  "language_info": {
   "codemirror_mode": {
    "name": "ipython",
    "version": 3
   },
   "file_extension": ".py",
   "mimetype": "text/x-python",
   "name": "python",
   "nbconvert_exporter": "python",
   "pygments_lexer": "ipython3",
   "version": "3.13.2"
  }
 },
 "nbformat": 4,
 "nbformat_minor": 5
}
