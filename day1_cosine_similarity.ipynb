{
 "cells": [
  {
   "cell_type": "code",
   "execution_count": 1,
   "id": "afdf8432",
   "metadata": {},
   "outputs": [],
   "source": [
    "# Cosine similarity Example\n",
    "from sklearn.feature_extraction.text import TfidfVectorizer\n",
    "from sklearn.metrics.pairwise import cosine_similarity"
   ]
  },
  {
   "cell_type": "code",
   "execution_count": null,
   "id": "00788465",
   "metadata": {},
   "outputs": [],
   "source": [
    "# Examle Sentences\n",
    "sentence1 = \"I love flying with this airline\"\n",
    "sentence2 = \"This airline is my favourite\"\n",
    "\n",
    "# Connect to vector representation using TF-IDF\n",
    "vectorizer = TfidfVectorizer()\n",
    "tfidf_matrix = vectorizer.fit_transform([sentence1, sentence2])"
   ]
  },
  {
   "cell_type": "code",
   "execution_count": 3,
   "id": "a0a4e0d7",
   "metadata": {},
   "outputs": [
    {
     "name": "stdout",
     "output_type": "stream",
     "text": [
      "Cosine Similarity =  0.2523\n"
     ]
    }
   ],
   "source": [
    "# Compute cosine similarity\n",
    "cos_sim = cosine_similarity(tfidf_matrix[0:1], tfidf_matrix[1:2])\n",
    "\n",
    "print(f'Cosine Similarity = {cos_sim[0][0]: .4f}')"
   ]
  },
  {
   "cell_type": "code",
   "execution_count": 4,
   "id": "e6f0b925",
   "metadata": {},
   "outputs": [],
   "source": [
    "sentence1 = 'I like to eat early in the morning.'\n",
    "sentence2 = 'Eating late is what i like.'\n",
    "\n",
    "# Connect to vector representation using TF-IDF\n",
    "vectorizer = TfidfVectorizer()\n",
    "tfidf_matrix = vectorizer.fit_transform([sentence1, sentence2])"
   ]
  },
  {
   "cell_type": "code",
   "execution_count": 5,
   "id": "75a3990e",
   "metadata": {},
   "outputs": [
    {
     "name": "stdout",
     "output_type": "stream",
     "text": [
      "Cosine Similarity =  0.0935\n"
     ]
    }
   ],
   "source": [
    "# Compute cosine similarity\n",
    "cos_sim = cosine_similarity(tfidf_matrix[0:1], tfidf_matrix[1:2])\n",
    "\n",
    "print(f'Cosine Similarity = {cos_sim[0][0]: .4f}')"
   ]
  },
  {
   "cell_type": "code",
   "execution_count": null,
   "id": "36056b84",
   "metadata": {},
   "outputs": [],
   "source": []
  }
 ],
 "metadata": {
  "kernelspec": {
   "display_name": "base",
   "language": "python",
   "name": "python3"
  },
  "language_info": {
   "codemirror_mode": {
    "name": "ipython",
    "version": 3
   },
   "file_extension": ".py",
   "mimetype": "text/x-python",
   "name": "python",
   "nbconvert_exporter": "python",
   "pygments_lexer": "ipython3",
   "version": "3.8.5"
  }
 },
 "nbformat": 4,
 "nbformat_minor": 5
}
