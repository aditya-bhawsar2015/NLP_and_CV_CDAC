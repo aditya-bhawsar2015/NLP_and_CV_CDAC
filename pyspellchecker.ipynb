{
 "cells": [
  {
   "cell_type": "code",
   "execution_count": 1,
   "id": "629cb10a",
   "metadata": {},
   "outputs": [
    {
     "name": "stdout",
     "output_type": "stream",
     "text": [
      "Collecting pyspellchecker\n",
      "  Downloading pyspellchecker-0.8.3-py3-none-any.whl.metadata (9.5 kB)\n",
      "Downloading pyspellchecker-0.8.3-py3-none-any.whl (7.2 MB)\n",
      "   ---------------------------------------- 0.0/7.2 MB ? eta -:--:--\n",
      "   ---------------------------------------- 7.2/7.2 MB 47.4 MB/s eta 0:00:00\n",
      "Installing collected packages: pyspellchecker\n",
      "Successfully installed pyspellchecker-0.8.3\n"
     ]
    }
   ],
   "source": [
    "!pip install pyspellchecker"
   ]
  },
  {
   "cell_type": "code",
   "execution_count": 2,
   "id": "169e051e",
   "metadata": {},
   "outputs": [],
   "source": [
    "from spellchecker import SpellChecker\n",
    "import nltk\n",
    "from nltk.corpus import wordnet"
   ]
  },
  {
   "cell_type": "code",
   "execution_count": 3,
   "id": "803dcba0",
   "metadata": {},
   "outputs": [
    {
     "name": "stderr",
     "output_type": "stream",
     "text": [
      "[nltk_data] Downloading package wordnet to\n",
      "[nltk_data]     C:\\Users\\dai.STUDENTSDC\\AppData\\Roaming\\nltk_data...\n",
      "[nltk_data]   Package wordnet is already up-to-date!\n",
      "[nltk_data] Downloading package omw-1.4 to\n",
      "[nltk_data]     C:\\Users\\dai.STUDENTSDC\\AppData\\Roaming\\nltk_data...\n"
     ]
    },
    {
     "data": {
      "text/plain": [
       "True"
      ]
     },
     "execution_count": 3,
     "metadata": {},
     "output_type": "execute_result"
    }
   ],
   "source": [
    "nltk.download('wordnet')\n",
    "nltk.download('omw-1.4')"
   ]
  },
  {
   "cell_type": "code",
   "execution_count": null,
   "id": "641dd5f1",
   "metadata": {},
   "outputs": [
    {
     "name": "stdout",
     "output_type": "stream",
     "text": [
      "SPELL CHECK SUGGESTIONS:\n",
      "- Original : misteak\n",
      "- Best Suggestions : mistake\n",
      "- Other Suggestions : {'mistral', 'misspeak', 'mister', 'mistook', 'mishear', 'mistake', 'misted', 'misteach', 'mistreat', 'steak', 'misread', 'misters', 'misdeal', 'mislead'}\n",
      "- Original : speling\n",
      "- Best Suggestions : spelling\n",
      "- Other Suggestions : {'spieling', 'spelling', 'spewing', 'seeling'}\n"
     ]
    }
   ],
   "source": [
    "# SPELL CHECKING SECTION\n",
    "spell = SpellChecker()\n",
    "\n",
    "# Sample list with misspelled words\n",
    "words = [\"speling\", \"correct\", \"misteak\"]\n",
    "misspelled = spell.unknown(words)\n",
    "\n",
    "print(\"SPELL CHECK SUGGESTIONS:\")\n",
    "for word in misspelled:\n",
    "    print(f\"- Original : {word}\")\n",
    "    print(f\"  Best Suggestions : {spell.correction(word)}\")\n",
    "    print(f\"  Other Suggestions : {spell.candidates(word)}\")"
   ]
  },
  {
   "cell_type": "code",
   "execution_count": 5,
   "id": "42645ee9",
   "metadata": {},
   "outputs": [
    {
     "name": "stdout",
     "output_type": "stream",
     "text": [
      "\n",
      " Example Sentences : \n",
      " - a happy smile\n",
      " - spent many happy days on the beach\n",
      " - a happy marriage\n"
     ]
    }
   ],
   "source": [
    "# Example sentences for a word\n",
    "word = \"happy\"\n",
    "synonyms = wordnet.synsets(word)\n",
    "\n",
    "print(\"\\n Example Sentences : \")\n",
    "for example in synonyms[0].examples():\n",
    "    print(f\" - {example}\")"
   ]
  },
  {
   "cell_type": "code",
   "execution_count": null,
   "id": "626fc607",
   "metadata": {},
   "outputs": [],
   "source": []
  }
 ],
 "metadata": {
  "kernelspec": {
   "display_name": ".venv",
   "language": "python",
   "name": "python3"
  },
  "language_info": {
   "codemirror_mode": {
    "name": "ipython",
    "version": 3
   },
   "file_extension": ".py",
   "mimetype": "text/x-python",
   "name": "python",
   "nbconvert_exporter": "python",
   "pygments_lexer": "ipython3",
   "version": "3.13.2"
  }
 },
 "nbformat": 4,
 "nbformat_minor": 5
}
