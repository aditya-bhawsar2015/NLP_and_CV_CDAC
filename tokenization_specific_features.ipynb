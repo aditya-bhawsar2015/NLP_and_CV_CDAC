{
 "cells": [
  {
   "cell_type": "code",
   "execution_count": 1,
   "id": "930e5fdb",
   "metadata": {},
   "outputs": [],
   "source": [
    "# Handling special types of words/texts using spacy and nltk\n",
    "import spacy\n",
    "\n",
    "# Load the English language model\n",
    "nlp = spacy.load('en_core_web_sm')"
   ]
  },
  {
   "cell_type": "code",
   "execution_count": 2,
   "id": "072ce92a",
   "metadata": {},
   "outputs": [
    {
     "name": "stdout",
     "output_type": "stream",
     "text": [
      "Sentence 1: \" We're moving to L.A.!\"\n",
      "Tokens (8): ['\"', 'We', \"'re\", 'moving', 'to', 'L.A.', '!', '\"']\n",
      "------------------------------------------------------------\n",
      "Sentence 2: We're here to help! Send snail-mail, email support@cdac.in or visit us at http://www.cdac.in\n",
      "Tokens (18): ['We', \"'re\", 'here', 'to', 'help', '!', 'Send', 'snail', '-', 'mail', ',', 'email', 'support@cdac.in', 'or', 'visit', 'us', 'at', 'http://www.cdac.in']\n",
      "------------------------------------------------------------\n",
      "Sentence 3: A 5km NYC cab ride costs $10.30\n",
      "Tokens (9): ['A', '5', 'km', 'NYC', 'cab', 'ride', 'costs', '$', '10.30']\n",
      "------------------------------------------------------------\n",
      "Sentence 4: Let's viit St. Louis in the U.S. next year. \n",
      "Tokens (11): ['Let', \"'s\", 'viit', 'St.', 'Louis', 'in', 'the', 'U.S.', 'next', 'year', '.']\n",
      "------------------------------------------------------------\n"
     ]
    }
   ],
   "source": [
    "# All example sentences together : \n",
    "examples = [\n",
    "    \"\\\" We're moving to L.A.!\\\"\",\n",
    "    \"We're here to help! Send snail-mail, email support@cdac.in or visit us at http://www.cdac.in\",\n",
    "    \"A 5km NYC cab ride costs $10.30\",\n",
    "    \"Let's viit St. Louis in the U.S. next year. \"]\n",
    "\n",
    "for i , sentence in enumerate(examples,1):\n",
    "    doc = nlp(sentence)\n",
    "    tokens = [token.text for token in doc]\n",
    "    print(f\"Sentence {i}: {sentence}\")\n",
    "    print(f\"Tokens ({len(tokens)}): {tokens}\")\n",
    "    print(\"-\"*60)"
   ]
  },
  {
   "cell_type": "code",
   "execution_count": 4,
   "id": "4f95aa0c",
   "metadata": {},
   "outputs": [
    {
     "name": "stdout",
     "output_type": "stream",
     "text": [
      "Text : \" We're moving to L.A.!\"\n",
      "['``', 'We', \"'re\", 'moving', 'to', 'L.A.', '!', \"''\"]\n",
      "Number of tokens : 8\n",
      "\n",
      "Text : We're here to help! Send snail-mail, email support@cdac.in or visit us at http://www.cdac.in\n",
      "['We', \"'re\", 'here', 'to', 'help', '!', 'Send', 'snail-mail', ',', 'email', 'support', '@', 'cdac.in', 'or', 'visit', 'us', 'at', 'http', ':', '//www.cdac.in']\n",
      "Number of tokens : 20\n",
      "\n",
      "Text : A 5km NYC cab ride costs $10.30\n",
      "['A', '5km', 'NYC', 'cab', 'ride', 'costs', '$', '10.30']\n",
      "Number of tokens : 8\n",
      "\n",
      "Text : Let's viit St. Louis in the U.S. next year. \n",
      "['Let', \"'s\", 'viit', 'St.', 'Louis', 'in', 'the', 'U.S.', 'next', 'year', '.']\n",
      "Number of tokens : 11\n",
      "\n"
     ]
    }
   ],
   "source": [
    "# How would NLTK do this?\n",
    "import nltk\n",
    "from nltk.tokenize import word_tokenize\n",
    "\n",
    "# nltk.download('punkt')      # Make sure tokenizer model are downloaded\n",
    "\n",
    "for text in examples :\n",
    "    print(f'Text : {text}')\n",
    "    tokens = word_tokenize(text)\n",
    "    print(tokens)\n",
    "    print(f\"Number of tokens : {len(tokens)}\\n\")"
   ]
  },
  {
   "cell_type": "markdown",
   "id": "8e23d35c",
   "metadata": {},
   "source": [
    "#### Output :\n",
    "##### Spacy performs better than NLTK"
   ]
  }
 ],
 "metadata": {
  "kernelspec": {
   "display_name": ".venv",
   "language": "python",
   "name": "python3"
  },
  "language_info": {
   "codemirror_mode": {
    "name": "ipython",
    "version": 3
   },
   "file_extension": ".py",
   "mimetype": "text/x-python",
   "name": "python",
   "nbconvert_exporter": "python",
   "pygments_lexer": "ipython3",
   "version": "3.13.2"
  }
 },
 "nbformat": 4,
 "nbformat_minor": 5
}
