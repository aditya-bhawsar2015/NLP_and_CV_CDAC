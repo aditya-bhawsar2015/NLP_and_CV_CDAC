{
 "cells": [
  {
   "cell_type": "code",
   "execution_count": 2,
   "id": "2655002c",
   "metadata": {},
   "outputs": [
    {
     "name": "stdout",
     "output_type": "stream",
     "text": [
      "Requirement already satisfied: indic-transliteration in d:\\workspace\\nlp_cv\\.venv\\lib\\site-packages (2.3.69)\n",
      "Requirement already satisfied: backports.functools-lru-cache in d:\\workspace\\nlp_cv\\.venv\\lib\\site-packages (from indic-transliteration) (2.0.0)\n",
      "Requirement already satisfied: regex in d:\\workspace\\nlp_cv\\.venv\\lib\\site-packages (from indic-transliteration) (2024.11.6)\n",
      "Requirement already satisfied: typer in d:\\workspace\\nlp_cv\\.venv\\lib\\site-packages (from indic-transliteration) (0.15.4)\n",
      "Requirement already satisfied: toml in d:\\workspace\\nlp_cv\\.venv\\lib\\site-packages (from indic-transliteration) (0.10.2)\n",
      "Requirement already satisfied: roman in d:\\workspace\\nlp_cv\\.venv\\lib\\site-packages (from indic-transliteration) (5.0)\n",
      "Requirement already satisfied: click<8.2,>=8.0.0 in d:\\workspace\\nlp_cv\\.venv\\lib\\site-packages (from typer->indic-transliteration) (8.1.8)\n",
      "Requirement already satisfied: typing-extensions>=3.7.4.3 in d:\\workspace\\nlp_cv\\.venv\\lib\\site-packages (from typer->indic-transliteration) (4.13.2)\n",
      "Requirement already satisfied: shellingham>=1.3.0 in d:\\workspace\\nlp_cv\\.venv\\lib\\site-packages (from typer->indic-transliteration) (1.5.4)\n",
      "Requirement already satisfied: rich>=10.11.0 in d:\\workspace\\nlp_cv\\.venv\\lib\\site-packages (from typer->indic-transliteration) (14.0.0)\n",
      "Requirement already satisfied: colorama in d:\\workspace\\nlp_cv\\.venv\\lib\\site-packages (from click<8.2,>=8.0.0->typer->indic-transliteration) (0.4.6)\n",
      "Requirement already satisfied: markdown-it-py>=2.2.0 in d:\\workspace\\nlp_cv\\.venv\\lib\\site-packages (from rich>=10.11.0->typer->indic-transliteration) (3.0.0)\n",
      "Requirement already satisfied: pygments<3.0.0,>=2.13.0 in d:\\workspace\\nlp_cv\\.venv\\lib\\site-packages (from rich>=10.11.0->typer->indic-transliteration) (2.19.1)\n",
      "Requirement already satisfied: mdurl~=0.1 in d:\\workspace\\nlp_cv\\.venv\\lib\\site-packages (from markdown-it-py>=2.2.0->rich>=10.11.0->typer->indic-transliteration) (0.1.2)\n",
      "Note: you may need to restart the kernel to use updated packages.\n"
     ]
    }
   ],
   "source": [
    "%pip install indic-transliteration\n",
    "\n",
    "# Transliteration \n",
    "from indic_transliteration import sanscript\n",
    "from indic_transliteration.sanscript import transliterate"
   ]
  },
  {
   "cell_type": "code",
   "execution_count": 3,
   "id": "045262ca",
   "metadata": {},
   "outputs": [],
   "source": [
    "texts = {\n",
    "    \"Hindi\": \"नमस्ते दुनिया\",\n",
    "    \"Bengali\": \"নমস্কার বিশ্ব\",\n",
    "    \"Tamil\": \"வணக்கம் உலகம்\",\n",
    "    \"Telugu\": \"నమస్తే ప్రపంచం\",\n",
    "    \"Marathi\": \"नमस्कार जगा\",\n",
    "    \"Kannada\": \"ನಮಸ್ಕಾರ ಜಗತ್ತು\",\n",
    "}"
   ]
  },
  {
   "cell_type": "code",
   "execution_count": 5,
   "id": "8b3b9bcb",
   "metadata": {},
   "outputs": [],
   "source": [
    "# Map language name to the correct script constant in sanscript\n",
    "lang_to_script = {\n",
    "    \"Hindi\" : sanscript.DEVANAGARI,\n",
    "    \"Bengali\" : sanscript.BENGALI,\n",
    "    \"Tamil\" : sanscript.TAMIL,\n",
    "    \"Telugu\" : sanscript.TELUGU,\n",
    "    \"Marathi\" : sanscript.DEVANAGARI,\n",
    "    \"Kannada\" : sanscript.KANNADA\n",
    "}"
   ]
  },
  {
   "cell_type": "code",
   "execution_count": 6,
   "id": "8a22bbdf",
   "metadata": {},
   "outputs": [
    {
     "name": "stdout",
     "output_type": "stream",
     "text": [
      "Hindi : नमस्ते दुनिया\n",
      "    ITRANS : namaste duniyA\n",
      "    IAST : namaste duniyā\n",
      "\n",
      "Bengali : নমস্কার বিশ্ব\n",
      "    ITRANS : namaskAra vishva\n",
      "    IAST : namaskāra viśva\n",
      "\n",
      "Tamil : வணக்கம் உலகம்\n",
      "    ITRANS : vaNaghghaM ulaghaM\n",
      "    IAST : vaṇaghghaṃ ulaghaṃ\n",
      "\n",
      "Telugu : నమస్తే ప్రపంచం\n",
      "    ITRANS : namaste prapaMchaM\n",
      "    IAST : namaste prapaṃcaṃ\n",
      "\n",
      "Marathi : नमस्कार जगा\n",
      "    ITRANS : namaskAra jagA\n",
      "    IAST : namaskāra jagā\n",
      "\n",
      "Kannada : ನಮಸ್ಕಾರ ಜಗತ್ತು\n",
      "    ITRANS : namaskAra jagattu\n",
      "    IAST : namaskāra jagattu\n",
      "\n"
     ]
    }
   ],
   "source": [
    "for lang, text in texts.items():\n",
    "    src_script = lang_to_script[lang]\n",
    "    itrans = transliterate(text, src_script, sanscript.ITRANS)\n",
    "    iast = transliterate(text, src_script, sanscript.IAST)\n",
    "\n",
    "    print(f\"{lang} : {text}\")\n",
    "    print(f\"    ITRANS : {itrans}\")\n",
    "    print(f\"    IAST : {iast}\")\n",
    "    print()"
   ]
  },
  {
   "cell_type": "code",
   "execution_count": null,
   "id": "9e802af6",
   "metadata": {},
   "outputs": [],
   "source": []
  }
 ],
 "metadata": {
  "kernelspec": {
   "display_name": ".venv",
   "language": "python",
   "name": "python3"
  },
  "language_info": {
   "codemirror_mode": {
    "name": "ipython",
    "version": 3
   },
   "file_extension": ".py",
   "mimetype": "text/x-python",
   "name": "python",
   "nbconvert_exporter": "python",
   "pygments_lexer": "ipython3",
   "version": "3.13.2"
  }
 },
 "nbformat": 4,
 "nbformat_minor": 5
}
