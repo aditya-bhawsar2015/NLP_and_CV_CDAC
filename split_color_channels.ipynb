{
 "cells": [
  {
   "cell_type": "code",
   "execution_count": 1,
   "id": "04afe3f7",
   "metadata": {},
   "outputs": [],
   "source": [
    "# Split color channels\n",
    "import cv2\n",
    "import numpy as np"
   ]
  },
  {
   "cell_type": "code",
   "execution_count": 2,
   "id": "34eaa138",
   "metadata": {},
   "outputs": [],
   "source": [
    "# Read and resize the image\n",
    "image = cv2.imread('dog-cat.jpg')\n",
    "h, w = image.shape[:2]\n",
    "new_w = 800\n",
    "new_h = int(h * new_w/w)\n",
    "image = cv2.resize(image, (new_w, new_h))"
   ]
  },
  {
   "cell_type": "code",
   "execution_count": 3,
   "id": "b1e0aa82",
   "metadata": {},
   "outputs": [],
   "source": [
    "# Split into B, G, R channels\n",
    "b, g, r = cv2.split(image)"
   ]
  },
  {
   "cell_type": "code",
   "execution_count": 4,
   "id": "93440dc8",
   "metadata": {},
   "outputs": [],
   "source": [
    "# Create images showing individual channels in color\n",
    "zeros = np.zeros((new_h, new_w), dtype=\"uint8\")"
   ]
  },
  {
   "cell_type": "code",
   "execution_count": 5,
   "id": "95971377",
   "metadata": {},
   "outputs": [],
   "source": [
    "blue_only = cv2.merge([b, zeros, zeros])\n",
    "green_only = cv2.merge([zeros, g, zeros])\n",
    "red_only = cv2.merge([zeros, zeros, r])"
   ]
  },
  {
   "cell_type": "code",
   "execution_count": 7,
   "id": "fb872458",
   "metadata": {},
   "outputs": [],
   "source": [
    "# Display\n",
    "cv2.imshow('Original', image)\n",
    "cv2.imshow('Blue Channel Only', blue_only)\n",
    "cv2.imshow('Green Channel Only', green_only)\n",
    "cv2.imshow('Red Channel Only', red_only)\n",
    "\n",
    "cv2.waitKey(0)\n",
    "cv2.destroyAllWindows()"
   ]
  },
  {
   "cell_type": "code",
   "execution_count": null,
   "id": "00787260",
   "metadata": {},
   "outputs": [],
   "source": []
  }
 ],
 "metadata": {
  "kernelspec": {
   "display_name": ".venv",
   "language": "python",
   "name": "python3"
  },
  "language_info": {
   "codemirror_mode": {
    "name": "ipython",
    "version": 3
   },
   "file_extension": ".py",
   "mimetype": "text/x-python",
   "name": "python",
   "nbconvert_exporter": "python",
   "pygments_lexer": "ipython3",
   "version": "3.13.2"
  }
 },
 "nbformat": 4,
 "nbformat_minor": 5
}
