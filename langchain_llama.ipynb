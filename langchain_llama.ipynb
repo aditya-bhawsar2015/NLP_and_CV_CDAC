{
 "cells": [
  {
   "cell_type": "code",
   "execution_count": 5,
   "id": "5aaaa653",
   "metadata": {},
   "outputs": [
    {
     "name": "stdout",
     "output_type": "stream",
     "text": [
      "Requirement already satisfied: langchain in d:\\workspace\\nlp_cv\\.venv\\lib\\site-packages (0.3.25)\n",
      "Collecting langchain-community\n",
      "  Using cached langchain_community-0.3.24-py3-none-any.whl.metadata (2.5 kB)\n",
      "Requirement already satisfied: langchain-core<1.0.0,>=0.3.58 in d:\\workspace\\nlp_cv\\.venv\\lib\\site-packages (from langchain) (0.3.63)\n",
      "Requirement already satisfied: langchain-text-splitters<1.0.0,>=0.3.8 in d:\\workspace\\nlp_cv\\.venv\\lib\\site-packages (from langchain) (0.3.8)\n",
      "Requirement already satisfied: langsmith<0.4,>=0.1.17 in d:\\workspace\\nlp_cv\\.venv\\lib\\site-packages (from langchain) (0.3.44)\n",
      "Requirement already satisfied: pydantic<3.0.0,>=2.7.4 in d:\\workspace\\nlp_cv\\.venv\\lib\\site-packages (from langchain) (2.11.5)\n",
      "Requirement already satisfied: SQLAlchemy<3,>=1.4 in d:\\workspace\\nlp_cv\\.venv\\lib\\site-packages (from langchain) (2.0.41)\n",
      "Requirement already satisfied: requests<3,>=2 in d:\\workspace\\nlp_cv\\.venv\\lib\\site-packages (from langchain) (2.32.3)\n",
      "Requirement already satisfied: PyYAML>=5.3 in d:\\workspace\\nlp_cv\\.venv\\lib\\site-packages (from langchain) (6.0.2)\n",
      "Requirement already satisfied: tenacity!=8.4.0,<10.0.0,>=8.1.0 in d:\\workspace\\nlp_cv\\.venv\\lib\\site-packages (from langchain-core<1.0.0,>=0.3.58->langchain) (9.1.2)\n",
      "Requirement already satisfied: jsonpatch<2.0,>=1.33 in d:\\workspace\\nlp_cv\\.venv\\lib\\site-packages (from langchain-core<1.0.0,>=0.3.58->langchain) (1.33)\n",
      "Requirement already satisfied: packaging<25,>=23.2 in d:\\workspace\\nlp_cv\\.venv\\lib\\site-packages (from langchain-core<1.0.0,>=0.3.58->langchain) (24.2)\n",
      "Requirement already satisfied: typing-extensions>=4.7 in d:\\workspace\\nlp_cv\\.venv\\lib\\site-packages (from langchain-core<1.0.0,>=0.3.58->langchain) (4.13.2)\n",
      "Requirement already satisfied: jsonpointer>=1.9 in d:\\workspace\\nlp_cv\\.venv\\lib\\site-packages (from jsonpatch<2.0,>=1.33->langchain-core<1.0.0,>=0.3.58->langchain) (3.0.0)\n",
      "Requirement already satisfied: httpx<1,>=0.23.0 in d:\\workspace\\nlp_cv\\.venv\\lib\\site-packages (from langsmith<0.4,>=0.1.17->langchain) (0.28.1)\n",
      "Requirement already satisfied: orjson<4.0.0,>=3.9.14 in d:\\workspace\\nlp_cv\\.venv\\lib\\site-packages (from langsmith<0.4,>=0.1.17->langchain) (3.10.18)\n",
      "Requirement already satisfied: requests-toolbelt<2.0.0,>=1.0.0 in d:\\workspace\\nlp_cv\\.venv\\lib\\site-packages (from langsmith<0.4,>=0.1.17->langchain) (1.0.0)\n",
      "Requirement already satisfied: zstandard<0.24.0,>=0.23.0 in d:\\workspace\\nlp_cv\\.venv\\lib\\site-packages (from langsmith<0.4,>=0.1.17->langchain) (0.23.0)\n",
      "Requirement already satisfied: anyio in d:\\workspace\\nlp_cv\\.venv\\lib\\site-packages (from httpx<1,>=0.23.0->langsmith<0.4,>=0.1.17->langchain) (4.9.0)\n",
      "Requirement already satisfied: certifi in d:\\workspace\\nlp_cv\\.venv\\lib\\site-packages (from httpx<1,>=0.23.0->langsmith<0.4,>=0.1.17->langchain) (2025.4.26)\n",
      "Requirement already satisfied: httpcore==1.* in d:\\workspace\\nlp_cv\\.venv\\lib\\site-packages (from httpx<1,>=0.23.0->langsmith<0.4,>=0.1.17->langchain) (1.0.9)\n",
      "Requirement already satisfied: idna in d:\\workspace\\nlp_cv\\.venv\\lib\\site-packages (from httpx<1,>=0.23.0->langsmith<0.4,>=0.1.17->langchain) (3.10)\n",
      "Requirement already satisfied: h11>=0.16 in d:\\workspace\\nlp_cv\\.venv\\lib\\site-packages (from httpcore==1.*->httpx<1,>=0.23.0->langsmith<0.4,>=0.1.17->langchain) (0.16.0)\n",
      "Requirement already satisfied: annotated-types>=0.6.0 in d:\\workspace\\nlp_cv\\.venv\\lib\\site-packages (from pydantic<3.0.0,>=2.7.4->langchain) (0.7.0)\n",
      "Requirement already satisfied: pydantic-core==2.33.2 in d:\\workspace\\nlp_cv\\.venv\\lib\\site-packages (from pydantic<3.0.0,>=2.7.4->langchain) (2.33.2)\n",
      "Requirement already satisfied: typing-inspection>=0.4.0 in d:\\workspace\\nlp_cv\\.venv\\lib\\site-packages (from pydantic<3.0.0,>=2.7.4->langchain) (0.4.1)\n",
      "Requirement already satisfied: charset-normalizer<4,>=2 in d:\\workspace\\nlp_cv\\.venv\\lib\\site-packages (from requests<3,>=2->langchain) (3.4.2)\n",
      "Requirement already satisfied: urllib3<3,>=1.21.1 in d:\\workspace\\nlp_cv\\.venv\\lib\\site-packages (from requests<3,>=2->langchain) (2.4.0)\n",
      "Requirement already satisfied: greenlet>=1 in d:\\workspace\\nlp_cv\\.venv\\lib\\site-packages (from SQLAlchemy<3,>=1.4->langchain) (3.2.2)\n",
      "Collecting aiohttp<4.0.0,>=3.8.3 (from langchain-community)\n",
      "  Using cached aiohttp-3.12.9-cp313-cp313-win_amd64.whl.metadata (7.9 kB)\n",
      "Collecting dataclasses-json<0.7,>=0.5.7 (from langchain-community)\n",
      "  Using cached dataclasses_json-0.6.7-py3-none-any.whl.metadata (25 kB)\n",
      "Collecting pydantic-settings<3.0.0,>=2.4.0 (from langchain-community)\n",
      "  Using cached pydantic_settings-2.9.1-py3-none-any.whl.metadata (3.8 kB)\n",
      "Collecting httpx-sse<1.0.0,>=0.4.0 (from langchain-community)\n",
      "  Using cached httpx_sse-0.4.0-py3-none-any.whl.metadata (9.0 kB)\n",
      "Requirement already satisfied: numpy>=2.1.0 in d:\\workspace\\nlp_cv\\.venv\\lib\\site-packages (from langchain-community) (2.2.6)\n",
      "Collecting aiohappyeyeballs>=2.5.0 (from aiohttp<4.0.0,>=3.8.3->langchain-community)\n",
      "  Using cached aiohappyeyeballs-2.6.1-py3-none-any.whl.metadata (5.9 kB)\n",
      "Collecting aiosignal>=1.1.2 (from aiohttp<4.0.0,>=3.8.3->langchain-community)\n",
      "  Using cached aiosignal-1.3.2-py2.py3-none-any.whl.metadata (3.8 kB)\n",
      "Collecting attrs>=17.3.0 (from aiohttp<4.0.0,>=3.8.3->langchain-community)\n",
      "  Using cached attrs-25.3.0-py3-none-any.whl.metadata (10 kB)\n",
      "Collecting frozenlist>=1.1.1 (from aiohttp<4.0.0,>=3.8.3->langchain-community)\n",
      "  Using cached frozenlist-1.6.2-cp313-cp313-win_amd64.whl.metadata (17 kB)\n",
      "Collecting multidict<7.0,>=4.5 (from aiohttp<4.0.0,>=3.8.3->langchain-community)\n",
      "  Using cached multidict-6.4.4-cp313-cp313-win_amd64.whl.metadata (5.5 kB)\n",
      "Collecting propcache>=0.2.0 (from aiohttp<4.0.0,>=3.8.3->langchain-community)\n",
      "  Using cached propcache-0.3.1-cp313-cp313-win_amd64.whl.metadata (11 kB)\n",
      "Collecting yarl<2.0,>=1.17.0 (from aiohttp<4.0.0,>=3.8.3->langchain-community)\n",
      "  Using cached yarl-1.20.0-cp313-cp313-win_amd64.whl.metadata (74 kB)\n",
      "Collecting marshmallow<4.0.0,>=3.18.0 (from dataclasses-json<0.7,>=0.5.7->langchain-community)\n",
      "  Using cached marshmallow-3.26.1-py3-none-any.whl.metadata (7.3 kB)\n",
      "Collecting typing-inspect<1,>=0.4.0 (from dataclasses-json<0.7,>=0.5.7->langchain-community)\n",
      "  Using cached typing_inspect-0.9.0-py3-none-any.whl.metadata (1.5 kB)\n",
      "Collecting python-dotenv>=0.21.0 (from pydantic-settings<3.0.0,>=2.4.0->langchain-community)\n",
      "  Using cached python_dotenv-1.1.0-py3-none-any.whl.metadata (24 kB)\n",
      "Collecting mypy-extensions>=0.3.0 (from typing-inspect<1,>=0.4.0->dataclasses-json<0.7,>=0.5.7->langchain-community)\n",
      "  Using cached mypy_extensions-1.1.0-py3-none-any.whl.metadata (1.1 kB)\n",
      "Requirement already satisfied: sniffio>=1.1 in d:\\workspace\\nlp_cv\\.venv\\lib\\site-packages (from anyio->httpx<1,>=0.23.0->langsmith<0.4,>=0.1.17->langchain) (1.3.1)\n",
      "Using cached langchain_community-0.3.24-py3-none-any.whl (2.5 MB)\n",
      "Downloading aiohttp-3.12.9-cp313-cp313-win_amd64.whl (445 kB)\n",
      "Downloading dataclasses_json-0.6.7-py3-none-any.whl (28 kB)\n",
      "Downloading httpx_sse-0.4.0-py3-none-any.whl (7.8 kB)\n",
      "Downloading marshmallow-3.26.1-py3-none-any.whl (50 kB)\n",
      "Downloading multidict-6.4.4-cp313-cp313-win_amd64.whl (38 kB)\n",
      "Downloading pydantic_settings-2.9.1-py3-none-any.whl (44 kB)\n",
      "Downloading typing_inspect-0.9.0-py3-none-any.whl (8.8 kB)\n",
      "Downloading yarl-1.20.0-cp313-cp313-win_amd64.whl (92 kB)\n",
      "Downloading aiohappyeyeballs-2.6.1-py3-none-any.whl (15 kB)\n",
      "Downloading aiosignal-1.3.2-py2.py3-none-any.whl (7.6 kB)\n",
      "Downloading attrs-25.3.0-py3-none-any.whl (63 kB)\n",
      "Downloading frozenlist-1.6.2-cp313-cp313-win_amd64.whl (46 kB)\n",
      "Downloading mypy_extensions-1.1.0-py3-none-any.whl (5.0 kB)\n",
      "Downloading propcache-0.3.1-cp313-cp313-win_amd64.whl (44 kB)\n",
      "Downloading python_dotenv-1.1.0-py3-none-any.whl (20 kB)\n",
      "Installing collected packages: python-dotenv, propcache, mypy-extensions, multidict, marshmallow, httpx-sse, frozenlist, attrs, aiohappyeyeballs, yarl, typing-inspect, aiosignal, pydantic-settings, dataclasses-json, aiohttp, langchain-community\n",
      "\n",
      "   -- -------------------------------------  1/16 [propcache]\n",
      "   ----- ----------------------------------  2/16 [mypy-extensions]\n",
      "   ---------- -----------------------------  4/16 [marshmallow]\n",
      "   ------------ ---------------------------  5/16 [httpx-sse]\n",
      "   --------------- ------------------------  6/16 [frozenlist]\n",
      "   ----------------- ----------------------  7/16 [attrs]\n",
      "   -------------------- -------------------  8/16 [aiohappyeyeballs]\n",
      "   ---------------------- -----------------  9/16 [yarl]\n",
      "   --------------------------- ------------ 11/16 [aiosignal]\n",
      "   --------------------------- ------------ 11/16 [aiosignal]\n",
      "   ------------------------------ --------- 12/16 [pydantic-settings]\n",
      "   -------------------------------- ------- 13/16 [dataclasses-json]\n",
      "   ----------------------------------- ---- 14/16 [aiohttp]\n",
      "   ----------------------------------- ---- 14/16 [aiohttp]\n",
      "   ----------------------------------- ---- 14/16 [aiohttp]\n",
      "   ----------------------------------- ---- 14/16 [aiohttp]\n",
      "   ------------------------------------- -- 15/16 [langchain-community]\n",
      "   ------------------------------------- -- 15/16 [langchain-community]\n",
      "   ------------------------------------- -- 15/16 [langchain-community]\n",
      "   ------------------------------------- -- 15/16 [langchain-community]\n",
      "   ------------------------------------- -- 15/16 [langchain-community]\n",
      "   ------------------------------------- -- 15/16 [langchain-community]\n",
      "   ------------------------------------- -- 15/16 [langchain-community]\n",
      "   ------------------------------------- -- 15/16 [langchain-community]\n",
      "   ------------------------------------- -- 15/16 [langchain-community]\n",
      "   ------------------------------------- -- 15/16 [langchain-community]\n",
      "   ------------------------------------- -- 15/16 [langchain-community]\n",
      "   ------------------------------------- -- 15/16 [langchain-community]\n",
      "   ------------------------------------- -- 15/16 [langchain-community]\n",
      "   ------------------------------------- -- 15/16 [langchain-community]\n",
      "   ------------------------------------- -- 15/16 [langchain-community]\n",
      "   ------------------------------------- -- 15/16 [langchain-community]\n",
      "   ------------------------------------- -- 15/16 [langchain-community]\n",
      "   ------------------------------------- -- 15/16 [langchain-community]\n",
      "   ------------------------------------- -- 15/16 [langchain-community]\n",
      "   ------------------------------------- -- 15/16 [langchain-community]\n",
      "   ------------------------------------- -- 15/16 [langchain-community]\n",
      "   ------------------------------------- -- 15/16 [langchain-community]\n",
      "   ------------------------------------- -- 15/16 [langchain-community]\n",
      "   ------------------------------------- -- 15/16 [langchain-community]\n",
      "   ------------------------------------- -- 15/16 [langchain-community]\n",
      "   ------------------------------------- -- 15/16 [langchain-community]\n",
      "   ------------------------------------- -- 15/16 [langchain-community]\n",
      "   ------------------------------------- -- 15/16 [langchain-community]\n",
      "   ------------------------------------- -- 15/16 [langchain-community]\n",
      "   ------------------------------------- -- 15/16 [langchain-community]\n",
      "   ------------------------------------- -- 15/16 [langchain-community]\n",
      "   ------------------------------------- -- 15/16 [langchain-community]\n",
      "   ------------------------------------- -- 15/16 [langchain-community]\n",
      "   ------------------------------------- -- 15/16 [langchain-community]\n",
      "   ------------------------------------- -- 15/16 [langchain-community]\n",
      "   ------------------------------------- -- 15/16 [langchain-community]\n",
      "   ------------------------------------- -- 15/16 [langchain-community]\n",
      "   ------------------------------------- -- 15/16 [langchain-community]\n",
      "   ------------------------------------- -- 15/16 [langchain-community]\n",
      "   ------------------------------------- -- 15/16 [langchain-community]\n",
      "   ------------------------------------- -- 15/16 [langchain-community]\n",
      "   ------------------------------------- -- 15/16 [langchain-community]\n",
      "   ------------------------------------- -- 15/16 [langchain-community]\n",
      "   ------------------------------------- -- 15/16 [langchain-community]\n",
      "   ------------------------------------- -- 15/16 [langchain-community]\n",
      "   ------------------------------------- -- 15/16 [langchain-community]\n",
      "   ------------------------------------- -- 15/16 [langchain-community]\n",
      "   ---------------------------------------- 16/16 [langchain-community]\n",
      "\n",
      "Successfully installed aiohappyeyeballs-2.6.1 aiohttp-3.12.9 aiosignal-1.3.2 attrs-25.3.0 dataclasses-json-0.6.7 frozenlist-1.6.2 httpx-sse-0.4.0 langchain-community-0.3.24 marshmallow-3.26.1 multidict-6.4.4 mypy-extensions-1.1.0 propcache-0.3.1 pydantic-settings-2.9.1 python-dotenv-1.1.0 typing-inspect-0.9.0 yarl-1.20.0\n",
      "Note: you may need to restart the kernel to use updated packages.\n"
     ]
    }
   ],
   "source": [
    "# Sentiment analysis using llama (local LLM) - GenAI\n",
    "%pip install langchain langchain-community\n",
    "\n",
    "from langchain_core.prompts import PromptTemplate\n",
    "from langchain_core.output_parsers import StrOutputParser\n",
    "from langchain_community.llms import Ollama\n",
    "from langchain.chains import LLMChain"
   ]
  },
  {
   "cell_type": "code",
   "execution_count": 6,
   "id": "536d03e0",
   "metadata": {},
   "outputs": [],
   "source": [
    "sentences = [\n",
    "    \"I love this product! It's amazing.\",\n",
    "    \"The weather is terrible today.\",\n",
    "    \"I'm not sure if I like this movie.\",\n",
    "    \"Overall, it was an average performance.\",\n",
    "    \"Not too bad.\",\n",
    "    \"I did somewhat ok in the test.\",\n",
    "    \"I did ok in the test\",\n",
    "    \"Doing this will be TERRIBLE!!!\",\n",
    "    \"Doing this will be terrible.\",\n",
    "    \"Spacy is a great library for NLP.\"\n",
    "]"
   ]
  },
  {
   "cell_type": "code",
   "execution_count": 7,
   "id": "14af37ec",
   "metadata": {},
   "outputs": [],
   "source": [
    "# Define your prompt template :\n",
    "prompt = PromptTemplate(\n",
    "    input_variables = [\"sentence\"],\n",
    "    template=('Classify the sentiment of the following sentences as Positive, Negative, or Neutral:\\n\\n'\n",
    "    '\"{sentence}\"\\n\\n'\n",
    "    'Respond with only one word : Positive, Negative, or Neutral.'\n",
    "    ),\n",
    ")"
   ]
  },
  {
   "cell_type": "code",
   "execution_count": 8,
   "id": "724f5c42",
   "metadata": {},
   "outputs": [
    {
     "name": "stderr",
     "output_type": "stream",
     "text": [
      "C:\\Users\\dai.STUDENTSDC\\AppData\\Local\\Temp\\ipykernel_8012\\1775345664.py:2: LangChainDeprecationWarning: The class `Ollama` was deprecated in LangChain 0.3.1 and will be removed in 1.0.0. An updated version of the class exists in the :class:`~langchain-ollama package and should be used instead. To use it run `pip install -U :class:`~langchain-ollama` and import as `from :class:`~langchain_ollama import OllamaLLM``.\n",
      "  llm = Ollama(model=\"llama3\")\n"
     ]
    }
   ],
   "source": [
    "# Set up model from Ollama (e.g., llama3)\n",
    "llm = Ollama(model=\"llama3\")"
   ]
  },
  {
   "cell_type": "code",
   "execution_count": 9,
   "id": "07242fa0",
   "metadata": {},
   "outputs": [
    {
     "name": "stderr",
     "output_type": "stream",
     "text": [
      "C:\\Users\\dai.STUDENTSDC\\AppData\\Local\\Temp\\ipykernel_8012\\2422420119.py:2: LangChainDeprecationWarning: The class `LLMChain` was deprecated in LangChain 0.1.17 and will be removed in 1.0. Use :meth:`~RunnableSequence, e.g., `prompt | llm`` instead.\n",
      "  chain = LLMChain(llm=llm, prompt=prompt, output_parser = StrOutputParser())\n"
     ]
    }
   ],
   "source": [
    "# Chain it :\n",
    "chain = LLMChain(llm=llm, prompt=prompt, output_parser = StrOutputParser())"
   ]
  },
  {
   "cell_type": "code",
   "execution_count": 10,
   "id": "558f09bc",
   "metadata": {},
   "outputs": [
    {
     "name": "stderr",
     "output_type": "stream",
     "text": [
      "C:\\Users\\dai.STUDENTSDC\\AppData\\Local\\Temp\\ipykernel_8012\\2038479170.py:3: LangChainDeprecationWarning: The method `Chain.run` was deprecated in langchain 0.1.0 and will be removed in 1.0. Use :meth:`~invoke` instead.\n",
      "  result = chain.run({\"sentence\": sentence}).strip()\n"
     ]
    },
    {
     "name": "stdout",
     "output_type": "stream",
     "text": [
      "Sentence : I love this product! It's amazing.\n",
      "Sentiment: Positive\n",
      "Sentence : The weather is terrible today.\n",
      "Sentiment: Negative\n",
      "Sentence : I'm not sure if I like this movie.\n",
      "Sentiment: Neutral\n",
      "Sentence : Overall, it was an average performance.\n",
      "Sentiment: Neutral\n",
      "Sentence : Not too bad.\n",
      "Sentiment: Neutral\n",
      "Sentence : I did somewhat ok in the test.\n",
      "Sentiment: Neutral\n",
      "Sentence : I did ok in the test\n",
      "Sentiment: Neutral\n",
      "Sentence : Doing this will be TERRIBLE!!!\n",
      "Sentiment: Negative\n",
      "Sentence : Doing this will be terrible.\n",
      "Sentiment: Negative\n",
      "Sentence : Spacy is a great library for NLP.\n",
      "Sentiment: Positive\n"
     ]
    }
   ],
   "source": [
    "# Run for each sentence\n",
    "for sentence in sentences:\n",
    "    result = chain.run({\"sentence\": sentence}).strip()\n",
    "    print(f\"Sentence : {sentence}\")\n",
    "    print(f\"Sentiment: {result}\")"
   ]
  }
 ],
 "metadata": {
  "kernelspec": {
   "display_name": ".venv",
   "language": "python",
   "name": "python3"
  },
  "language_info": {
   "codemirror_mode": {
    "name": "ipython",
    "version": 3
   },
   "file_extension": ".py",
   "mimetype": "text/x-python",
   "name": "python",
   "nbconvert_exporter": "python",
   "pygments_lexer": "ipython3",
   "version": "3.13.2"
  }
 },
 "nbformat": 4,
 "nbformat_minor": 5
}
