{
 "cells": [
  {
   "cell_type": "code",
   "execution_count": 2,
   "id": "2771b39b",
   "metadata": {},
   "outputs": [],
   "source": [
    "# Understanding pixel positions and color channels\n",
    "import cv2"
   ]
  },
  {
   "cell_type": "code",
   "execution_count": 3,
   "id": "5606323d",
   "metadata": {},
   "outputs": [],
   "source": [
    "# Read and resize the image\n",
    "image = cv2.imread('dog-cat.jpg')\n",
    "h, w = image.shape[:2]\n",
    "new_w = 800\n",
    "new_h = int(h * new_w/w)\n",
    "image = cv2.resize(image, (new_w, new_h))"
   ]
  },
  {
   "cell_type": "code",
   "execution_count": 4,
   "id": "888cab43",
   "metadata": {},
   "outputs": [],
   "source": [
    "# Pick a safe row (e.g. , 300 or last available)\n",
    "row = min(300, new_h-1)"
   ]
  },
  {
   "cell_type": "code",
   "execution_count": 5,
   "id": "e9adb0d9",
   "metadata": {},
   "outputs": [
    {
     "name": "stdout",
     "output_type": "stream",
     "text": [
      "Pixel at (300, 0): [112, 101, 81]\n",
      "Pixel at (300, 1): [112, 101, 81]\n",
      "Pixel at (300, 2): [111, 100, 80]\n",
      "Pixel at (300, 3): [110, 99, 79]\n",
      "Pixel at (300, 4): [109, 98, 78]\n",
      "Pixel at (300, 5): [108, 97, 77]\n",
      "Pixel at (300, 6): [112, 101, 81]\n",
      "Pixel at (300, 7): [114, 103, 83]\n",
      "Pixel at (300, 8): [113, 102, 82]\n",
      "Pixel at (300, 9): [113, 102, 82]\n"
     ]
    }
   ],
   "source": [
    "# Show pixel values and overlay them on image\n",
    "for i in range(min(10, new_w)):\n",
    "    pixel = image[row, i]\n",
    "    text = str(pixel.tolist())\n",
    "    print(f\"Pixel at ({row}, {i}): {text}\")\n",
    "    # 0.5 means half the size of the text, (0,0,255) is red color (BGR), 1 is thicknes\n",
    "    cv2.putText(image, text, (i*70, 30), cv2.FONT_HERSHEY_SIMPLEX, 0.5, (0,0,255), 1)"
   ]
  },
  {
   "cell_type": "code",
   "execution_count": 10,
   "id": "ee869ebc",
   "metadata": {},
   "outputs": [],
   "source": [
    "# Display the image\n",
    "cv2.imshow('First 10 Pixels', image)\n",
    "cv2.waitKey(0)\n",
    "cv2.destroyAllWindows()"
   ]
  },
  {
   "cell_type": "code",
   "execution_count": 11,
   "id": "17fb4681",
   "metadata": {},
   "outputs": [],
   "source": [
    "# Re-read and resize the image to avoid drawing artifacts\n",
    "image_clean = cv2.imread('dog-cat.jpg')\n",
    "image_clean = cv2.resize(image_clean, (new_w, new_h))"
   ]
  },
  {
   "cell_type": "code",
   "execution_count": 12,
   "id": "d91d10b5",
   "metadata": {},
   "outputs": [],
   "source": [
    "# Convert to grayscale\n",
    "gray = cv2.cvtColor(image_clean, cv2.COLOR_BGR2GRAY)"
   ]
  },
  {
   "cell_type": "code",
   "execution_count": 13,
   "id": "872a9eeb",
   "metadata": {},
   "outputs": [
    {
     "name": "stdout",
     "output_type": "stream",
     "text": [
      "Grayscale Pixel at (300, 0) : 96\n",
      "Grayscale Pixel at (300, 1) : 96\n",
      "Grayscale Pixel at (300, 2) : 95\n",
      "Grayscale Pixel at (300, 3) : 94\n",
      "Grayscale Pixel at (300, 4) : 93\n",
      "Grayscale Pixel at (300, 5) : 92\n",
      "Grayscale Pixel at (300, 6) : 96\n",
      "Grayscale Pixel at (300, 7) : 98\n",
      "Grayscale Pixel at (300, 8) : 97\n",
      "Grayscale Pixel at (300, 9) : 97\n"
     ]
    }
   ],
   "source": [
    "# Show grayscale pixel values and overlay them on image\n",
    "for i in range(min(10, new_w)):\n",
    "    pixel = gray[row, i]\n",
    "    text = str(pixel)\n",
    "    print(f\"Grayscale Pixel at ({row}, {i}) : {text}\")\n",
    "    # 0.5 means half the size of the text, (0) is black color in grayscale, 1 is thickness\n",
    "    cv2.putText(gray, text, (i*70, 30), cv2.FONT_HERSHEY_SIMPLEX, 0.5, (0), 1)"
   ]
  },
  {
   "cell_type": "code",
   "execution_count": 14,
   "id": "2d2e5ab4",
   "metadata": {},
   "outputs": [],
   "source": [
    "# Display the grayscale image\n",
    "cv2.imshow('First 10 pixels - Grayscale', gray)\n",
    "cv2.waitKey(0)\n",
    "cv2.destroyAllWindows()"
   ]
  },
  {
   "cell_type": "code",
   "execution_count": null,
   "id": "bb6edb5e",
   "metadata": {},
   "outputs": [],
   "source": []
  }
 ],
 "metadata": {
  "kernelspec": {
   "display_name": ".venv",
   "language": "python",
   "name": "python3"
  },
  "language_info": {
   "codemirror_mode": {
    "name": "ipython",
    "version": 3
   },
   "file_extension": ".py",
   "mimetype": "text/x-python",
   "name": "python",
   "nbconvert_exporter": "python",
   "pygments_lexer": "ipython3",
   "version": "3.13.2"
  }
 },
 "nbformat": 4,
 "nbformat_minor": 5
}
