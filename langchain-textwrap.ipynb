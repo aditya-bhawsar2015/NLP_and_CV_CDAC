{
 "cells": [
  {
   "cell_type": "code",
   "execution_count": 1,
   "id": "5b26013c",
   "metadata": {},
   "outputs": [],
   "source": [
    "import pandas as pd\n",
    "import textwrap"
   ]
  },
  {
   "cell_type": "code",
   "execution_count": 13,
   "id": "31308ef4",
   "metadata": {},
   "outputs": [],
   "source": [
    "from langchain_core.prompts import PromptTemplate\n",
    "from langchain_core.output_parsers import StrOutputParser\n",
    "from langchain_community .llms import Ollama\n",
    "from langchain.chains import LLMChain"
   ]
  },
  {
   "cell_type": "code",
   "execution_count": 14,
   "id": "1feccbcc",
   "metadata": {},
   "outputs": [],
   "source": [
    "df =pd.read_csv('bbc_data.csv')\n",
    "# sample 20% of 'business' artiles\n",
    "\n",
    "doc = df[df.labels == 'business']['data'].sample(frac = 0.2, random_state=42)"
   ]
  },
  {
   "cell_type": "code",
   "execution_count": 15,
   "id": "5f7582ba",
   "metadata": {},
   "outputs": [],
   "source": [
    "# utility to wrap output nicely\n",
    "\n",
    "def wrap(x):\n",
    "    return textwrap.fill(x, replace_whitespace=False, fix_sentence_endings=True)"
   ]
  },
  {
   "cell_type": "code",
   "execution_count": 16,
   "id": "618bd27d",
   "metadata": {},
   "outputs": [],
   "source": [
    "# choose one article and extract content after first newline(remove title)\n",
    "text = doc.iloc[0]\n",
    "if \"\\n\" in text:\n",
    "    content = text.split(\"\\n\", 1)[1]\n",
    "else:\n",
    "    content = text"
   ]
  },
  {
   "cell_type": "code",
   "execution_count": 17,
   "id": "074e76e1",
   "metadata": {},
   "outputs": [
    {
     "name": "stdout",
     "output_type": "stream",
     "text": [
      "\n",
      " original content: \n",
      "\n",
      "Ericsson sees earnings improve  Telecoms equipment supplier Ericsson\n",
      "has posted a rise in fourth quarter profits thanks to clients like\n",
      "Deutsche Telekom upgrade their networks.  Operating profit in the\n",
      "three months to 31 December was 9.5bn kronor (xc2xa3722m; $1.3bn)\n",
      "against 6.3bn kronor last year.  Shares tumbled, however, as the\n",
      "company reported a profit margin of 45.6%, less than the 47.3%\n",
      "forecast by analysts and down from 47.1% in the third quarter.\n",
      "Ericsson shares dropped 5.9% to 20.7 kronor in early trading on\n",
      "Thursday.  However, the company remained optimistic about its earnings\n",
      "outlook after sales in the fourth quarter rose 9% to 39.4bn kronor.\n",
      "\"Long-term growth drivers of the industry remain solid,\" Ericsson said\n",
      "in a statement.  Chief executive Carl-Henric Svanberg explained that\n",
      "about \"27% of the worlds population now has access to mobile\n",
      "communications\". \"This is exciting for a company with a vision of an\n",
      "all-communicating world,\" he added.  Mr Svanberg, however, warned that\n",
      "the extra demand that had driven 2004 sales had already dissipated and\n",
      "it was \"business as usual\". He added that sales in the first three\n",
      "months of 2005 would be subject to \"normal seasonality\". For the whole\n",
      "of 2004, Ericsson returned a net profit of 19bn kronor, compared with\n",
      "a loss of 10.8bn kronor in 2003. Sales climbed to 131.9 billion kronor\n",
      "from 117.7bn kronor in 2003.\n"
     ]
    }
   ],
   "source": [
    "print(\"\\n original content: \\n\")\n",
    "print(wrap(content))"
   ]
  },
  {
   "cell_type": "code",
   "execution_count": 18,
   "id": "5ad6a1c7",
   "metadata": {},
   "outputs": [
    {
     "name": "stderr",
     "output_type": "stream",
     "text": [
      "C:\\Users\\dai.STUDENTSDC\\AppData\\Local\\Temp\\ipykernel_17144\\3244343200.py:2: LangChainDeprecationWarning: The class `Ollama` was deprecated in LangChain 0.3.1 and will be removed in 1.0.0. An updated version of the class exists in the :class:`~langchain-ollama package and should be used instead. To use it run `pip install -U :class:`~langchain-ollama` and import as `from :class:`~langchain_ollama import OllamaLLM``.\n",
      "  llm = Ollama(model = 'llama3.2')\n"
     ]
    }
   ],
   "source": [
    "# SETUP LANGCHAIN LLM with LLaMa 3 via Ollama\n",
    "llm = Ollama(model = 'llama3.2')\n",
    "\n",
    "# prompt to instrcut the model\n",
    "\n",
    "prompt = PromptTemplate(\n",
    "    input_variables= ['article'],\n",
    "    template=(\n",
    "        \"Summarize the following news article in 3-4 sentence: \\n\\n\"\n",
    "        \"[article] \\n\\n\"\n",
    "        \"Summary:\"\n",
    "    )\n",
    ")"
   ]
  },
  {
   "cell_type": "code",
   "execution_count": 20,
   "id": "b87d6df6",
   "metadata": {},
   "outputs": [
    {
     "name": "stdout",
     "output_type": "stream",
     "text": [
      "\n",
      " Generated Summary: \n",
      "\n",
      "I'm happy to help, but it seems you forgot to include the news article\n",
      "summary.  Could you please provide the article summary or the actual\n",
      "text of the news article?  I'll be more than happy to condense it into\n",
      "a 3-4 sentence summary for you!\n"
     ]
    }
   ],
   "source": [
    "# Langchain chain to generate the summary\n",
    "\n",
    "chain = LLMChain(llm = llm, prompt = prompt, output_parser= StrOutputParser())\n",
    "\n",
    "# invoke the chain\n",
    "summary = chain.invoke({'article': content})\n",
    "\n",
    "print(\"\\n Generated Summary: \\n\")\n",
    "final_summary = summary['text']\n",
    "print(wrap(final_summary))"
   ]
  },
  {
   "cell_type": "code",
   "execution_count": null,
   "id": "5f321822",
   "metadata": {},
   "outputs": [],
   "source": []
  }
 ],
 "metadata": {
  "kernelspec": {
   "display_name": ".venv",
   "language": "python",
   "name": "python3"
  },
  "language_info": {
   "codemirror_mode": {
    "name": "ipython",
    "version": 3
   },
   "file_extension": ".py",
   "mimetype": "text/x-python",
   "name": "python",
   "nbconvert_exporter": "python",
   "pygments_lexer": "ipython3",
   "version": "3.13.2"
  }
 },
 "nbformat": 4,
 "nbformat_minor": 5
}
