{
 "cells": [
  {
   "cell_type": "code",
   "execution_count": 4,
   "id": "77c8e9ef",
   "metadata": {},
   "outputs": [],
   "source": [
    "# pip install nltk"
   ]
  },
  {
   "cell_type": "code",
   "execution_count": 5,
   "id": "65ec4fc7",
   "metadata": {},
   "outputs": [],
   "source": [
    "# !python.exe -m pip install --upgrade pip\n",
    "# !pip install -U pip setuptools wheel\n",
    "# !pip install -U spacy \n",
    "# !python -m spacy download en"
   ]
  },
  {
   "cell_type": "code",
   "execution_count": 6,
   "id": "490de57b",
   "metadata": {},
   "outputs": [],
   "source": [
    "# !pip install -U spacy "
   ]
  },
  {
   "cell_type": "code",
   "execution_count": 7,
   "id": "ba21fc72",
   "metadata": {},
   "outputs": [],
   "source": [
    "# pip install bs4"
   ]
  },
  {
   "cell_type": "code",
   "execution_count": 8,
   "id": "8314485e",
   "metadata": {},
   "outputs": [],
   "source": [
    "import urllib3\n",
    "from bs4 import BeautifulSoup "
   ]
  },
  {
   "cell_type": "code",
   "execution_count": 9,
   "id": "a2eb813b",
   "metadata": {},
   "outputs": [],
   "source": [
    "url = 'https://en.wikipedia.org/wiki/Natural_language_processing'\n",
    "http = urllib3.PoolManager()\n",
    "response = http.request('GET', url)\n",
    "html = response.data.decode('utf-8')"
   ]
  },
  {
   "cell_type": "code",
   "execution_count": 10,
   "id": "86a52be3",
   "metadata": {},
   "outputs": [],
   "source": [
    "# Extract clean text\n",
    "soup = BeautifulSoup(html, 'html.parser')\n",
    "text = soup.get_text()"
   ]
  },
  {
   "cell_type": "code",
   "execution_count": 11,
   "id": "f766b6d3",
   "metadata": {},
   "outputs": [],
   "source": [
    "# Save to file :\n",
    "with open('nlp_article.txt', 'w', encoding='utf-8') as f:\n",
    "    f.write(text)"
   ]
  },
  {
   "cell_type": "code",
   "execution_count": 12,
   "id": "2bbb0b6a",
   "metadata": {},
   "outputs": [
    {
     "name": "stdout",
     "output_type": "stream",
     "text": [
      "Saved as nlp_article.txt\n"
     ]
    }
   ],
   "source": [
    "print(\"Saved as nlp_article.txt\")"
   ]
  },
  {
   "cell_type": "code",
   "execution_count": 18,
   "id": "2ec05bea",
   "metadata": {},
   "outputs": [
    {
     "name": "stderr",
     "output_type": "stream",
     "text": [
      "[nltk_data] Downloading package punkt to\n",
      "[nltk_data]     C:\\Users\\dai.STUDENTSDC\\AppData\\Roaming\\nltk_data...\n",
      "[nltk_data]   Package punkt is already up-to-date!\n",
      "[nltk_data] Downloading package averaged_perceptron_tagger_eng to\n",
      "[nltk_data]     C:\\Users\\dai.STUDENTSDC\\AppData\\Roaming\\nltk_data...\n",
      "[nltk_data]   Unzipping taggers\\averaged_perceptron_tagger_eng.zip.\n"
     ]
    },
    {
     "data": {
      "text/plain": [
       "True"
      ]
     },
     "execution_count": 18,
     "metadata": {},
     "output_type": "execute_result"
    }
   ],
   "source": [
    "# ---------------\n",
    "# First : NLTK Benchmark\n",
    "# ---------------\n",
    "import nltk\n",
    "import time\n",
    "\n",
    "nltk.download('punkt')      # Download a punctuation model\n",
    "nltk.download('averaged_perceptron_tagger_eng')    # Download a POS Model \n"
   ]
  },
  {
   "cell_type": "code",
   "execution_count": 15,
   "id": "ae982969",
   "metadata": {},
   "outputs": [
    {
     "name": "stderr",
     "output_type": "stream",
     "text": [
      "[nltk_data] Downloading package punkt_tab to\n",
      "[nltk_data]     C:\\Users\\dai.STUDENTSDC\\AppData\\Roaming\\nltk_data...\n",
      "[nltk_data]   Unzipping tokenizers\\punkt_tab.zip.\n"
     ]
    },
    {
     "data": {
      "text/plain": [
       "True"
      ]
     },
     "execution_count": 15,
     "metadata": {},
     "output_type": "execute_result"
    }
   ],
   "source": [
    "nltk.download('punkt_tab')"
   ]
  },
  {
   "cell_type": "code",
   "execution_count": 19,
   "id": "eec98bc7",
   "metadata": {},
   "outputs": [
    {
     "name": "stdout",
     "output_type": "stream",
     "text": [
      "\n",
      " NLTK Time :  0.62 seconds\n",
      "\n",
      " NLTK Token Count:  9099\n"
     ]
    }
   ],
   "source": [
    "with open(\"nlp_article.txt\", encoding = 'utf-8') as f:\n",
    "    text = f.read()\n",
    "\n",
    "start = time.time()\n",
    "tokens_nltk = nltk.word_tokenize(text)\n",
    "pos_tags_nltk = nltk.pos_tag(tokens_nltk)\n",
    "end = time.time() \n",
    "\n",
    "print('\\n NLTK Time : ', round(end - start, 4), 'seconds')\n",
    "print('\\n NLTK Token Count: ', len(tokens_nltk))"
   ]
  },
  {
   "cell_type": "code",
   "execution_count": 20,
   "id": "adda4986",
   "metadata": {},
   "outputs": [],
   "source": [
    "# ------------------------------------------------\n",
    "# Then : spaCy Benchmark (with optimized pipeline)\n",
    "# ------------------------------------------------\n",
    "import spacy\n",
    "# Load only toeknizer + tagger (disable parser, ner for fairness)\n",
    "nlp = spacy.load('en_core_web_sm', disable= ['parser', 'ner'])"
   ]
  },
  {
   "cell_type": "code",
   "execution_count": null,
   "id": "68ecbbaa",
   "metadata": {},
   "outputs": [],
   "source": [
    "# !pip install spacy"
   ]
  },
  {
   "cell_type": "code",
   "execution_count": 21,
   "id": "40e065bc",
   "metadata": {},
   "outputs": [
    {
     "name": "stdout",
     "output_type": "stream",
     "text": [
      "\n",
      " SpaCy Time :  1.2022 seconds\n",
      "\n",
      " SpaCy Token Count:  10060\n"
     ]
    }
   ],
   "source": [
    "with open('nlp_article.txt', encoding='utf-8') as f:\n",
    "    text = f.read()\n",
    "\n",
    "start = time.time()\n",
    "doc = nlp(text)\n",
    "tokens_spacy = [token.text for token in doc]\n",
    "pos_tags_spacy = [(token.text, token.pos_) for token in doc]\n",
    "end = time.time() \n",
    "\n",
    "print('\\n SpaCy Time : ', round(end - start, 4), 'seconds')\n",
    "print('\\n SpaCy Token Count: ', len(tokens_spacy))"
   ]
  }
 ],
 "metadata": {
  "kernelspec": {
   "display_name": ".venv",
   "language": "python",
   "name": "python3"
  },
  "language_info": {
   "codemirror_mode": {
    "name": "ipython",
    "version": 3
   },
   "file_extension": ".py",
   "mimetype": "text/x-python",
   "name": "python",
   "nbconvert_exporter": "python",
   "pygments_lexer": "ipython3",
   "version": "3.13.2"
  }
 },
 "nbformat": 4,
 "nbformat_minor": 5
}
