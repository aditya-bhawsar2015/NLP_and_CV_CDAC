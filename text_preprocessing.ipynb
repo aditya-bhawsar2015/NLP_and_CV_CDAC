{
 "cells": [
  {
   "cell_type": "code",
   "execution_count": 1,
   "id": "e07cf82f",
   "metadata": {},
   "outputs": [
    {
     "name": "stdout",
     "output_type": "stream",
     "text": [
      "Punctuation characters:  !\"#$%&'()*+,-./:;<=>?@[\\]^_`{|}~\n"
     ]
    }
   ],
   "source": [
    "# Text cleaning/Preprocessing\n",
    "\n",
    "# Part 1 : Display punctuation characters\n",
    "import string\n",
    "print(\"Punctuation characters: \", string.punctuation)"
   ]
  },
  {
   "cell_type": "code",
   "execution_count": 2,
   "id": "429a1112",
   "metadata": {},
   "outputs": [
    {
     "name": "stdout",
     "output_type": "stream",
     "text": [
      "\n",
      "punctuation list: \n",
      "!\n",
      "\"\n",
      "#\n",
      "$\n",
      "%\n",
      "&\n",
      "'\n",
      "(\n",
      ")\n",
      "*\n",
      "+\n",
      ",\n",
      "-\n",
      ".\n",
      "/\n",
      ":\n",
      ";\n",
      "<\n",
      "=\n",
      ">\n",
      "?\n",
      "@\n",
      "[\n",
      "\\\n",
      "]\n",
      "^\n",
      "_\n",
      "`\n",
      "{\n",
      "|\n",
      "}\n",
      "~\n"
     ]
    }
   ],
   "source": [
    "# Part 2 : Remove newlines and punctuation characters\n",
    "# Sample text\n",
    "import nltk\n",
    "\n",
    "eu_definition = '''\n",
    "The European Union (EU) is a supranational political and economic union of 27 member states that are located primarily in Europe.[9][10] \n",
    "The union has a total area of 4,233,255 km2 (1,634,469 sq mi) and an estimated population of over 449 million as of 2024. \n",
    "The EU is often described as a sui generis political entity combining characteristics of both a federation and a confederation.[11][12]\n",
    "\n",
    "Containing 5.5% of the world population in 2023,[13] EU member states generated a nominal gross domestic product (GDP) of around €17.935 trillion in 2024,\n",
    "accounting for approximately one sixth of global economic output.[14] \n",
    "Its cornerstone, the Customs Union, paved the way to establishing an internal single market based on standardised legal framework and legislation that applies in all member states in\n",
    "those matters, and only those matters, where the states have agreed to act as one. EU policies aim to ensure the free movement of people, goods, services and capital within\n",
    "the internal market;[15] enact legislation in justice and home affairs; and maintain common policies on trade,[16] agriculture,[17] fisheries and regional development.[18] \n",
    "Passport controls have been abolished for travel within the Schengen Area.[19] The eurozone is a group composed of the 20 EU member states that have fully implemented the EU's \n",
    "economic and monetary union and use the euro currency. Through the Common Foreign and Security Policy, the union has developed a role in external relations and defence.\n",
    "It maintains permanent diplomatic missions throughout the world and represents itself at the United Nations, the World Trade Organization, the G7 and the G20.\n",
    "Due to its global influence, the European Union has been described by some scholars as an emerging superpower.[20][21][22][needs update]\n",
    "'''\n",
    "\n",
    "eu_definition = eu_definition.replace('\\n', ' ')  # Remove newlines\n",
    "\n",
    "# First print all punctuations\n",
    "print(\"\\npunctuation list: \")\n",
    "for punct in string.punctuation:\n",
    "    print(punct)"
   ]
  },
  {
   "cell_type": "code",
   "execution_count": 3,
   "id": "b9f75805",
   "metadata": {},
   "outputs": [
    {
     "name": "stdout",
     "output_type": "stream",
     "text": [
      "\n",
      "Text without punctuation: \n",
      " The European Union EU is a supranational political and economic union of 27 member states that are located primarily in Europe910  The union has a total area of 4233255 km2 1634469 sq mi and an estimated population of over 449 million as of 2024  The EU is often described as a sui generis political entity combining characteristics of both a federation and a confederation1112  Containing 55 of the world population in 202313 EU member states generated a nominal gross domestic product GDP of around €17935 trillion in 2024 accounting for approximately one sixth of global economic output14  Its cornerstone the Customs Union paved the way to establishing an internal single market based on standardised legal framework and legislation that applies in all member states in those matters and only those matters where the states have agreed to act as one EU policies aim to ensure the free movement of people goods services and capital within the internal market15 enact legislation in justice and home affairs and maintain common policies on trade16 agriculture17 fisheries and regional development18  Passport controls have been abolished for travel within the Schengen Area19 The eurozone is a group composed of the 20 EU member states that have fully implemented the EUs  economic and monetary union and use the euro currency Through the Common Foreign and Security Policy the union has developed a role in external relations and defence It maintains permanent diplomatic missions throughout the world and represents itself at the United Nations the World Trade Organization the G7 and the G20 Due to its global influence the European Union has been described by some scholars as an emerging superpower202122needs update \n"
     ]
    }
   ],
   "source": [
    "# Now apply to our text\n",
    "\n",
    "for punct in string.punctuation:\n",
    "    eu_definition = eu_definition.replace(punct, '')\n",
    "print(\"\\nText without punctuation: \")    \n",
    "print(eu_definition)    # The text is now somewhat confusing"
   ]
  },
  {
   "cell_type": "code",
   "execution_count": 4,
   "id": "7266c614",
   "metadata": {},
   "outputs": [
    {
     "name": "stdout",
     "output_type": "stream",
     "text": [
      "\n",
      "Lowercased test: \n",
      " the european union eu is a supranational political and economic union of 27 member states that are located primarily in europe910  the union has a total area of 4233255 km2 1634469 sq mi and an estimated population of over 449 million as of 2024  the eu is often described as a sui generis political entity combining characteristics of both a federation and a confederation1112  containing 55 of the world population in 202313 eu member states generated a nominal gross domestic product gdp of around €17935 trillion in 2024 accounting for approximately one sixth of global economic output14  its cornerstone the customs union paved the way to establishing an internal single market based on standardised legal framework and legislation that applies in all member states in those matters and only those matters where the states have agreed to act as one eu policies aim to ensure the free movement of people goods services and capital within the internal market15 enact legislation in justice and home affairs and maintain common policies on trade16 agriculture17 fisheries and regional development18  passport controls have been abolished for travel within the schengen area19 the eurozone is a group composed of the 20 eu member states that have fully implemented the eus  economic and monetary union and use the euro currency through the common foreign and security policy the union has developed a role in external relations and defence it maintains permanent diplomatic missions throughout the world and represents itself at the united nations the world trade organization the g7 and the g20 due to its global influence the european union has been described by some scholars as an emerging superpower202122needs update \n"
     ]
    }
   ],
   "source": [
    "# Another common preprocessing step\n",
    "eu_definition = eu_definition.lower()\n",
    "print(\"\\nLowercased test: \")\n",
    "print(eu_definition)"
   ]
  },
  {
   "cell_type": "code",
   "execution_count": 5,
   "id": "421f5ebb",
   "metadata": {},
   "outputs": [
    {
     "name": "stdout",
     "output_type": "stream",
     "text": [
      "\n",
      "Tokenized text : \n",
      "['the', 'european', 'union', 'eu', 'is', 'a', 'supranational', 'political', 'and', 'economic', 'union', 'of', '27', 'member', 'states', 'that', 'are', 'located', 'primarily', 'in', 'europe910', 'the', 'union', 'has', 'a', 'total', 'area', 'of', '4233255', 'km2', '1634469', 'sq', 'mi', 'and', 'an', 'estimated', 'population', 'of', 'over', '449', 'million', 'as', 'of', '2024', 'the', 'eu', 'is', 'often', 'described', 'as', 'a', 'sui', 'generis', 'political', 'entity', 'combining', 'characteristics', 'of', 'both', 'a', 'federation', 'and', 'a', 'confederation1112', 'containing', '55', 'of', 'the', 'world', 'population', 'in', '202313', 'eu', 'member', 'states', 'generated', 'a', 'nominal', 'gross', 'domestic', 'product', 'gdp', 'of', 'around', '€17935', 'trillion', 'in', '2024', 'accounting', 'for', 'approximately', 'one', 'sixth', 'of', 'global', 'economic', 'output14', 'its', 'cornerstone', 'the', 'customs', 'union', 'paved', 'the', 'way', 'to', 'establishing', 'an', 'internal', 'single', 'market', 'based', 'on', 'standardised', 'legal', 'framework', 'and', 'legislation', 'that', 'applies', 'in', 'all', 'member', 'states', 'in', 'those', 'matters', 'and', 'only', 'those', 'matters', 'where', 'the', 'states', 'have', 'agreed', 'to', 'act', 'as', 'one', 'eu', 'policies', 'aim', 'to', 'ensure', 'the', 'free', 'movement', 'of', 'people', 'goods', 'services', 'and', 'capital', 'within', 'the', 'internal', 'market15', 'enact', 'legislation', 'in', 'justice', 'and', 'home', 'affairs', 'and', 'maintain', 'common', 'policies', 'on', 'trade16', 'agriculture17', 'fisheries', 'and', 'regional', 'development18', 'passport', 'controls', 'have', 'been', 'abolished', 'for', 'travel', 'within', 'the', 'schengen', 'area19', 'the', 'eurozone', 'is', 'a', 'group', 'composed', 'of', 'the', '20', 'eu', 'member', 'states', 'that', 'have', 'fully', 'implemented', 'the', 'eus', 'economic', 'and', 'monetary', 'union', 'and', 'use', 'the', 'euro', 'currency', 'through', 'the', 'common', 'foreign', 'and', 'security', 'policy', 'the', 'union', 'has', 'developed', 'a', 'role', 'in', 'external', 'relations', 'and', 'defence', 'it', 'maintains', 'permanent', 'diplomatic', 'missions', 'throughout', 'the', 'world', 'and', 'represents', 'itself', 'at', 'the', 'united', 'nations', 'the', 'world', 'trade', 'organization', 'the', 'g7', 'and', 'the', 'g20', 'due', 'to', 'its', 'global', 'influence', 'the', 'european', 'union', 'has', 'been', 'described', 'by', 'some', 'scholars', 'as', 'an', 'emerging', 'superpower202122needs', 'update']\n"
     ]
    }
   ],
   "source": [
    "# Now tokenize\n",
    "tokenized_eu_definition = nltk.tokenize.word_tokenize(eu_definition)\n",
    "print(\"\\nTokenized text : \")\n",
    "print(tokenized_eu_definition)"
   ]
  },
  {
   "cell_type": "code",
   "execution_count": 6,
   "id": "615e3877",
   "metadata": {},
   "outputs": [
    {
     "name": "stdout",
     "output_type": "stream",
     "text": [
      "\n",
      "First 10 tokens: \n",
      "['the', 'european', 'union', 'eu', 'is', 'a', 'supranational', 'political', 'and', 'economic']\n"
     ]
    }
   ],
   "source": [
    "# Print first 10 tokens\n",
    "print(\"\\nFirst 10 tokens: \")\n",
    "print(tokenized_eu_definition[0:10])\n",
    "\n",
    "# Frequency distribution\n",
    "from pprint import pprint"
   ]
  },
  {
   "cell_type": "code",
   "execution_count": 7,
   "id": "e729c0eb",
   "metadata": {},
   "outputs": [
    {
     "name": "stdout",
     "output_type": "stream",
     "text": [
      "\n",
      "Top 20 most common tokens : \n",
      "[('the', 22),\n",
      " ('and', 15),\n",
      " ('of', 10),\n",
      " ('a', 8),\n",
      " ('union', 7),\n",
      " ('in', 7),\n",
      " ('eu', 5),\n",
      " ('states', 5),\n",
      " ('member', 4),\n",
      " ('as', 4),\n",
      " ('to', 4),\n",
      " ('is', 3),\n",
      " ('economic', 3),\n",
      " ('that', 3),\n",
      " ('has', 3),\n",
      " ('an', 3),\n",
      " ('world', 3),\n",
      " ('have', 3),\n",
      " ('european', 2),\n",
      " ('political', 2)]\n"
     ]
    }
   ],
   "source": [
    "# Top 20 tokens\n",
    "from pprint import pprint\n",
    "\n",
    "from nltk.probability import FreqDist\n",
    "print(\"\\nTop 20 most common tokens : \")\n",
    "fdist = FreqDist(tokenized_eu_definition)\n",
    "top_tokens = fdist.most_common(20)\n",
    "pprint(top_tokens)"
   ]
  },
  {
   "cell_type": "code",
   "execution_count": null,
   "id": "0a0f78a5",
   "metadata": {},
   "outputs": [],
   "source": []
  }
 ],
 "metadata": {
  "kernelspec": {
   "display_name": ".venv",
   "language": "python",
   "name": "python3"
  },
  "language_info": {
   "codemirror_mode": {
    "name": "ipython",
    "version": 3
   },
   "file_extension": ".py",
   "mimetype": "text/x-python",
   "name": "python",
   "nbconvert_exporter": "python",
   "pygments_lexer": "ipython3",
   "version": "3.13.2"
  }
 },
 "nbformat": 4,
 "nbformat_minor": 5
}
