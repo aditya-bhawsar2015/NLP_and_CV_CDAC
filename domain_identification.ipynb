{
 "cells": [
  {
   "cell_type": "code",
   "execution_count": 1,
   "id": "aa6214f6",
   "metadata": {},
   "outputs": [
    {
     "name": "stderr",
     "output_type": "stream",
     "text": [
      "d:\\workspace\\NLP_CV\\.venv\\Lib\\site-packages\\tqdm\\auto.py:21: TqdmWarning: IProgress not found. Please update jupyter and ipywidgets. See https://ipywidgets.readthedocs.io/en/stable/user_install.html\n",
      "  from .autonotebook import tqdm as notebook_tqdm\n"
     ]
    }
   ],
   "source": [
    "# Domain identification\n",
    "from transformers import pipeline"
   ]
  },
  {
   "cell_type": "code",
   "execution_count": 7,
   "id": "b5a9f5dd",
   "metadata": {},
   "outputs": [
    {
     "name": "stderr",
     "output_type": "stream",
     "text": [
      "Device set to use cpu\n"
     ]
    },
    {
     "name": "stdout",
     "output_type": "stream",
     "text": [
      "Predicted Domain : sports (Confidence : 0.97)\n"
     ]
    }
   ],
   "source": [
    "# Load zero-shot classification model\n",
    "# A zero-shot classification model is an NLP Model that can classify text into categories without having been explicitly trained on those categories. It relies on natural Language Inference (NLI) and semantic understanding to predict whether a given label is relevant to text.\n",
    "classifier = pipeline(\"zero-shot-classification\", model=\"facebook/bart-large-mnli\")\n",
    "\n",
    "# Define text and possible domains\n",
    "text = \"Ronaldo scored 3 goals in yesterday's football match against Japan.\"\n",
    "candidate_labels = ['technology', 'sports', 'finance', 'health', 'education']\n",
    "\n",
    "# Perform classification\n",
    "result = classifier(text, candidate_labels)\n",
    "\n",
    "# print the predicted domain\n",
    "print(f\"Predicted Domain : {result['labels'][0]} (Confidence : {result['scores'][0]:.2f})\")"
   ]
  },
  {
   "cell_type": "code",
   "execution_count": 8,
   "id": "c0101d28",
   "metadata": {},
   "outputs": [
    {
     "name": "stdout",
     "output_type": "stream",
     "text": [
      "Top 3 Predicted Domains: \n",
      "family : 0.64\n",
      "personal : 0.28\n",
      "psychology : 0.05\n"
     ]
    }
   ],
   "source": [
    "# Another try\n",
    "# Define text and posible domain\n",
    "text = \"I live in a happy place with 5 of my friends.\" \n",
    "candidate_labels = ['psychology', 'medicine', 'pharma', 'personal', 'family']\n",
    "\n",
    "result = classifier(text, candidate_labels)\n",
    "\n",
    "# print the top 3 predicted domains with confidence scores:\n",
    "print(\"Top 3 Predicted Domains: \")\n",
    "for label, score in zip(result['labels'][:3], result['scores'][:3]):\n",
    "    print(f\"{label} : {score:.2f}\")"
   ]
  },
  {
   "cell_type": "code",
   "execution_count": null,
   "id": "a74e6ee4",
   "metadata": {},
   "outputs": [],
   "source": []
  }
 ],
 "metadata": {
  "kernelspec": {
   "display_name": ".venv",
   "language": "python",
   "name": "python3"
  },
  "language_info": {
   "codemirror_mode": {
    "name": "ipython",
    "version": 3
   },
   "file_extension": ".py",
   "mimetype": "text/x-python",
   "name": "python",
   "nbconvert_exporter": "python",
   "pygments_lexer": "ipython3",
   "version": "3.13.2"
  }
 },
 "nbformat": 4,
 "nbformat_minor": 5
}
