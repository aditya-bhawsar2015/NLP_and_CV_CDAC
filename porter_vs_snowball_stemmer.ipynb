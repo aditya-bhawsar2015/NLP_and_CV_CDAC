{
 "cells": [
  {
   "cell_type": "code",
   "execution_count": 1,
   "id": "d9ac33fe",
   "metadata": {},
   "outputs": [],
   "source": [
    "# Porter vs Snowball Stemmer\n",
    "from nltk.stem import PorterStemmer\n",
    "from nltk.stem import SnowballStemmer\n",
    "\n",
    "porterStemmer = PorterStemmer()\n",
    "snowballStemmer = SnowballStemmer('english')"
   ]
  },
  {
   "cell_type": "code",
   "execution_count": 2,
   "id": "51b4fdb0",
   "metadata": {},
   "outputs": [
    {
     "name": "stdout",
     "output_type": "stream",
     "text": [
      "PorterStemmer : fairli, sportingli\n",
      "SnowbalStemmer : fair, sport\n",
      "PorterStemmer : go\n",
      "SnowballStemmer : go\n"
     ]
    }
   ],
   "source": [
    "print(f\"PorterStemmer : {porterStemmer.stem('fairly')}, {porterStemmer.stem('sportingly')}\")\n",
    "print(f\"SnowbalStemmer : {snowballStemmer.stem('fairly')}, {snowballStemmer.stem('sportingly')}\")\n",
    "\n",
    "print(f\"PorterStemmer : {porterStemmer.stem('going')}\")\n",
    "print(f\"SnowballStemmer : {snowballStemmer.stem('going')}\")"
   ]
  }
 ],
 "metadata": {
  "kernelspec": {
   "display_name": ".venv",
   "language": "python",
   "name": "python3"
  },
  "language_info": {
   "codemirror_mode": {
    "name": "ipython",
    "version": 3
   },
   "file_extension": ".py",
   "mimetype": "text/x-python",
   "name": "python",
   "nbconvert_exporter": "python",
   "pygments_lexer": "ipython3",
   "version": "3.13.2"
  }
 },
 "nbformat": 4,
 "nbformat_minor": 5
}
