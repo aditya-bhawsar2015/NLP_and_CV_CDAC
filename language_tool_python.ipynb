{
 "cells": [
  {
   "cell_type": "code",
   "execution_count": 1,
   "id": "fee3494b",
   "metadata": {},
   "outputs": [
    {
     "name": "stdout",
     "output_type": "stream",
     "text": [
      "Requirement already satisfied: language_tool_python in d:\\workspace\\nlp_cv\\.venv\\lib\\site-packages (2.9.4)\n",
      "Requirement already satisfied: requests in d:\\workspace\\nlp_cv\\.venv\\lib\\site-packages (from language_tool_python) (2.32.3)\n",
      "Requirement already satisfied: tqdm in d:\\workspace\\nlp_cv\\.venv\\lib\\site-packages (from language_tool_python) (4.67.1)\n",
      "Requirement already satisfied: psutil in d:\\workspace\\nlp_cv\\.venv\\lib\\site-packages (from language_tool_python) (7.0.0)\n",
      "Requirement already satisfied: toml in d:\\workspace\\nlp_cv\\.venv\\lib\\site-packages (from language_tool_python) (0.10.2)\n",
      "Requirement already satisfied: charset-normalizer<4,>=2 in d:\\workspace\\nlp_cv\\.venv\\lib\\site-packages (from requests->language_tool_python) (3.4.2)\n",
      "Requirement already satisfied: idna<4,>=2.5 in d:\\workspace\\nlp_cv\\.venv\\lib\\site-packages (from requests->language_tool_python) (3.10)\n",
      "Requirement already satisfied: urllib3<3,>=1.21.1 in d:\\workspace\\nlp_cv\\.venv\\lib\\site-packages (from requests->language_tool_python) (2.4.0)\n",
      "Requirement already satisfied: certifi>=2017.4.17 in d:\\workspace\\nlp_cv\\.venv\\lib\\site-packages (from requests->language_tool_python) (2025.4.26)\n",
      "Requirement already satisfied: colorama in d:\\workspace\\nlp_cv\\.venv\\lib\\site-packages (from tqdm->language_tool_python) (0.4.6)\n",
      "Note: you may need to restart the kernel to use updated packages.\n"
     ]
    }
   ],
   "source": [
    "# Grammar check tool : No NLTK native support, need an external library\n",
    "%pip install language_tool_python\n",
    "import language_tool_python"
   ]
  },
  {
   "cell_type": "code",
   "execution_count": 7,
   "id": "10ecd53a",
   "metadata": {},
   "outputs": [
    {
     "name": "stdout",
     "output_type": "stream",
     "text": [
      "Issue : Possible agreement error — use the base form here.\n",
      "Suggestion: ['come']\n"
     ]
    }
   ],
   "source": [
    "# Load English grammar checking\n",
    "tool = language_tool_python.LanguageTool('en')\n",
    "\n",
    "# Check grammar\n",
    "text = \"I comes to C-DAC every day\"\n",
    "matches = tool.check(text)\n",
    "\n",
    "# Print grammar mistakes\n",
    "for match in matches:\n",
    "    print(f\"Issue : {match.message}\")\n",
    "    print(f\"Suggestion: {match.replacements}\")"
   ]
  },
  {
   "cell_type": "code",
   "execution_count": null,
   "id": "4f5ce717",
   "metadata": {},
   "outputs": [],
   "source": []
  }
 ],
 "metadata": {
  "kernelspec": {
   "display_name": ".venv",
   "language": "python",
   "name": "python3"
  },
  "language_info": {
   "codemirror_mode": {
    "name": "ipython",
    "version": 3
   },
   "file_extension": ".py",
   "mimetype": "text/x-python",
   "name": "python",
   "nbconvert_exporter": "python",
   "pygments_lexer": "ipython3",
   "version": "3.13.2"
  }
 },
 "nbformat": 4,
 "nbformat_minor": 5
}
